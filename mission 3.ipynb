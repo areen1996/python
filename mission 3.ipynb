{
 "cells": [
  {
   "cell_type": "markdown",
   "metadata": {},
   "source": [
    "Reverse a given number loops and equations and return true if it is the same as the original number"
   ]
  },
  {
   "cell_type": "code",
   "execution_count": 9,
   "metadata": {},
   "outputs": [
    {
     "name": "stdout",
     "output_type": "stream",
     "text": [
      "2654\n"
     ]
    }
   ],
   "source": [
    "n = 4562\n",
    "rev = 0\n",
    "while(n > 0): \n",
    "    a = n % 10\n",
    "    rev = rev * 10 + a \n",
    "    n = n // 10\n",
    "print(rev) "
   ]
  },
  {
   "cell_type": "markdown",
   "metadata": {},
   "source": [
    "Write a Python program to remove the nth index character from a nonempty string. "
   ]
  },
  {
   "cell_type": "code",
   "execution_count": 12,
   "metadata": {},
   "outputs": [
    {
     "name": "stdout",
     "output_type": "stream",
     "text": [
      "Enter the sring:dfgfdghfgh\n",
      "Enter the index of the character to remove:5\n",
      "Modified string:\n",
      "dfgfdhfgh\n"
     ]
    }
   ],
   "source": [
    "def remove(string, n):  \n",
    "    first = string[:n]   \n",
    "    last = string[n+1:]   \n",
    "    return first + last\n",
    "string=input(\"Enter the sring:\")\n",
    "n=int(input(\"Enter the index of the character to remove:\"))\n",
    "print(\"Modified string:\")\n",
    "print(remove(string, n))"
   ]
  },
  {
   "cell_type": "markdown",
   "metadata": {},
   "source": [
    " Write a Python program to calculate the length of a string."
   ]
  },
  {
   "cell_type": "code",
   "execution_count": 13,
   "metadata": {},
   "outputs": [
    {
     "name": "stdout",
     "output_type": "stream",
     "text": [
      "14\n"
     ]
    }
   ],
   "source": [
    " def string_length(str1):\n",
    "    count = 0\n",
    "    for char in str1:\n",
    "        count += 1\n",
    "    return count\n",
    "print(string_length('w3resource.com'))"
   ]
  },
  {
   "cell_type": "markdown",
   "metadata": {},
   "source": [
    " loop over a string and each time delete the last two character until no characters left. "
   ]
  },
  {
   "cell_type": "code",
   "execution_count": 15,
   "metadata": {},
   "outputs": [
    {
     "name": "stdout",
     "output_type": "stream",
     "text": [
      "The original string is : GeeksForGeeks\n",
      "The string after removal of i'th character : GeksForGeeks\n"
     ]
    }
   ],
   "source": [
    "test_str = \"GeeksForGeeks\"\n",
    "print (\"The original string is : \" + test_str) \n",
    "new_str = \"\" \n",
    "for i in range(0, len(test_str)): \n",
    "    if i != 2: \n",
    "        new_str = new_str + test_str[i]  \n",
    "print (\"The string after removal of i'th character : \" + new_str) "
   ]
  },
  {
   "cell_type": "markdown",
   "metadata": {},
   "source": [
    "Write a Python program to create a string contains the unique characters in a string. "
   ]
  },
  {
   "cell_type": "code",
   "execution_count": 16,
   "metadata": {},
   "outputs": [
    {
     "name": "stdout",
     "output_type": "stream",
     "text": [
      "True\n"
     ]
    }
   ],
   "source": [
    "def isUniqueChars(st):\n",
    "    if len(st) > 256: \n",
    "        return False\n",
    "    char_set = [False] * 128\n",
    "    for i in range(0, len(st)): \n",
    "        val = ord(st[i]) \n",
    "        if char_set[val]: \n",
    "            return False\n",
    "  \n",
    "        char_set[val] = True\n",
    "  \n",
    "    return True\n",
    "st = \"abcd\"\n",
    "print(isUniqueChars(st)) "
   ]
  },
  {
   "cell_type": "markdown",
   "metadata": {},
   "source": [
    "WriteaPythonprogramtocountthenumberofoccurrencesofcharacters(characterfrequency) in a string. "
   ]
  },
  {
   "cell_type": "code",
   "execution_count": 17,
   "metadata": {},
   "outputs": [
    {
     "name": "stdout",
     "output_type": "stream",
     "text": [
      "{'g': 2, 'o': 3, 'l': 1, 'e': 1, '.': 1, 'c': 1, 'm': 1}\n"
     ]
    }
   ],
   "source": [
    "def char_frequency(str1):\n",
    "    dict = {}\n",
    "    for n in str1:\n",
    "        keys = dict.keys()\n",
    "        if n in keys:\n",
    "            dict[n] += 1\n",
    "        else:\n",
    "            dict[n] = 1\n",
    "    return dict\n",
    "print(char_frequency('google.com'))"
   ]
  },
  {
   "cell_type": "markdown",
   "metadata": {},
   "source": [
    " Write a Python program to get a string made of the first 2 and the last 2 chars from a given a string. If the string length is less than 2, return instead of the empty string. "
   ]
  },
  {
   "cell_type": "code",
   "execution_count": 20,
   "metadata": {},
   "outputs": [
    {
     "name": "stdout",
     "output_type": "stream",
     "text": [
      "w3ce\n",
      "w3w3\n",
      "\n"
     ]
    }
   ],
   "source": [
    "def string_both_ends(str):\n",
    "    if len(str) < 2:\n",
    "        return ''\n",
    "\n",
    "    return str[0:2] + str[-2:]\n",
    "\n",
    "print(string_both_ends('w3resource'))\n",
    "print(string_both_ends('w3'))\n",
    "print(string_both_ends('w'))"
   ]
  },
  {
   "cell_type": "markdown",
   "metadata": {},
   "source": [
    " Write a Python program to get a string from a given string where all occurrences of its first char have been changed to ’$’, except the first char itself. "
   ]
  },
  {
   "cell_type": "code",
   "execution_count": 21,
   "metadata": {},
   "outputs": [
    {
     "name": "stdout",
     "output_type": "stream",
     "text": [
      "resta$t\n"
     ]
    }
   ],
   "source": [
    "def change_char(str1):\n",
    "    char = str1[0]\n",
    "    str1 = str1.replace(char, '$')\n",
    "    str1 = char + str1[1:]\n",
    "\n",
    "    return str1\n",
    "\n",
    "print(change_char('restart'))"
   ]
  },
  {
   "cell_type": "markdown",
   "metadata": {},
   "source": [
    "Write a Python program that takes a string split it into list of words and returns the length of each one."
   ]
  },
  {
   "cell_type": "code",
   "execution_count": 22,
   "metadata": {},
   "outputs": [
    {
     "name": "stdout",
     "output_type": "stream",
     "text": [
      "Exercises\n"
     ]
    }
   ],
   "source": [
    "def find_longest_word(words_list):\n",
    "    word_len = []\n",
    "    for n in words_list:\n",
    "        word_len.append((len(n), n))\n",
    "    word_len.sort()\n",
    "    return word_len[-1][1]\n",
    "\n",
    "print(find_longest_word([\"PHP\", \"Exercises\", \"Backend\"]))"
   ]
  },
  {
   "cell_type": "markdown",
   "metadata": {},
   "source": [
    "Write a Python program to check whether a string starts with specified characters. "
   ]
  },
  {
   "cell_type": "code",
   "execution_count": 23,
   "metadata": {},
   "outputs": [
    {
     "name": "stdout",
     "output_type": "stream",
     "text": [
      "True\n"
     ]
    }
   ],
   "source": [
    "string = \"w3resource.com\"\n",
    "print(string.startswith(\"w3r\"))"
   ]
  },
  {
   "cell_type": "markdown",
   "metadata": {},
   "source": [
    " Write a Python program to get the last part of a string before a specified character. Sample Input: yazeed.name/python-exercises Sample Output: yazeed.name/python"
   ]
  },
  {
   "cell_type": "code",
   "execution_count": 24,
   "metadata": {},
   "outputs": [
    {
     "name": "stdout",
     "output_type": "stream",
     "text": [
      "https://www.w3resource.com/python-exercises\n",
      "https://www.w3resource.com/python\n"
     ]
    }
   ],
   "source": [
    "str1 = 'https://www.w3resource.com/python-exercises/string'\n",
    "print(str1.rsplit('/', 1)[0])\n",
    "print(str1.rsplit('-', 1)[0])"
   ]
  },
  {
   "cell_type": "markdown",
   "metadata": {},
   "source": [
    " Write a Python program to display a number with a comma separator between every 3 digits. SampleInput: 1240010 SampleOutput: 124,001,0 "
   ]
  },
  {
   "cell_type": "code",
   "execution_count": 25,
   "metadata": {},
   "outputs": [
    {
     "name": "stdout",
     "output_type": "stream",
     "text": [
      "\n",
      "Original Number:  3000000\n",
      "Formatted Number with comma separator: 3,000,000\n",
      "Original Number:  30000000\n",
      "Formatted Number with comma separator: 30,000,000\n",
      "\n"
     ]
    }
   ],
   "source": [
    "x = 3000000\n",
    "y = 30000000\n",
    "print(\"\\nOriginal Number: \", x)\n",
    "print(\"Formatted Number with comma separator: \"+\"{:,}\".format(x));\n",
    "print(\"Original Number: \", y)\n",
    "print(\"Formatted Number with comma separator: \"+\"{:,}\".format(y));\n",
    "print()"
   ]
  },
  {
   "cell_type": "markdown",
   "metadata": {},
   "source": [
    "Write a Python program to strip a set of characters from both sides of a string."
   ]
  },
  {
   "cell_type": "code",
   "execution_count": 26,
   "metadata": {},
   "outputs": [
    {
     "name": "stdout",
     "output_type": "stream",
     "text": [
      "\n",
      "Original String: \n",
      "The quick brown fox jumps over the lazy dog.\n",
      "After stripping a,e,i,o,u\n",
      "Th qck brwn fx jmps vr th lzy dg.\n",
      "\n"
     ]
    }
   ],
   "source": [
    "def strip_chars(str, chars):\n",
    "    return \"\".join(c for c in str if c not in chars)\n",
    "\n",
    "print(\"\\nOriginal String: \")\n",
    "print(\"The quick brown fox jumps over the lazy dog.\")\n",
    "print(\"After stripping a,e,i,o,u\")      \n",
    "print(strip_chars(\"The quick brown fox jumps over the lazy dog.\", \"aeiou\"))\n",
    "print()"
   ]
  },
  {
   "cell_type": "markdown",
   "metadata": {},
   "source": [
    " Write a Python program to swap comma and dot in a string. Sample string: ”32.054,23” Expected Output: ”32,054.23” "
   ]
  },
  {
   "cell_type": "code",
   "execution_count": 27,
   "metadata": {},
   "outputs": [
    {
     "name": "stdout",
     "output_type": "stream",
     "text": [
      "32,054.23\n"
     ]
    }
   ],
   "source": [
    "amount = \"32.054,23\"\n",
    "maketrans = amount.maketrans\n",
    "amount = amount.translate(maketrans(',.', '.,'))\n",
    "print(amount)"
   ]
  },
  {
   "cell_type": "markdown",
   "metadata": {},
   "source": [
    "Write a Python program to find the second most repeated word in a given string."
   ]
  },
  {
   "cell_type": "code",
   "execution_count": 28,
   "metadata": {},
   "outputs": [
    {
     "name": "stdout",
     "output_type": "stream",
     "text": [
      "('of', 4)\n"
     ]
    }
   ],
   "source": [
    "def word_count(str):\n",
    "    counts = dict()\n",
    "    words = str.split()\n",
    "\n",
    "    for word in words:\n",
    "        if word in counts:\n",
    "            counts[word] += 1\n",
    "        else:\n",
    "            counts[word] = 1\n",
    "\n",
    "    counts_x = sorted(counts.items(), key=lambda kv: kv[1])\n",
    "    #print(counts_x)\n",
    "    return counts_x[-2]\n",
    " \n",
    "print(word_count(\"Both of these issues are fixed by postponing the evaluation of annotations. Instead of compiling code which executes expressions in annotations at their definition time, the compiler stores the annotation in a string form equivalent to the AST of the expression in question. If needed, annotations can be resolved at runtime using typing.get_type_hints(). In the common case where this is not required, the annotations are cheaper to store (since short strings are interned by the interpreter) and make startup time faster.\"))"
   ]
  },
  {
   "cell_type": "markdown",
   "metadata": {},
   "source": [
    "Write a Python program to capitalize first and last letters of each word of a given string. "
   ]
  },
  {
   "cell_type": "code",
   "execution_count": 29,
   "metadata": {},
   "outputs": [
    {
     "name": "stdout",
     "output_type": "stream",
     "text": [
      "PythoN\n",
      "W3ResourcE\n"
     ]
    }
   ],
   "source": [
    "def capitalize_first_last_letters(str1):\n",
    "    str1 = result = str1.title()\n",
    "    result =  \"\"\n",
    "    for word in str1.split():\n",
    "        result += word[:-1] + word[-1].upper() + \" \"\n",
    "        return result[:-1]  \n",
    "     \n",
    "print(capitalize_first_last_letters(\"python exercises practice solution\"))\n",
    "print(capitalize_first_last_letters(\"w3resource\"))"
   ]
  },
  {
   "cell_type": "markdown",
   "metadata": {},
   "source": [
    " Write a Python program that takes a string, split it into list of words, and returns the length of the longest one. "
   ]
  },
  {
   "cell_type": "code",
   "execution_count": 30,
   "metadata": {},
   "outputs": [
    {
     "name": "stdout",
     "output_type": "stream",
     "text": [
      "Exercises\n"
     ]
    }
   ],
   "source": [
    "def find_longest_word(words_list):\n",
    "    word_len = []\n",
    "    for n in words_list:\n",
    "        word_len.append((len(n), n))\n",
    "    word_len.sort()\n",
    "    return word_len[-1][1]\n",
    "\n",
    "print(find_longest_word([\"PHP\", \"Exercises\", \"Backend\"]))"
   ]
  },
  {
   "cell_type": "markdown",
   "metadata": {},
   "source": [
    "Write a Python program to remove a newline in the beginning and ending of a string."
   ]
  },
  {
   "cell_type": "code",
   "execution_count": 31,
   "metadata": {},
   "outputs": [
    {
     "name": "stdout",
     "output_type": "stream",
     "text": [
      "Python Exercises\n",
      "\n",
      "Python Exercises\n"
     ]
    }
   ],
   "source": [
    "str1='Python Exercises\\n'\n",
    "print(str1)\n",
    "print(str1.rstrip())"
   ]
  },
  {
   "cell_type": "markdown",
   "metadata": {},
   "source": [
    "Write a Python program to sort a string lexicographically"
   ]
  },
  {
   "cell_type": "code",
   "execution_count": 32,
   "metadata": {},
   "outputs": [
    {
     "name": "stdout",
     "output_type": "stream",
     "text": [
      "['3', 'c', 'e', 'e', 'o', 'r', 'r', 's', 'u', 'w']\n",
      "['b', 'c', 'i', 'k', 'n', 'o', 'q', 'r', 'u', 'w']\n"
     ]
    }
   ],
   "source": [
    "def lexicographi_sort(s):\n",
    "    return sorted(sorted(s), key=str.upper)\n",
    "\n",
    "print(lexicographi_sort('w3resource'))\n",
    "print(lexicographi_sort('quickbrown'))"
   ]
  },
  {
   "cell_type": "markdown",
   "metadata": {},
   "source": [
    " Write a Python program to convert a given string to all uppercase if it contains at least 2 uppercase characters in the first 4 characters else convert it to lower case.\n"
   ]
  },
  {
   "cell_type": "code",
   "execution_count": 33,
   "metadata": {},
   "outputs": [
    {
     "name": "stdout",
     "output_type": "stream",
     "text": [
      "Python\n",
      "PYTHON\n"
     ]
    }
   ],
   "source": [
    "def to_uppercase(str1):\n",
    "    num_upper = 0\n",
    "    for letter in str1[:4]: \n",
    "        if letter.upper() == letter:\n",
    "            num_upper += 1\n",
    "    if num_upper >= 2:\n",
    "        return str1.upper()\n",
    "    return str1\n",
    "\n",
    "print(to_uppercase('Python'))\n",
    "print(to_uppercase('PyThon'))"
   ]
  },
  {
   "cell_type": "markdown",
   "metadata": {},
   "source": [
    " WriteaPythonprogramtogetastringmadeof4copiesofthelasttwocharactersofaspecified string (length must be at least 2). Sample function and result : insert_end(’Python’) : onononon insert_end(’Exercises’) : eseseses "
   ]
  },
  {
   "cell_type": "code",
   "execution_count": 44,
   "metadata": {},
   "outputs": [
    {
     "name": "stdout",
     "output_type": "stream",
     "text": [
      "enter string :areen\n",
      "areen enenenen\n"
     ]
    }
   ],
   "source": [
    "s=input(\"enter string :\")\n",
    "print(s,(s[-2:])*4)"
   ]
  },
  {
   "cell_type": "markdown",
   "metadata": {},
   "source": [
    "Write a Python program to create a Caesar cipher"
   ]
  },
  {
   "cell_type": "code",
   "execution_count": 45,
   "metadata": {},
   "outputs": [
    {
     "name": "stdout",
     "output_type": "stream",
     "text": [
      "\n",
      "['c']\n",
      "\n"
     ]
    }
   ],
   "source": [
    "def caesar_encrypt(realText, step):\n",
    "    outText = []\n",
    "    cryptText = []\n",
    "    uppercase = ['A', 'B', 'C', 'D', 'E', 'F', 'G', 'H', 'I', 'J', 'K', 'L', 'M', 'N', 'O', 'P', 'Q', 'R', 'S', 'T', 'U', 'V', 'W', 'X', 'Y', 'Z']\n",
    "    lowercase = ['a', 'b', 'c', 'd', 'e', 'f', 'g', 'h', 'i', 'j', 'k', 'l', 'm', 'n', 'o', 'p', 'q', 'r', 's', 't', 'u', 'v', 'w', 'x', 'y', 'z']\n",
    "\n",
    "    for eachLetter in realText:\n",
    "        if eachLetter in uppercase:\n",
    "            index = uppercase.index(eachLetter)\n",
    "            crypting = (index + step) % 26\n",
    "            cryptText.append(crypting)\n",
    "            newLetter = uppercase[crypting]\n",
    "            outText.append(newLetter)\n",
    "        elif eachLetter in lowercase:\n",
    "            index = lowercase.index(eachLetter)\n",
    "            crypting = (index + step) % 26\n",
    "            cryptText.append(crypting)\n",
    "            newLetter = lowercase[crypting]\n",
    "            outText.append(newLetter)\n",
    "        return outText\n",
    "\n",
    "code = caesar_encrypt('abc', 2)\n",
    "print()\n",
    "print(code)\n",
    "print()"
   ]
  },
  {
   "cell_type": "markdown",
   "metadata": {},
   "source": [
    " Write a Python program to check if a string contains all letters of the English alphabet. "
   ]
  },
  {
   "cell_type": "code",
   "execution_count": 47,
   "metadata": {},
   "outputs": [
    {
     "name": "stdout",
     "output_type": "stream",
     "text": [
      "True\n",
      "False\n"
     ]
    }
   ],
   "source": [
    "import string\n",
    "alphabet = set(string.ascii_lowercase)\n",
    "input_string = 'The quick brown fox jumps over the lazy dog'\n",
    "print(set(input_string.lower()) >= alphabet)\n",
    "input_string = 'The quick brown fox jumps over the lazy cat'\n",
    "print(set(input_string.lower()) >= alphabet)"
   ]
  },
  {
   "cell_type": "markdown",
   "metadata": {},
   "source": [
    "WriteaPythonprogramconvertingevenindexedcharacterstoupperandoddindexcharacters to lower. "
   ]
  },
  {
   "cell_type": "code",
   "execution_count": 48,
   "metadata": {},
   "outputs": [
    {
     "name": "stdout",
     "output_type": "stream",
     "text": [
      "ace\n",
      "pto\n"
     ]
    }
   ],
   "source": [
    "def odd_values_string(str):\n",
    "    result = \"\" \n",
    "    for i in range(len(str)):\n",
    "        if i % 2 == 0:\n",
    "            result = result + str[i]\n",
    "    return result\n",
    "\n",
    "print(odd_values_string('abcdef'))\n",
    "print(odd_values_string('python'))"
   ]
  },
  {
   "cell_type": "markdown",
   "metadata": {},
   "source": [
    "Write a Python program to create a string from two given strings concatenating uncommon characters of the two strings. "
   ]
  },
  {
   "cell_type": "code",
   "execution_count": 49,
   "metadata": {},
   "outputs": [
    {
     "name": "stdout",
     "output_type": "stream",
     "text": [
      "Original Substrings:\n",
      " abcdpqr\n",
      " xyzabcd\n",
      "\n",
      "After concatenating uncommon characters:\n",
      "pqrxyz\n"
     ]
    }
   ],
   "source": [
    "def uncommon_chars_concat(s1, s2):   \n",
    "    set1 = set(s1) \n",
    "    set2 = set(s2) \n",
    "  \n",
    "    common_chars = list(set1 & set2) \n",
    "    result = [ch for ch in s1 if ch not in common_chars] + [ch for ch in s2 if ch not in common_chars] \n",
    "    return(''.join(result))\n",
    "\n",
    "s1 = 'abcdpqr'\n",
    "s2 = 'xyzabcd'\n",
    "print(\"Original Substrings:\\n\",s1+\"\\n\",s2)\n",
    "print(\"\\nAfter concatenating uncommon characters:\")\n",
    "print(uncommon_chars_concat(s1, s2))"
   ]
  },
  {
   "cell_type": "markdown",
   "metadata": {},
   "source": [
    " Write a Python program to chick if a string is Palindrome."
   ]
  },
  {
   "cell_type": "code",
   "execution_count": 51,
   "metadata": {},
   "outputs": [
    {
     "name": "stdout",
     "output_type": "stream",
     "text": [
      "No\n"
     ]
    }
   ],
   "source": [
    "def isPalindrome(s): \n",
    "    rev = reversed(s) \n",
    "    if (s == rev): \n",
    "        return True\n",
    "    return False\n",
    "s = \"malayalam\"\n",
    "ans = isPalindrome(s) \n",
    "if ans == 1: \n",
    "    print(\"Yes\") \n",
    "else: \n",
    "    print(\"No\") "
   ]
  },
  {
   "cell_type": "markdown",
   "metadata": {},
   "source": [
    "Write a Python program to display a floating number in specified numbers (specified number of digits after the ’.’). "
   ]
  },
  {
   "cell_type": "code",
   "execution_count": 52,
   "metadata": {},
   "outputs": [
    {
     "name": "stdout",
     "output_type": "stream",
     "text": [
      "\n",
      "Original Number:  3.1415926\n",
      "Formatted Number with no decimal places: 3\n",
      "Original Number:  -12.9999\n",
      "Formatted Number with no decimal places: -13\n",
      "\n"
     ]
    }
   ],
   "source": [
    "x = 3.1415926\n",
    "y = -12.9999\n",
    "print(\"\\nOriginal Number: \", x)\n",
    "print(\"Formatted Number with no decimal places: \"+\"{:.0f}\".format(x));\n",
    "print(\"Original Number: \", y)\n",
    "print(\"Formatted Number with no decimal places: \"+\"{:.0f}\".format(y));\n",
    "print()"
   ]
  },
  {
   "cell_type": "markdown",
   "metadata": {},
   "source": [
    " Write a Python program to create all possible strings by using ’a’, ’e’, ’i’, ’o’, ’u’. Use the characters exactly once. "
   ]
  },
  {
   "cell_type": "code",
   "execution_count": 53,
   "metadata": {},
   "outputs": [
    {
     "name": "stdout",
     "output_type": "stream",
     "text": [
      "eaiou\n"
     ]
    }
   ],
   "source": [
    "import random\n",
    "char_list = ['a','e','i','o','u']\n",
    "random.shuffle(char_list)\n",
    "print(''.join(char_list))"
   ]
  },
  {
   "cell_type": "markdown",
   "metadata": {},
   "source": [
    " WriteaPythonprogramtoprintalongtext, convertthestringtoalistandprintallthewords and their frequencies. "
   ]
  },
  {
   "cell_type": "code",
   "execution_count": 54,
   "metadata": {},
   "outputs": [
    {
     "name": "stdout",
     "output_type": "stream",
     "text": [
      "Count of all characters in GeeksforGeeks is :\n",
      " {'G': 2, 'e': 4, 'k': 2, 's': 2, 'f': 1, 'o': 1, 'r': 1}\n"
     ]
    }
   ],
   "source": [
    "test_str = \"GeeksforGeeks\"  \n",
    "all_freq = {} \n",
    "  \n",
    "for i in test_str: \n",
    "    if i in all_freq: \n",
    "        all_freq[i] += 1\n",
    "    else: \n",
    "        all_freq[i] = 1\n",
    "print (\"Count of all characters in GeeksforGeeks is :\\n \"\n",
    "                                        +  str(all_freq)) \n"
   ]
  },
  {
   "cell_type": "markdown",
   "metadata": {},
   "source": [
    "Write a Python program to replace each character of a given text with the appropriate number between 0 and 25. "
   ]
  },
  {
   "cell_type": "code",
   "execution_count": 55,
   "metadata": {},
   "outputs": [
    {
     "name": "stdout",
     "output_type": "stream",
     "text": [
      "cde\n"
     ]
    }
   ],
   "source": [
    "def encode(s, k): \n",
    "      \n",
    "    # changed string  \n",
    "    newS = \"\" \n",
    "      \n",
    "    # iterate for every characters \n",
    "    for i in range(len(s)):  \n",
    "          \n",
    "        # ASCII value  \n",
    "        val = ord(s[i])  \n",
    "          \n",
    "        # store the duplicate  \n",
    "        dup = k  \n",
    "          \n",
    "        # if k-th ahead character exceed 'z'  \n",
    "        if val + k>122:  \n",
    "            k -= (122-val)  \n",
    "            k = k % 26\n",
    "            newS += chr(96 + k)  \n",
    "              \n",
    "        else:  \n",
    "            newS += chr(val + k)  \n",
    "          \n",
    "        k = dup  \n",
    "      \n",
    "    # print the new string  \n",
    "    print (newS)  \n",
    "              \n",
    "# driver code      \n",
    "str = \"abc\"\n",
    "k = 28\n",
    "  \n",
    "encode(str, k) "
   ]
  },
  {
   "cell_type": "markdown",
   "metadata": {},
   "source": [
    "WriteaPythonprogramtofindthenumberofdigitsattheresultoffactorizingagivenpositive numbers n. Range of the number(n): (n = 5; 1*2*3*4*5 = 120; result = 3). "
   ]
  },
  {
   "cell_type": "code",
   "execution_count": 56,
   "metadata": {},
   "outputs": [
    {
     "name": "stdout",
     "output_type": "stream",
     "text": [
      "1 2 2 3 2 4 2 4 3 4 "
     ]
    }
   ],
   "source": [
    "def findDivisors(n): \n",
    "    div = [0 for i in range(n + 1)]  \n",
    "    for i in range(1, n + 1):  \n",
    "        for j in range(1, n + 1): \n",
    "            if j * i <= n: \n",
    "                div[i * j] += 1\n",
    "    for i in range(1, n + 1): \n",
    "        print(div[i], end = \" \") \n",
    "if __name__ == \"__main__\": \n",
    "    n = 10\n",
    "    findDivisors(n) \n",
    "  "
   ]
  },
  {
   "cell_type": "markdown",
   "metadata": {},
   "source": [
    " Write a Python program to find the value of n where n degrees of number 2 are written sequentially in a line without spaces.\n"
   ]
  },
  {
   "cell_type": "code",
   "execution_count": 65,
   "metadata": {},
   "outputs": [
    {
     "ename": "TypeError",
     "evalue": "'str' object is not callable",
     "output_type": "error",
     "traceback": [
      "\u001b[1;31m---------------------------------------------------------------------------\u001b[0m",
      "\u001b[1;31mTypeError\u001b[0m                                 Traceback (most recent call last)",
      "\u001b[1;32m<ipython-input-65-1699aca441e8>\u001b[0m in \u001b[0;36m<module>\u001b[1;34m\u001b[0m\n\u001b[0;32m      9\u001b[0m             \u001b[0mans\u001b[0m \u001b[1;33m=\u001b[0m \u001b[1;32mFalse\u001b[0m\u001b[1;33m\u001b[0m\u001b[1;33m\u001b[0m\u001b[0m\n\u001b[0;32m     10\u001b[0m         \u001b[1;32mreturn\u001b[0m \u001b[0mi\u001b[0m\u001b[1;33m-\u001b[0m\u001b[1;36m1\u001b[0m\u001b[1;33m;\u001b[0m\u001b[1;33m\u001b[0m\u001b[1;33m\u001b[0m\u001b[0m\n\u001b[1;32m---> 11\u001b[1;33m \u001b[0mprint\u001b[0m\u001b[1;33m(\u001b[0m\u001b[0mndegrees\u001b[0m\u001b[1;33m(\u001b[0m\u001b[1;34m\"2481632\"\u001b[0m\u001b[1;33m)\u001b[0m\u001b[1;33m)\u001b[0m\u001b[1;33m\u001b[0m\u001b[1;33m\u001b[0m\u001b[0m\n\u001b[0m\u001b[0;32m     12\u001b[0m \u001b[0mprint\u001b[0m\u001b[1;33m(\u001b[0m\u001b[0mndegrees\u001b[0m\u001b[1;33m(\u001b[0m\u001b[1;34m\"248163264\"\u001b[0m\u001b[1;33m)\u001b[0m\u001b[1;33m)\u001b[0m\u001b[1;33m\u001b[0m\u001b[1;33m\u001b[0m\u001b[0m\n",
      "\u001b[1;32m<ipython-input-65-1699aca441e8>\u001b[0m in \u001b[0;36mndegrees\u001b[1;34m(num)\u001b[0m\n\u001b[0;32m      3\u001b[0m     \u001b[0mn\u001b[0m\u001b[1;33m,\u001b[0m \u001b[0mtempn\u001b[0m\u001b[1;33m,\u001b[0m \u001b[0mi\u001b[0m \u001b[1;33m=\u001b[0m \u001b[1;36m2\u001b[0m\u001b[1;33m,\u001b[0m \u001b[1;36m2\u001b[0m\u001b[1;33m,\u001b[0m \u001b[1;36m2\u001b[0m\u001b[1;33m\u001b[0m\u001b[1;33m\u001b[0m\u001b[0m\n\u001b[0;32m      4\u001b[0m     \u001b[1;32mwhile\u001b[0m \u001b[0mans\u001b[0m\u001b[1;33m:\u001b[0m\u001b[1;33m\u001b[0m\u001b[1;33m\u001b[0m\u001b[0m\n\u001b[1;32m----> 5\u001b[1;33m         \u001b[1;32mif\u001b[0m \u001b[0mstr\u001b[0m\u001b[1;33m(\u001b[0m\u001b[0mtempn\u001b[0m\u001b[1;33m)\u001b[0m \u001b[1;32min\u001b[0m \u001b[0mnum\u001b[0m\u001b[1;33m:\u001b[0m\u001b[1;33m\u001b[0m\u001b[1;33m\u001b[0m\u001b[0m\n\u001b[0m\u001b[0;32m      6\u001b[0m             \u001b[0mi\u001b[0m \u001b[1;33m+=\u001b[0m \u001b[1;36m1\u001b[0m\u001b[1;33m\u001b[0m\u001b[1;33m\u001b[0m\u001b[0m\n\u001b[0;32m      7\u001b[0m             \u001b[0mtempn\u001b[0m \u001b[1;33m=\u001b[0m \u001b[0mpow\u001b[0m\u001b[1;33m(\u001b[0m\u001b[0mn\u001b[0m\u001b[1;33m,\u001b[0m \u001b[0mi\u001b[0m\u001b[1;33m)\u001b[0m\u001b[1;33m\u001b[0m\u001b[1;33m\u001b[0m\u001b[0m\n",
      "\u001b[1;31mTypeError\u001b[0m: 'str' object is not callable"
     ]
    }
   ],
   "source": [
    "def ndegrees(num):\n",
    "    ans = True\n",
    "    n, tempn, i = 2, 2, 2\n",
    "    while ans:\n",
    "        if str(tempn) in num:\n",
    "            i += 1\n",
    "            tempn = pow(n, i)\n",
    "        else:\n",
    "            ans = False\n",
    "        return i-1;\n",
    "print(ndegrees(\"2481632\"))\n",
    "print(ndegrees(\"248163264\"))"
   ]
  },
  {
   "cell_type": "markdown",
   "metadata": {},
   "source": [
    ". Write a Python program to find the number of notes (Sample of notes: 10, 20, 50, 100, 200 and 500 ) against an given amount.\n"
   ]
  },
  {
   "cell_type": "code",
   "execution_count": 66,
   "metadata": {},
   "outputs": [
    {
     "name": "stdout",
     "output_type": "stream",
     "text": [
      "6\n",
      "2\n"
     ]
    }
   ],
   "source": [
    "def no_notes(a):\n",
    "    Q = [500, 200, 100, 50, 20, 10]\n",
    "    x = 0\n",
    "    for i in range(6):\n",
    "        q = Q[i]\n",
    "        x += int(a / q)\n",
    "        a = int(a % q)\n",
    "    if a > 0:\n",
    "        x = -1\n",
    "    return x\n",
    "print(no_notes(880))\n",
    "print(no_notes(1000))"
   ]
  },
  {
   "cell_type": "markdown",
   "metadata": {},
   "source": [
    "Write a Python program to find the type of the progression (arithmetic progression/geometric progression)andthenextsuccessivememberofagiventhreesuccessivemembersofasequence. Sample Input: 2, 6, 18 Sample Output: ratio: 3. next number: 54 "
   ]
  },
  {
   "cell_type": "code",
   "execution_count": 68,
   "metadata": {},
   "outputs": [
    {
     "name": "stdout",
     "output_type": "stream",
     "text": [
      "2 6 18 54 162 "
     ]
    }
   ],
   "source": [
    "def printGP(a, r, n):  \n",
    "    for i in range(0, n):  \n",
    "        curr_term = a * pow(r, i) \n",
    "        print(curr_term, end =\" \")  \n",
    "a = 2 \n",
    "r = 3  \n",
    "n = 5   \n",
    "printGP(a, r, n) "
   ]
  },
  {
   "cell_type": "markdown",
   "metadata": {},
   "source": [
    "Write a Python program to find all common divisors between two numbers in a given pair. "
   ]
  },
  {
   "cell_type": "code",
   "execution_count": 73,
   "metadata": {},
   "outputs": [
    {
     "name": "stdout",
     "output_type": "stream",
     "text": [
      "Number of common divisors:  2\n",
      "Number of common divisors:  2\n",
      "Number of common divisors:  6\n"
     ]
    }
   ],
   "source": [
    "def ngcd(x, y):\n",
    "    i=1\n",
    "    while(i<=x and i<=y):\n",
    "        if(x%i==0 and y%i == 0):\n",
    "            gcd=i;\n",
    "        i+=1\n",
    "    return gcd;\n",
    "def num_comm_div(x, y):\n",
    "    n = ngcd(x, y)\n",
    "    result = 0\n",
    "    z = int(n**0.5)\n",
    "    i = 1\n",
    "    while( i <= z ):\n",
    "        if(n % i == 0):\n",
    "            result += 2 \n",
    "        if(i == n/i):\n",
    "            result-=1\n",
    "        i+=1\n",
    "    return result\n",
    "print(\"Number of common divisors: \",num_comm_div(2, 4))\n",
    "print(\"Number of common divisors: \",num_comm_div(2, 8))\n",
    "print(\"Number of common divisors: \",num_comm_div(12, 24))"
   ]
  },
  {
   "cell_type": "markdown",
   "metadata": {},
   "source": [
    "Write a Python program which reads a text (only alphabetical characters and spaces.) and prints two words. The first one is the word which is arise most frequently in the text. The second one is the word which has the maximum number of unique letters. "
   ]
  },
  {
   "cell_type": "code",
   "execution_count": 74,
   "metadata": {},
   "outputs": [
    {
     "name": "stdout",
     "output_type": "stream",
     "text": [
      "Input a text in a line.\n",
      "sfdgdfghbdfghbfgbbbbbbbbbbbbbbbbbb\n"
     ]
    },
    {
     "ename": "TypeError",
     "evalue": "'str' object is not callable",
     "output_type": "error",
     "traceback": [
      "\u001b[1;31m---------------------------------------------------------------------------\u001b[0m",
      "\u001b[1;31mTypeError\u001b[0m                                 Traceback (most recent call last)",
      "\u001b[1;32m<ipython-input-74-3ee2575392da>\u001b[0m in \u001b[0;36m<module>\u001b[1;34m\u001b[0m\n\u001b[0;32m      1\u001b[0m \u001b[1;32mimport\u001b[0m \u001b[0mcollections\u001b[0m\u001b[1;33m\u001b[0m\u001b[1;33m\u001b[0m\u001b[0m\n\u001b[0;32m      2\u001b[0m \u001b[0mprint\u001b[0m\u001b[1;33m(\u001b[0m\u001b[1;34m\"Input a text in a line.\"\u001b[0m\u001b[1;33m)\u001b[0m\u001b[1;33m\u001b[0m\u001b[1;33m\u001b[0m\u001b[0m\n\u001b[1;32m----> 3\u001b[1;33m \u001b[0mtext_list\u001b[0m \u001b[1;33m=\u001b[0m \u001b[0mlist\u001b[0m\u001b[1;33m(\u001b[0m\u001b[0mmap\u001b[0m\u001b[1;33m(\u001b[0m\u001b[0mstr\u001b[0m\u001b[1;33m,\u001b[0m \u001b[0minput\u001b[0m\u001b[1;33m(\u001b[0m\u001b[1;33m)\u001b[0m\u001b[1;33m.\u001b[0m\u001b[0msplit\u001b[0m\u001b[1;33m(\u001b[0m\u001b[1;33m)\u001b[0m\u001b[1;33m)\u001b[0m\u001b[1;33m)\u001b[0m\u001b[1;33m\u001b[0m\u001b[1;33m\u001b[0m\u001b[0m\n\u001b[0m\u001b[0;32m      4\u001b[0m \u001b[0msc\u001b[0m \u001b[1;33m=\u001b[0m \u001b[0mcollections\u001b[0m\u001b[1;33m.\u001b[0m\u001b[0mCounter\u001b[0m\u001b[1;33m(\u001b[0m\u001b[0mtext_list\u001b[0m\u001b[1;33m)\u001b[0m\u001b[1;33m\u001b[0m\u001b[1;33m\u001b[0m\u001b[0m\n\u001b[0;32m      5\u001b[0m \u001b[0mcommon_word\u001b[0m \u001b[1;33m=\u001b[0m \u001b[0msc\u001b[0m\u001b[1;33m.\u001b[0m\u001b[0mmost_common\u001b[0m\u001b[1;33m(\u001b[0m\u001b[1;33m)\u001b[0m\u001b[1;33m[\u001b[0m\u001b[1;36m0\u001b[0m\u001b[1;33m]\u001b[0m\u001b[1;33m[\u001b[0m\u001b[1;36m0\u001b[0m\u001b[1;33m]\u001b[0m\u001b[1;33m\u001b[0m\u001b[1;33m\u001b[0m\u001b[0m\n",
      "\u001b[1;31mTypeError\u001b[0m: 'str' object is not callable"
     ]
    }
   ],
   "source": [
    "import collections\n",
    "print(\"Input a text in a line.\")\n",
    "text_list = list(map(str, input().split()))\n",
    "sc = collections.Counter(text_list)\n",
    "common_word = sc.most_common()[0][0]\n",
    "max_char = \"\"\n",
    "for s in text_list:\n",
    "    if len(max_char) < len(s):\n",
    "        max_char = s\n",
    "print(\"\\nMost frequent text and the word which has the maximum number of letters.\")\n",
    "print(common_word, max_char)"
   ]
  },
  {
   "cell_type": "markdown",
   "metadata": {},
   "source": [
    "WriteaPythonprogramwhichreadsthetwoadjoinedsidesandthediagonalofaparallelogram and check whether the parallelogram is a rectangle or a rhombus. According to Wikipediaparallelograms: In Euclidean geometry, a parallelogram is a simple (non-self-intersecting) quadrilateral with two pairs of parallel sides. The opposite or facing sides of a parallelogram are of equal length and the opposite angles of a parallelogram are of equal measure. rectangles: In Euclidean plane geometry, a rectangle is a quadrilateral with four right angles. It can also be defined as an equiangular quadrilateral, since equiangular means that all of its angles are equal (360°/4 = 90°). It can also be defined as a parallelogram containing a right angle. rhombus: In plane Euclidean geometry, a rhombus (plural rhombi or rhombuses) is a simple (non-self-intersecting) quadrilateral whose four sides all have the same length. Another name is equilateral quadrilateral, since equilateral means that all of its sides are equal in length. The rhombus is often called a diamond, after the diamonds suit in playing cards which resembles the projection of an octahedral diamond, or a lozenge, though the former sometimes refers specifically to a rhombus with a 60° angle, and the latter sometimes refers specifically to a rhombus with a 45° angle. Inputs are: 1 < ai, bi, ci < 1000; ai + bi > ci Sample: 3,4,5 Output: This is a rectangle."
   ]
  },
  {
   "cell_type": "code",
   "execution_count": 75,
   "metadata": {},
   "outputs": [
    {
     "name": "stdout",
     "output_type": "stream",
     "text": [
      "Input two adjoined sides and the diagonal of a parallelogram (comma separated):\n",
      "fdv,s,fgds,fg,fgh,gn\n"
     ]
    },
    {
     "ename": "ValueError",
     "evalue": "invalid literal for int() with base 10: 'fdv'",
     "output_type": "error",
     "traceback": [
      "\u001b[1;31m---------------------------------------------------------------------------\u001b[0m",
      "\u001b[1;31mValueError\u001b[0m                                Traceback (most recent call last)",
      "\u001b[1;32m<ipython-input-75-2bb8da024408>\u001b[0m in \u001b[0;36m<module>\u001b[1;34m\u001b[0m\n\u001b[0;32m      1\u001b[0m \u001b[0mprint\u001b[0m\u001b[1;33m(\u001b[0m\u001b[1;34m\"Input two adjoined sides and the diagonal of a parallelogram (comma separated):\"\u001b[0m\u001b[1;33m)\u001b[0m\u001b[1;33m\u001b[0m\u001b[1;33m\u001b[0m\u001b[0m\n\u001b[1;32m----> 2\u001b[1;33m \u001b[0ma\u001b[0m\u001b[1;33m,\u001b[0m\u001b[0mb\u001b[0m\u001b[1;33m,\u001b[0m\u001b[0mc\u001b[0m \u001b[1;33m=\u001b[0m \u001b[0mmap\u001b[0m\u001b[1;33m(\u001b[0m\u001b[0mint\u001b[0m\u001b[1;33m,\u001b[0m \u001b[0minput\u001b[0m\u001b[1;33m(\u001b[0m\u001b[1;33m)\u001b[0m\u001b[1;33m.\u001b[0m\u001b[0msplit\u001b[0m\u001b[1;33m(\u001b[0m\u001b[1;34m\",\"\u001b[0m\u001b[1;33m)\u001b[0m\u001b[1;33m)\u001b[0m\u001b[1;33m\u001b[0m\u001b[1;33m\u001b[0m\u001b[0m\n\u001b[0m\u001b[0;32m      3\u001b[0m \u001b[1;32mif\u001b[0m \u001b[0mc\u001b[0m\u001b[1;33m**\u001b[0m\u001b[1;36m2\u001b[0m \u001b[1;33m==\u001b[0m \u001b[0ma\u001b[0m\u001b[1;33m**\u001b[0m\u001b[1;36m2\u001b[0m\u001b[1;33m+\u001b[0m\u001b[0mb\u001b[0m\u001b[1;33m**\u001b[0m\u001b[1;36m2\u001b[0m \u001b[1;33m:\u001b[0m\u001b[1;33m\u001b[0m\u001b[1;33m\u001b[0m\u001b[0m\n\u001b[0;32m      4\u001b[0m     \u001b[0mprint\u001b[0m\u001b[1;33m(\u001b[0m\u001b[1;34m\"This is a rectangle.\"\u001b[0m\u001b[1;33m)\u001b[0m\u001b[1;33m\u001b[0m\u001b[1;33m\u001b[0m\u001b[0m\n\u001b[0;32m      5\u001b[0m \u001b[1;32mif\u001b[0m \u001b[0ma\u001b[0m \u001b[1;33m==\u001b[0m \u001b[0mb\u001b[0m\u001b[1;33m:\u001b[0m\u001b[1;33m\u001b[0m\u001b[1;33m\u001b[0m\u001b[0m\n",
      "\u001b[1;31mValueError\u001b[0m: invalid literal for int() with base 10: 'fdv'"
     ]
    }
   ],
   "source": [
    "print(\"Input two adjoined sides and the diagonal of a parallelogram (comma separated):\")\n",
    "a,b,c = map(int, input().split(\",\"))\n",
    "if c**2 == a**2+b**2 :\n",
    "    print(\"This is a rectangle.\")\n",
    "if a == b:\n",
    "    print(\"This is a rhombus.\")"
   ]
  },
  {
   "cell_type": "markdown",
   "metadata": {},
   "source": [
    " Write a Python program to replace a string ”Python” with ”Java” and ”Java” with ”Python” in a given string at the same time.\n"
   ]
  },
  {
   "cell_type": "code",
   "execution_count": 76,
   "metadata": {},
   "outputs": [
    {
     "name": "stdout",
     "output_type": "stream",
     "text": [
      "Input a text with two words 'Python' and 'Java'\n",
      "python java\n",
      "python java\n"
     ]
    }
   ],
   "source": [
    "print(\"Input a text with two words 'Python' and 'Java'\")\n",
    "text = input().split()\n",
    "for i in range(len(text)):\n",
    "    if \"Python\" in text[i]:n = text[i].index(\"Python\");text[i] = text[i][:n] + \"Java\" + text[i][n + 6:]\n",
    "    elif \"Java\" in text[i]:n = text[i].index(\"Java\");text[i] = text[i][:n] + \"Python\" + text[i][n + 4:]\n",
    "print(*text)"
   ]
  },
  {
   "cell_type": "markdown",
   "metadata": {},
   "source": [
    " Write a Python program that accept a even number from the user and create a combinations that express the given number as a sum of two prime numbers. Print the number of combinations. Goldbach number: A positive even that can be expressed as the sum of two odd primes. The expression of a given even number as a sum of two primes is called a Goldbach partition of that number. The following are examples of Goldbach partitions for some even numbers: 6 = 3 + 3 "
   ]
  },
  {
   "cell_type": "code",
   "execution_count": 77,
   "metadata": {},
   "outputs": [
    {
     "name": "stdout",
     "output_type": "stream",
     "text": [
      "3 71\n"
     ]
    },
    {
     "data": {
      "text/plain": [
       "True"
      ]
     },
     "execution_count": 77,
     "metadata": {},
     "output_type": "execute_result"
    }
   ],
   "source": [
    "def SieveOfEratosthenes(n, isPrime):\n",
    "    isPrime[0] = isPrime[1] = False\n",
    "    for i in range(2, n+1): \n",
    "        isPrime[i] = True\n",
    "  \n",
    "    p = 2\n",
    "    while(p*p <= n): \n",
    "        if (isPrime[p] == True): \n",
    "            i = p*p \n",
    "            while(i <= n): \n",
    "                isPrime[i] = False\n",
    "                i += p \n",
    "        p += 1 \n",
    "def findPrimePair(n): \n",
    "    isPrime = [0] * (n+1) \n",
    "    SieveOfEratosthenes(n, isPrime) \n",
    "    for i in range(0, n): \n",
    "      \n",
    "        if (isPrime[i] and isPrime[n - i]): \n",
    "          \n",
    "            print(i,(n - i)) \n",
    "            return True\n",
    "n = 74\n",
    "findPrimePair(n) \n",
    "  "
   ]
  },
  {
   "cell_type": "markdown",
   "metadata": {},
   "source": [
    " Write a Python program to find the first appearance of the substring ’not’ and ’poor’ from a given string, if ’not’ follows the ’poor’, replace the whole ’not’...’poor’ substring with ’good’. Return the resulting string. Sample String : ’The lyrics is not that poor!’ Expected Result : ’The lyrics is good!’ "
   ]
  },
  {
   "cell_type": "code",
   "execution_count": 78,
   "metadata": {},
   "outputs": [
    {
     "name": "stdout",
     "output_type": "stream",
     "text": [
      "The lyrics is good!\n",
      "The lyrics is poor!\n"
     ]
    }
   ],
   "source": [
    "def not_poor(str1):\n",
    "    snot = str1.find('not')\n",
    "    spoor = str1.find('poor')\n",
    "  \n",
    "\n",
    "    if spoor > snot and snot>0 and spoor>0:\n",
    "        str1 = str1.replace(str1[snot:(spoor+4)], 'good')\n",
    "        return str1\n",
    "    else:\n",
    "        return str1\n",
    "print(not_poor('The lyrics is not that poor!'))\n",
    "print(not_poor('The lyrics is poor!'))"
   ]
  }
 ],
 "metadata": {
  "kernelspec": {
   "display_name": "Python 3",
   "language": "python",
   "name": "python3"
  },
  "language_info": {
   "codemirror_mode": {
    "name": "ipython",
    "version": 3
   },
   "file_extension": ".py",
   "mimetype": "text/x-python",
   "name": "python",
   "nbconvert_exporter": "python",
   "pygments_lexer": "ipython3",
   "version": "3.7.4"
  }
 },
 "nbformat": 4,
 "nbformat_minor": 2
}
