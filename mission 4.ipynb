{
 "cells": [
  {
   "cell_type": "markdown",
   "metadata": {},
   "source": [
    " Write a Python program to find the second largest number in a list. "
   ]
  },
  {
   "cell_type": "code",
   "execution_count": 4,
   "metadata": {},
   "outputs": [
    {
     "name": "stdout",
     "output_type": "stream",
     "text": [
      "132\n"
     ]
    }
   ],
   "source": [
    "l=[1,22,3,44,54654,5,55,132]\n",
    "l=sorted(l)\n",
    "print(l[-2])\n"
   ]
  },
  {
   "cell_type": "markdown",
   "metadata": {},
   "source": [
    " Write a Python program to find the index of the second largest number in a list. "
   ]
  },
  {
   "cell_type": "code",
   "execution_count": 8,
   "metadata": {},
   "outputs": [
    {
     "name": "stdout",
     "output_type": "stream",
     "text": [
      "6\n"
     ]
    }
   ],
   "source": [
    "l=[1,22,3,44,54654,5,55,132]\n",
    "l=sorted(l)\n",
    "i=l[-2]\n",
    "print(l.index(i))"
   ]
  },
  {
   "cell_type": "markdown",
   "metadata": {},
   "source": [
    "Write a Python program to check a container is empty or not. "
   ]
  },
  {
   "cell_type": "code",
   "execution_count": 10,
   "metadata": {},
   "outputs": [
    {
     "name": "stdout",
     "output_type": "stream",
     "text": [
      "[1, 1, 1, 1, 1, 1]\n"
     ]
    }
   ],
   "source": [
    "l=[]\n",
    "print(l if l else \"emty\")"
   ]
  },
  {
   "cell_type": "markdown",
   "metadata": {},
   "source": [
    " Write a Python program using Sieve of Eratosthenes method for computing primes upto a specified number. Note: In mathematics, the sieve of Eratosthenes,one of a number of prime number sieves, is a simple, ancient algorithm for finding all prime numbers up to any given limit. "
   ]
  },
  {
   "cell_type": "code",
   "execution_count": 55,
   "metadata": {},
   "outputs": [
    {
     "name": "stdout",
     "output_type": "stream",
     "text": [
      "enter number greater than 0: 100\n",
      "None\n",
      "None\n",
      "None\n",
      "None\n",
      "None\n",
      "None\n",
      "None\n",
      "None\n",
      "None\n",
      "None\n",
      "None\n",
      "None\n",
      "None\n",
      "None\n",
      "None\n",
      "None\n",
      "None\n",
      "None\n",
      "None\n",
      "None\n",
      "None\n",
      "None\n",
      "None\n",
      "None\n",
      "None\n",
      "None\n",
      "None\n",
      "None\n",
      "None\n",
      "None\n",
      "None\n",
      "None\n",
      "None\n",
      "None\n",
      "None\n",
      "None\n",
      "None\n",
      "None\n",
      "None\n",
      "None\n",
      "None\n",
      "None\n",
      "None\n",
      "None\n",
      "None\n",
      "None\n",
      "None\n",
      "None\n",
      "None\n",
      "None\n"
     ]
    }
   ],
   "source": [
    "n=int(input(\"enter number greater than 0: \"))\n",
    "for i in range (1,n,2):\n",
    "    if i%2==0:\n",
    "        continue\n",
    "    else :\n",
    "        l=[]\n",
    "    print(l.append(i))\n",
    "        "
   ]
  },
  {
   "cell_type": "markdown",
   "metadata": {},
   "source": [
    "t slice it into a 3 equal chunks and print each list. "
   ]
  },
  {
   "cell_type": "code",
   "execution_count": 38,
   "metadata": {},
   "outputs": [
    {
     "name": "stdout",
     "output_type": "stream",
     "text": [
      "enter list: g g f fvv b f f f g f f\n",
      "11\n",
      "['g', 'g', 'f']\n",
      "['fvv', 'b', 'f']\n",
      "['f', 'f', 'g']\n",
      "['f', 'f']\n"
     ]
    }
   ],
   "source": [
    "l=input(\"enter list: \")\n",
    "l=l.split()\n",
    "l2=list(l)\n",
    "print(len(l))\n",
    "x=len(l)//3\n",
    "l2=l[0:x]\n",
    "print(l2)\n",
    "l3=l[x:x+x]\n",
    "print(l3)\n",
    "l4=l[x+x:3*x]\n",
    "print(l4)\n",
    "l5=l[3*x:]\n",
    "print(l5)\n"
   ]
  },
  {
   "cell_type": "markdown",
   "metadata": {},
   "source": [
    " Write a Python program to sort a list in descending order. "
   ]
  },
  {
   "cell_type": "code",
   "execution_count": 13,
   "metadata": {},
   "outputs": [
    {
     "name": "stdout",
     "output_type": "stream",
     "text": [
      "[66, 65, 65, 55, 33, 5, 5, 4, 4, 0]\n"
     ]
    }
   ],
   "source": [
    "l=[4,55,66,5,33,4,5,65,65,0]\n",
    "l=sorted(l)\n",
    "l2=l[-1::-1]\n",
    "print(l2)"
   ]
  },
  {
   "cell_type": "markdown",
   "metadata": {},
   "source": [
    " Write a Python program to reverse a list"
   ]
  },
  {
   "cell_type": "code",
   "execution_count": 16,
   "metadata": {},
   "outputs": [
    {
     "name": "stdout",
     "output_type": "stream",
     "text": [
      "[9, 8, 7, 6, 5, 4, 3, 2, 1]\n"
     ]
    }
   ],
   "source": [
    "l=[1,2,3,4,5,6,7,8,9]\n",
    "print(l[::-1])"
   ]
  },
  {
   "cell_type": "markdown",
   "metadata": {},
   "source": [
    "Write a Python program to flatten a 2-D list. "
   ]
  },
  {
   "cell_type": "code",
   "execution_count": 25,
   "metadata": {},
   "outputs": [
    {
     "name": "stdout",
     "output_type": "stream",
     "text": [
      "[1, 2, 3, 4]\n"
     ]
    }
   ],
   "source": [
    "l=[[1,2],[3,4]]\n",
    "l2=[]\n",
    "l2.append(l[0][0])\n",
    "l2.append(l[0][1])\n",
    "l2.append(l[1][0])\n",
    "l2.append(l[1][1])\n",
    "print(l2)"
   ]
  },
  {
   "cell_type": "markdown",
   "metadata": {},
   "source": [
    " Given an input list removes the element at index 4 and add it to the 2nd position and also at the end of the list. "
   ]
  },
  {
   "cell_type": "code",
   "execution_count": 23,
   "metadata": {},
   "outputs": [
    {
     "name": "stdout",
     "output_type": "stream",
     "text": [
      "enter list: w e r ty  u ii  gg ff \n",
      "['w', 'e', 'r', 'ty', 'ii', 'gg', 'ff']\n",
      "['w', 'u', 'e', 'r', 'ty', 'ii', 'gg', 'ff']\n",
      "['w', 'u', 'e', 'r', 'ty', 'ii', 'gg', 'ff', 'u']\n"
     ]
    }
   ],
   "source": [
    "l=input(\"enter list: \")\n",
    "l=l.split()\n",
    "l2=list(l)\n",
    "x=l2[4]\n",
    "l2.remove(x)\n",
    "print(l2)\n",
    "l2.insert(1,x)\n",
    "print(l2)\n",
    "l2.append(x)\n",
    "print(l2)"
   ]
  },
  {
   "cell_type": "markdown",
   "metadata": {},
   "source": [
    " Given a two list of equal size create a set such that it shows only the common elements from both lists. "
   ]
  },
  {
   "cell_type": "code",
   "execution_count": 25,
   "metadata": {},
   "outputs": [
    {
     "name": "stdout",
     "output_type": "stream",
     "text": [
      "{2, 3, 4, 5, 6, 7}\n"
     ]
    }
   ],
   "source": [
    "l1=[1,2,3,4,5,5,6,6,7,5,4,3,3]\n",
    "l2=[2,3,4,4,5,2,4,4,5,6,7,7,2]\n",
    "s1=set(l1)\n",
    "s2=set(l2)\n",
    "print(s1.intersection(s2))"
   ]
  },
  {
   "cell_type": "markdown",
   "metadata": {},
   "source": [
    " Given a two list of equal size create a tuple such that it shows elements from both lists in pairs"
   ]
  },
  {
   "cell_type": "code",
   "execution_count": 50,
   "metadata": {},
   "outputs": [
    {
     "name": "stdout",
     "output_type": "stream",
     "text": [
      "(1, 2)\n",
      "(2, 3)\n",
      "(3, 4)\n",
      "(4, 4)\n",
      "(5, 5)\n",
      "(5, 2)\n",
      "(6, 4)\n",
      "(6, 4)\n",
      "(7, 5)\n",
      "(5, 6)\n",
      "(4, 7)\n",
      "(3, 7)\n",
      "(3, 2)\n"
     ]
    }
   ],
   "source": [
    "l1=[1,2,3,4,5,5,6,6,7,5,4,3,3]\n",
    "l2=[2,3,4,4,5,2,4,4,5,6,7,7,2]\n",
    "for i in range(len (l1)):\n",
    "    l3=[l1[i],l2[i]]\n",
    "    l3=tuple(l3)\n",
    "    print(l3)"
   ]
  },
  {
   "cell_type": "markdown",
   "metadata": {},
   "source": [
    " Write a Python program to iterate and extract all key-value pair of a dictionary and print them. "
   ]
  },
  {
   "cell_type": "code",
   "execution_count": 48,
   "metadata": {},
   "outputs": [
    {
     "name": "stdout",
     "output_type": "stream",
     "text": [
      "dict_items([('name', 'areen'), ('major', 'cis'), ('id', 2014), ('Bdate', 1996)])\n"
     ]
    }
   ],
   "source": [
    "dc={'name':\"areen\", \"major\":\"cis\",\"id\":2014,\"Bdate\":1996}\n",
    "print(dc.items())"
   ]
  },
  {
   "cell_type": "markdown",
   "metadata": {},
   "source": [
    "Iterate a given list and Check if a given element already exists in a dictionary as a key’s value if not delete it from the list."
   ]
  },
  {
   "cell_type": "code",
   "execution_count": 52,
   "metadata": {},
   "outputs": [
    {
     "name": "stdout",
     "output_type": "stream",
     "text": [
      "[2, 4, 5, 1]\n"
     ]
    }
   ],
   "source": [
    "l=[2,4,6,77,9,0,22,34,5,1]\n",
    "dc={\"one\":1,\"two\":2,\"three\":3,\"four\":4,\"five\":5}\n",
    "l2=[l[i] for i in range(len(l)) if l[i] in dc.values()]\n",
    "print(l2)"
   ]
  },
  {
   "cell_type": "markdown",
   "metadata": {},
   "source": [
    " Givenadictionarygetallvaluesfromthedictionaryandadditinalistbutdon’taddduplicates"
   ]
  },
  {
   "cell_type": "code",
   "execution_count": 26,
   "metadata": {},
   "outputs": [
    {
     "name": "stdout",
     "output_type": "stream",
     "text": [
      "[dict_values([1, 2, 3, 4, 5])]\n"
     ]
    }
   ],
   "source": [
    "dc={\"one\":1,\"two\":2,\"three\":3,\"four\":4,\"five\":5}\n",
    "g=dc.values()\n",
    "l=[]\n",
    "l.append(g)\n",
    "print(l)"
   ]
  },
  {
   "cell_type": "markdown",
   "metadata": {},
   "source": [
    " Writea Pythonprogram whichaccepts asequence ofcomma-separated numbersfrom userand generate a list and tuple with those numbers. Sample data : 3, 5, 7, 23 Output : List : [’3’, ’ 5’, ’ 7’, ’ 23’] Tuple : (’3’, ’ 5’, ’ 7’, ’ 23’) "
   ]
  },
  {
   "cell_type": "code",
   "execution_count": 98,
   "metadata": {},
   "outputs": [
    {
     "name": "stdout",
     "output_type": "stream",
     "text": [
      "enter number : 1,2,3,4\n",
      "['1', '2', '3', '4']\n",
      "('1', '2', '3', '4')\n"
     ]
    }
   ],
   "source": [
    "s=input(\"enter number : \").split(sep=\",\")\n",
    "l=list(s)\n",
    "print(l)\n",
    "t=tuple(s)\n",
    "print(t)"
   ]
  },
  {
   "cell_type": "markdown",
   "metadata": {},
   "source": [
    " Write a Python program to count the number 4 in a given list. "
   ]
  },
  {
   "cell_type": "code",
   "execution_count": 30,
   "metadata": {},
   "outputs": [
    {
     "name": "stdout",
     "output_type": "stream",
     "text": [
      "6\n"
     ]
    }
   ],
   "source": [
    "l=[2,3,4,4,4,4,4,4,5,5,66]\n",
    "print(l.count(4))"
   ]
  },
  {
   "cell_type": "markdown",
   "metadata": {},
   "source": [
    " Write a Python program to print all permutations of a sequence of numbers. "
   ]
  },
  {
   "cell_type": "code",
   "execution_count": 34,
   "metadata": {},
   "outputs": [
    {
     "name": "stdout",
     "output_type": "stream",
     "text": [
      "{1, 2, 3, 34, 4, 5, 6, 67, 8}\n"
     ]
    }
   ],
   "source": [
    "s={1,2,3,34,4,5,5,6,67,8}\n",
    "print(s)"
   ]
  },
  {
   "cell_type": "markdown",
   "metadata": {},
   "source": [
    " Write a Python program to sort (ascending and descending) a dictionary by its values. "
   ]
  },
  {
   "cell_type": "code",
   "execution_count": 81,
   "metadata": {},
   "outputs": [
    {
     "name": "stdout",
     "output_type": "stream",
     "text": [
      "[1, 2, 3, 4, 5]\n",
      "[5, 4, 3, 2, 1]\n"
     ]
    }
   ],
   "source": [
    "dc={\"one\":1,\"two\":2,\"three\":3,\"four\":4,\"five\":5}\n",
    "print(sorted(dc.values()))\n",
    "r=sorted(dc.values())\n",
    "print (r[-1::-1])"
   ]
  },
  {
   "cell_type": "markdown",
   "metadata": {},
   "source": [
    " Write a Python program to print all even numbers from a given numbers list in the same order and stop the printing if any numbers that come after 237 in the sequence. Sample numbers list : numbers = [386, 462, 47, 418, 907, 344, 236, 375, 823, 566, 597, 978, 328, 615, 953, 345, 399, 162, 758, 219, 918, 237, 412, 566, 826, 248, 866, 950, 626, 949, 687, 217, 815, 67, 104, 58, 512, 24, 892, 894, 767, 553, 81, 379, 843, 831, 445, 742, 717, 958, 743, 527]\n"
   ]
  },
  {
   "cell_type": "code",
   "execution_count": 82,
   "metadata": {},
   "outputs": [
    {
     "name": "stdout",
     "output_type": "stream",
     "text": [
      "386\n",
      "462\n",
      "418\n",
      "344\n",
      "236\n",
      "566\n",
      "978\n",
      "328\n",
      "162\n",
      "758\n",
      "918\n"
     ]
    }
   ],
   "source": [
    "n = [386, 462, 47, 418, 907, 344, 236, 375, 823, 566, 597, 978, 328, 615, 953, 345, 399, 162, 758, 219, 918, 237, 412, 566, 826, 248, 866, 950, 626, 949, 687, 217, 815, 67, 104, 58, 512, 24, 892, 894, 767, 553, 81, 379, 843, 831, 445, 742, 717, 958, 743, 527]\n",
    "for i in range(len(n)):\n",
    "    if n[i] ==237:\n",
    "        break\n",
    "    elif n[i]%2==0 :\n",
    "        print(n[i])"
   ]
  },
  {
   "cell_type": "markdown",
   "metadata": {},
   "source": [
    " Write a Python program to print the length of the series and the series starting from the 3rd term, ending at the 3rd last term and the sum of a series.\n"
   ]
  },
  {
   "cell_type": "markdown",
   "metadata": {},
   "source": [
    " Write a Python program to get a list, sorted in increasing order by the last element in each tuple from a given list of non-empty tuples. Sample List : [(2, 5), (1, 2), (4, 4), (2, 3), (2, 1)] Expected Result : [(2, 1), (1, 2), (2, 3), (4, 4), (2, 5)] "
   ]
  },
  {
   "cell_type": "code",
   "execution_count": 73,
   "metadata": {},
   "outputs": [
    {
     "name": "stdout",
     "output_type": "stream",
     "text": [
      "[(2, 1), (1, 2), (2, 3), (4, 4), (2, 5)]\n"
     ]
    }
   ],
   "source": [
    "import operator \n",
    "l=[(2, 5), (1, 2), (4, 4), (2, 3), (2, 1)]\n",
    "l.sort(key=operator.itemgetter(1))\n",
    "print(l)"
   ]
  },
  {
   "cell_type": "markdown",
   "metadata": {},
   "source": [
    " Write a Python program to create a list by concatenating a given list which range goes from 1 to n. Sample list : [’p’, ’q’] „„ n = 5 Sample Output : [’p1’, ’q1’, ’p2’, ’q2’, ’p3’, ’q3’, ’p4’, ’q4’, ’p5’, ’q5’] "
   ]
  },
  {
   "cell_type": "code",
   "execution_count": 99,
   "metadata": {},
   "outputs": [
    {
     "name": "stdout",
     "output_type": "stream",
     "text": [
      "enter number : 5\n"
     ]
    },
    {
     "ename": "AttributeError",
     "evalue": "'list' object has no attribute 'join'",
     "output_type": "error",
     "traceback": [
      "\u001b[1;31m---------------------------------------------------------------------------\u001b[0m",
      "\u001b[1;31mAttributeError\u001b[0m                            Traceback (most recent call last)",
      "\u001b[1;32m<ipython-input-99-1134a393050d>\u001b[0m in \u001b[0;36m<module>\u001b[1;34m\u001b[0m\n\u001b[0;32m      2\u001b[0m \u001b[0ml\u001b[0m\u001b[1;33m=\u001b[0m\u001b[1;33m[\u001b[0m\u001b[1;34m\"p\"\u001b[0m\u001b[1;33m,\u001b[0m\u001b[1;34m\"q\"\u001b[0m\u001b[1;33m]\u001b[0m\u001b[1;33m\u001b[0m\u001b[1;33m\u001b[0m\u001b[0m\n\u001b[0;32m      3\u001b[0m \u001b[0mx\u001b[0m\u001b[1;33m=\u001b[0m\u001b[0mlist\u001b[0m\u001b[1;33m(\u001b[0m\u001b[0mrange\u001b[0m\u001b[1;33m(\u001b[0m\u001b[1;36m1\u001b[0m\u001b[1;33m,\u001b[0m\u001b[0mn\u001b[0m\u001b[1;33m+\u001b[0m\u001b[1;36m1\u001b[0m\u001b[1;33m)\u001b[0m\u001b[1;33m)\u001b[0m\u001b[1;33m\u001b[0m\u001b[1;33m\u001b[0m\u001b[0m\n\u001b[1;32m----> 4\u001b[1;33m \u001b[0ml\u001b[0m\u001b[1;33m=\u001b[0m\u001b[0ml\u001b[0m\u001b[1;33m.\u001b[0m\u001b[0mjoin\u001b[0m\u001b[1;33m(\u001b[0m\u001b[0mx\u001b[0m\u001b[1;33m)\u001b[0m\u001b[1;33m\u001b[0m\u001b[1;33m\u001b[0m\u001b[0m\n\u001b[0m\u001b[0;32m      5\u001b[0m \u001b[0mprint\u001b[0m\u001b[1;33m(\u001b[0m\u001b[0ml\u001b[0m\u001b[1;33m)\u001b[0m\u001b[1;33m\u001b[0m\u001b[1;33m\u001b[0m\u001b[0m\n\u001b[0;32m      6\u001b[0m \u001b[1;33m\u001b[0m\u001b[0m\n",
      "\u001b[1;31mAttributeError\u001b[0m: 'list' object has no attribute 'join'"
     ]
    }
   ],
   "source": [
    "n=int(input(\"enter number : \"))\n",
    "l=[\"p\",\"q\"]  \n",
    "x=list(range(1,n+1))\n",
    "l=l.join(x)"
   ]
  },
  {
   "cell_type": "markdown",
   "metadata": {},
   "source": [
    " Write a Python program to print the length of the series and the series starting from the 3rd term, ending at the 3rd last term and the sum of a series"
   ]
  },
  {
   "cell_type": "code",
   "execution_count": 60,
   "metadata": {},
   "outputs": [
    {
     "name": "stdout",
     "output_type": "stream",
     "text": [
      "enter 3rd term of series :3\n",
      "enter 3rd last term of series :6\n",
      "enter sum of series :36\n",
      "8\n"
     ]
    }
   ],
   "source": [
    "th=int (input(\"enter 3rd term of series :\"))\n",
    "l=int (input(\"enter 3rd last term of series :\"))\n",
    "sm=int (input(\"enter sum of series :\"))\n",
    "ln= int(2*sm/(th+l))\n",
    "print(ln)"
   ]
  },
  {
   "cell_type": "markdown",
   "metadata": {},
   "source": [
    " Write a Python program to find the biggest row sum of a given matrix. "
   ]
  },
  {
   "cell_type": "code",
   "execution_count": 114,
   "metadata": {},
   "outputs": [
    {
     "name": "stdout",
     "output_type": "stream",
     "text": [
      "Sum of rows is 7 15 24 \n",
      " Row 3 has maximum sum\n"
     ]
    }
   ],
   "source": [
    "mat = [[1, 2, 3], [4, 5, 6], [7, 8, 9]]\n",
    "s = 0\n",
    "row_ind = 0\n",
    "col_ind = 0;\n",
    "m = 3\n",
    "n = 3\n",
    "row_arr = []\n",
    "z = 0\n",
    "print(\"Sum of rows is\" , end = \" \")\n",
    "for row in range(0, m):\n",
    "    s = 0\n",
    "for col in range(0, n):\n",
    "    s = s + mat[row][col]\n",
    "    print(s, end = \" \")\n",
    "    z = z + 1\n",
    "    row_arr.append(s)\n",
    "    temp_row = row_arr[0]\n",
    "for i in range(1, m):\n",
    "    if(temp_row < row_arr[i]):\n",
    "        temp_row = row_arr[i]\n",
    "        row_ind = i\n",
    "print(\"\\n Row\", row_ind+1,\"has maximum sum\")"
   ]
  },
  {
   "cell_type": "markdown",
   "metadata": {},
   "source": [
    " Write a Python program to find the biggest column Multiplication of a matrix"
   ]
  },
  {
   "cell_type": "code",
   "execution_count": 116,
   "metadata": {},
   "outputs": [
    {
     "name": "stdout",
     "output_type": "stream",
     "text": [
      "mul of column is 7 56 504 \n",
      " column 3 has maximum multiply\n"
     ]
    }
   ],
   "source": [
    "mat = [[1, 2, 3], [4, 5, 6], [7, 8, 9]]\n",
    "ml = 1\n",
    "row_ind = 0\n",
    "col_ind = 0;\n",
    "m = 3\n",
    "n = 3\n",
    "col_arr = []\n",
    "z = 1\n",
    "print(\"mul of column is\" , end = \" \")\n",
    "for row in range(0, m):\n",
    "    ml=1\n",
    "for col in range(0, n):\n",
    "    ml = ml * mat[row][col]\n",
    "    print(ml, end = \" \")\n",
    "    z = z * 1\n",
    "    col_arr.append(ml)\n",
    "    temp_col = col_arr[0]\n",
    "for i in range(1, m):\n",
    "    if(temp_col < col_arr[i]):\n",
    "        temp_col = col_arr[i]\n",
    "        col_ind = i\n",
    "print(\"\\n column\", col_ind+1,\"has maximum multiply\")"
   ]
  },
  {
   "cell_type": "markdown",
   "metadata": {},
   "source": [
    " Write a guessing game where the user must guess a secret number. After every guess the programtellstheuserwhethertheirnumberwastoolargeortoosmall. Attheendthenumber of tries needed should be printed. It counts only as one try if they input the same number multiple times consecutively. "
   ]
  },
  {
   "cell_type": "code",
   "execution_count": 118,
   "metadata": {},
   "outputs": [
    {
     "name": "stdout",
     "output_type": "stream",
     "text": [
      "Guess a number (<100): 55\n",
      "Lower...\n",
      "Guess a number (<100): 40\n",
      "Lower...\n",
      "Guess a number (<100): 30\n",
      "Lower...\n",
      "Guess a number (<100): 20\n",
      "You guessed it! The number was 20 in 4 tries\n"
     ]
    }
   ],
   "source": [
    "import random\n",
    "secret_number = random.randint(1, 100)\n",
    "tries, guess = 0, 0\n",
    "while guess != secret_number:\n",
    "    guess = int(input(\"Guess a number (<100): \"))\n",
    "    if guess > secret_number:\n",
    "        print(\"Lower...\")\n",
    "    elif guess < secret_number:\n",
    "        print(\"Higher...\")\n",
    "    tries += 1\n",
    "    \n",
    "print('You guessed it! The number was {} in {} tries'.format(guess, tries))\n"
   ]
  },
  {
   "cell_type": "markdown",
   "metadata": {},
   "source": [
    "Write a python program to transpose a matrix. "
   ]
  },
  {
   "cell_type": "code",
   "execution_count": 120,
   "metadata": {},
   "outputs": [
    {
     "name": "stdout",
     "output_type": "stream",
     "text": [
      "[12, 4, 3]\n",
      "[7, 5, 8]\n"
     ]
    }
   ],
   "source": [
    "X = [[12,7],[4 ,5],[3 ,8]]\n",
    "result = [[0,0,0],[0,0,0]]\n",
    "for i in range(len(X)):\n",
    "    for j in range(len(X[0])):\n",
    "        result[j][i] = X[i][j]\n",
    "for r in result:\n",
    "    print(r)"
   ]
  },
  {
   "cell_type": "markdown",
   "metadata": {},
   "source": [
    " Write a python program to perform a 2 matrix multiplication (following the algebra rules of matrix multiplication)."
   ]
  },
  {
   "cell_type": "code",
   "execution_count": 121,
   "metadata": {},
   "outputs": [
    {
     "name": "stdout",
     "output_type": "stream",
     "text": [
      "[114, 160, 60, 27]\n",
      "[74, 97, 73, 14]\n",
      "[119, 157, 112, 23]\n"
     ]
    }
   ],
   "source": [
    "X = [[12,7,3],[4 ,5,6],[7 ,8,9]]\n",
    "Y = [[5,8,1,2],[6,7,3,0],[4,5,9,1]]\n",
    "result = [[0,0,0,0],[0,0,0,0],[0,0,0,0]]\n",
    "for i in range(len(X)):\n",
    "    for j in range(len(Y[0])):\n",
    "        for k in range(len(Y)):\n",
    "            result[i][j] += X[i][k] * Y[k][j]\n",
    "for r in result:\n",
    "    print(r)"
   ]
  },
  {
   "cell_type": "markdown",
   "metadata": {},
   "source": [
    "Write a Python program to remove duplicates from Dictionary values."
   ]
  },
  {
   "cell_type": "code",
   "execution_count": 123,
   "metadata": {},
   "outputs": [
    {
     "name": "stdout",
     "output_type": "stream",
     "text": [
      "{'four', 'five', 'three', 'one', 'two'}\n"
     ]
    }
   ],
   "source": [
    "dc={\"one\":1,\"five\":5,\"two\":2,\"five\":5,\"three\":3,\"four\":4,\"five\":5,\"three\":3}\n",
    "s=set(dc)\n",
    "print(s)"
   ]
  },
  {
   "cell_type": "markdown",
   "metadata": {},
   "source": [
    " Write a Python program to print all unique values in a dictionary with their keys. Sample Data : [”V”:”S001”, ”V”: ”S002”, ”VI”: ”S001”, ”VI”: ”S005”, ”VII”:”S005”, ”V”:”S009”,”VIII”:”S007”] Expected Output : Unique Values: ’S005’, ’S002’, ’S007’, ’S001’, ’S009’ "
   ]
  },
  {
   "cell_type": "code",
   "execution_count": 125,
   "metadata": {},
   "outputs": [
    {
     "name": "stdout",
     "output_type": "stream",
     "text": [
      "Unique Values:  {'s007', 's009', 's005'}\n"
     ]
    }
   ],
   "source": [
    "dic={\"v\":\"s001\",\"v\":\"s002\",\"vi\":\"s001\",\"vi\":\"s005\",\"vii\":\"s005\",\"v\":\"s009\",\"viii\":\"s007\"}\n",
    "u_value = set( val for v in dic for val in dic.values())\n",
    "print(\"Unique Values: \",u_value)"
   ]
  },
  {
   "cell_type": "markdown",
   "metadata": {},
   "source": [
    " Write a Python program to find the keys of the highest 3 values in a dictionary. "
   ]
  },
  {
   "cell_type": "code",
   "execution_count": 136,
   "metadata": {},
   "outputs": [
    {
     "name": "stdout",
     "output_type": "stream",
     "text": [
      "['b', 'e', 'c']\n"
     ]
    }
   ],
   "source": [
    "from heapq import nlargest\n",
    "my_dict = {'a':500, 'b':5874, 'c': 560,'d':400, 'e':5874, 'f': 20}  \n",
    "three_largest = nlargest(3, my_dict, key=my_dict.get)\n",
    "print(three_largest) "
   ]
  },
  {
   "cell_type": "markdown",
   "metadata": {},
   "source": [
    " Given a list, traverse it and count the occurrence of each element and create a dictionary to show the count of each element. "
   ]
  },
  {
   "cell_type": "code",
   "execution_count": 137,
   "metadata": {},
   "outputs": [
    {
     "name": "stdout",
     "output_type": "stream",
     "text": [
      " 1 :  5\n",
      " 5 :  2\n",
      " 3 :  3\n",
      " 4 :  3\n",
      " 2 :  4\n"
     ]
    }
   ],
   "source": [
    "def CountFrequency(my_list): \n",
    "  \n",
    "    # Creating an empty dictionary  \n",
    "    freq = {} \n",
    "    for item in my_list: \n",
    "        if (item in freq): \n",
    "            freq[item] += 1\n",
    "        else: \n",
    "            freq[item] = 1\n",
    "  \n",
    "    for key, value in freq.items(): \n",
    "        print (\"% d : % d\"%(key, value))  \n",
    "my_list =[1, 1, 1, 5, 5, 3, 1, 3, 3, 1, 4, 4, 4, 2, 2, 2, 2] \n",
    "CountFrequency(my_list) "
   ]
  },
  {
   "cell_type": "markdown",
   "metadata": {},
   "source": [
    " Given two sets find the intersection and remove the resulted elements from the first set. "
   ]
  },
  {
   "cell_type": "code",
   "execution_count": 143,
   "metadata": {},
   "outputs": [
    {
     "name": "stdout",
     "output_type": "stream",
     "text": [
      "{2, 4, 5}\n",
      "{1, 3, 45}\n"
     ]
    }
   ],
   "source": [
    "s1={1,5,1,1,4,3,4,2,1,45}\n",
    "s2={4,5,8,5,2,5,4,5,2,5,84,5,62,53}\n",
    "i=s1.intersection(s2)\n",
    "print(i)\n",
    "ss=s1.symmetric_difference(i)\n",
    "print(ss)"
   ]
  },
  {
   "cell_type": "markdown",
   "metadata": {},
   "source": [
    "Given two sets, Checks if One Set is subset or superset of Another Set. if it is a subset, delete all elements (not the set) from that set.\n"
   ]
  },
  {
   "cell_type": "code",
   "execution_count": 164,
   "metadata": {},
   "outputs": [
    {
     "name": "stdout",
     "output_type": "stream",
     "text": [
      "True\n",
      "False\n",
      "set()\n"
     ]
    }
   ],
   "source": [
    "s1={1,5,1}\n",
    "s2={4,5,8,5,1}\n",
    "print(s1.issubset(s2))\n",
    "print(s1.issuperset(s2))\n",
    "s1.discard(1)\n",
    "s1.discard(5)\n",
    "print(s1)"
   ]
  },
  {
   "cell_type": "markdown",
   "metadata": {},
   "source": [
    " Write a Python program to print out a set containing all the item from list_1 which are not present in list_2. Test Data : list_1 = [”White”, ”Black”, ”Red”] list_2 = [”Red”, ”Green”] Expected Output : ’Black’, ’White’"
   ]
  },
  {
   "cell_type": "code",
   "execution_count": 166,
   "metadata": {},
   "outputs": [
    {
     "name": "stdout",
     "output_type": "stream",
     "text": [
      "{'black', 'white'}\n"
     ]
    }
   ],
   "source": [
    "l1={\"white\",\"black\",\"red\"}\n",
    "l2={\"red\",\"green\"}\n",
    "print(l1.difference(l2))"
   ]
  },
  {
   "cell_type": "code",
   "execution_count": 167,
   "metadata": {},
   "outputs": [
    {
     "name": "stdout",
     "output_type": "stream",
     "text": [
      "74\n"
     ]
    }
   ],
   "source": [
    " def sumPairs(l, n): \n",
    "    s = 0\n",
    "    for i in range(n - 1, -1, -1): \n",
    "        s+= i*l[i] - (n-1-i) * l[i] \n",
    "    return s\n",
    "l = [1, 8, 9, 15, 16] \n",
    "n = len(l) \n",
    "print(sumPairs(l, n)) \n"
   ]
  },
  {
   "cell_type": "markdown",
   "metadata": {},
   "source": [
    " Write a Python program which adds up column and row of given table. Input cell value: 25 69 51 26 68 35 29 54 54 57 45 63 61 68 47 59 Result: 25 69 51 26 171 68 35 29 54 186 54 57 45 63 219 61 68 47 59 235 208 229 172 202 811"
   ]
  },
  {
   "cell_type": "code",
   "execution_count": 169,
   "metadata": {},
   "outputs": [
    {
     "name": "stdout",
     "output_type": "stream",
     "text": [
      "Input number of rows/columns (0 to exit)\n",
      "4\n",
      "Input cell value:\n",
      "5\n",
      "5\n",
      "5\n",
      "5\n"
     ]
    },
    {
     "ename": "IndexError",
     "evalue": "list index out of range",
     "output_type": "error",
     "traceback": [
      "\u001b[1;31m---------------------------------------------------------------------------\u001b[0m",
      "\u001b[1;31mIndexError\u001b[0m                                Traceback (most recent call last)",
      "\u001b[1;32m<ipython-input-169-4d5bcf8cc3dc>\u001b[0m in \u001b[0;36m<module>\u001b[1;34m\u001b[0m\n\u001b[0;32m     12\u001b[0m         \u001b[0ms\u001b[0m \u001b[1;33m=\u001b[0m \u001b[1;36m0\u001b[0m\u001b[1;33m\u001b[0m\u001b[1;33m\u001b[0m\u001b[0m\n\u001b[0;32m     13\u001b[0m         \u001b[1;32mfor\u001b[0m \u001b[0mj\u001b[0m \u001b[1;32min\u001b[0m \u001b[0mrange\u001b[0m\u001b[1;33m(\u001b[0m\u001b[0mn\u001b[0m\u001b[1;33m)\u001b[0m\u001b[1;33m:\u001b[0m\u001b[1;33m\u001b[0m\u001b[1;33m\u001b[0m\u001b[0m\n\u001b[1;32m---> 14\u001b[1;33m             \u001b[0ms\u001b[0m \u001b[1;33m+=\u001b[0m \u001b[0mx\u001b[0m\u001b[1;33m[\u001b[0m\u001b[0mi\u001b[0m\u001b[1;33m]\u001b[0m\u001b[1;33m[\u001b[0m\u001b[0mj\u001b[0m\u001b[1;33m]\u001b[0m\u001b[1;33m\u001b[0m\u001b[1;33m\u001b[0m\u001b[0m\n\u001b[0m\u001b[0;32m     15\u001b[0m         \u001b[0mx\u001b[0m\u001b[1;33m[\u001b[0m\u001b[0mi\u001b[0m\u001b[1;33m]\u001b[0m\u001b[1;33m.\u001b[0m\u001b[0mappend\u001b[0m\u001b[1;33m(\u001b[0m\u001b[0ms\u001b[0m\u001b[1;33m)\u001b[0m\u001b[1;33m\u001b[0m\u001b[1;33m\u001b[0m\u001b[0m\n\u001b[0;32m     16\u001b[0m \u001b[1;33m\u001b[0m\u001b[0m\n",
      "\u001b[1;31mIndexError\u001b[0m: list index out of range"
     ]
    }
   ],
   "source": [
    "while True:\n",
    "    print(\"Input number of rows/columns (0 to exit)\")\n",
    "    n = int(input())\n",
    "    if n == 0:\n",
    "        break\n",
    "    print(\"Input cell value:\")\n",
    "    x = []\n",
    "    for i in range(n):\n",
    "        x.append([int(num) for num in input().split()])\n",
    "\n",
    "    for i in range(n):\n",
    "        s = 0\n",
    "        for j in range(n):\n",
    "            s += x[i][j]\n",
    "        x[i].append(s)\n",
    "\n",
    "    x.append([])\n",
    "    for i in range(n + 1):\n",
    "        s = 0\n",
    "        for j in range(n):\n",
    "            s += x[j][i]\n",
    "        x[n].append(s)\n",
    "    print(\"Result:\")\n",
    "    for i in range(n + 1):\n",
    "        for j in range(n + 1):\n",
    "            print('{0:>5}'.format(x[i][j]), end=\"\")\n",
    "        print()"
   ]
  },
  {
   "cell_type": "markdown",
   "metadata": {},
   "source": [
    " Write a Python program that takes two lists and returns True if they have at least 3 common member. "
   ]
  },
  {
   "cell_type": "code",
   "execution_count": 5,
   "metadata": {},
   "outputs": [],
   "source": [
    "l1=[1,4,5,5,2,4,1,7]\n",
    "l2=[4,5,6,8,6,9,4,1,3]\n",
    "for i in range(len(l1)):\n",
    "    for j in range(len(l2)):\n",
    "        c=0\n",
    "        if l1[i]==l2[j]:\n",
    "            c+=1\n",
    "        if c>=3:\n",
    "            print(\"true\")\n"
   ]
  },
  {
   "cell_type": "markdown",
   "metadata": {},
   "source": [
    " Write a Python program to generate a list of 15 values and print the list with the first and last 5 elements are squared. "
   ]
  },
  {
   "cell_type": "code",
   "execution_count": 18,
   "metadata": {},
   "outputs": [
    {
     "name": "stdout",
     "output_type": "stream",
     "text": [
      "1  49  64  81  9216  25  2116  7225  2500  4225  "
     ]
    }
   ],
   "source": [
    "l=[1,7,8,9,96,3,2,5,5,5,5,46,85,50,65]\n",
    "for i in range(len(l)):\n",
    "    if i<5:\n",
    "        print(l[i]**2,end=\"  \")\n",
    "    elif i>=10:\n",
    "        print(l[i]**2,end=\"  \")"
   ]
  },
  {
   "cell_type": "markdown",
   "metadata": {},
   "source": [
    "Write a Python program to replace dictionary values with their sum. "
   ]
  },
  {
   "cell_type": "code",
   "execution_count": 33,
   "metadata": {},
   "outputs": [
    {
     "name": "stdout",
     "output_type": "stream",
     "text": [
      "[{'id': 1, 'subject': 'math', 'V+VI': 76.0}, {'id': 2, 'subject': 'math', 'V+VI': 73.5}, {'id': 3, 'subject': 'math', 'V+VI': 80.5}]\n"
     ]
    }
   ],
   "source": [
    "def sum_math_v_vi_average(list_of_dicts):\n",
    "    for d in list_of_dicts:\n",
    "        n1 = d.pop('V')\n",
    "        n2 = d.pop('VI')\n",
    "        d['V+VI'] = (n1 + n2)/2\n",
    "    return list_of_dicts \n",
    "student_details= [\n",
    "  {'id' : 1, 'subject' : 'math', 'V' : 70, 'VI' : 82},\n",
    "  {'id' : 2, 'subject' : 'math', 'V' : 73, 'VI' : 74},\n",
    "  {'id' : 3, 'subject' : 'math', 'V' : 75, 'VI' : 86}\n",
    "]\n",
    "print(sum_math_v_vi_average(student_details))"
   ]
  },
  {
   "cell_type": "markdown",
   "metadata": {},
   "source": [
    " Write a Python program to get the top three items in a shop. Sample data: ’item1’: 45.50, ’item2’:35, ’item3’: 41.30, ’item4’:55, ’item5’: 24 Expected Output: item4 55 item1 45.5 item3 41.3 "
   ]
  },
  {
   "cell_type": "code",
   "execution_count": 34,
   "metadata": {},
   "outputs": [
    {
     "name": "stdout",
     "output_type": "stream",
     "text": [
      "item4 55\n",
      "item1 45.5\n",
      "item3 41.3\n"
     ]
    }
   ],
   "source": [
    "from heapq import nlargest \n",
    "from operator import itemgetter\n",
    "items={\"item1\":45.50,\"item2\":35,\"item3\":41.30,\"item4\":55,\"item5\":24}\n",
    "for name , value in nlargest(3,items.items(),key=itemgetter(1)):\n",
    "    print(name,value)\n",
    "    "
   ]
  },
  {
   "cell_type": "markdown",
   "metadata": {},
   "source": [
    " The sum of the squares of the first ten natural numbers is, 12 + 22 + ... + 102 = 385 The square of the sum of the first ten natural numbers is,(1 + 2 + ... + 10)2 = 552 = 3025 Hence the difference between the sum of the squares of the first ten natural numbers and the square of the sum is 3025 − 385 = 2640. Find the difference between the sum of the squares of the first one hundred natural numbers and the square of the sum. "
   ]
  },
  {
   "cell_type": "code",
   "execution_count": 32,
   "metadata": {},
   "outputs": [
    {
     "ename": "TypeError",
     "evalue": "'int' object is not iterable",
     "output_type": "error",
     "traceback": [
      "\u001b[1;31m---------------------------------------------------------------------------\u001b[0m",
      "\u001b[1;31mTypeError\u001b[0m                                 Traceback (most recent call last)",
      "\u001b[1;32m<ipython-input-32-2943a15f7a31>\u001b[0m in \u001b[0;36m<module>\u001b[1;34m\u001b[0m\n\u001b[0;32m      1\u001b[0m \u001b[1;32mfor\u001b[0m \u001b[0mi\u001b[0m \u001b[1;32min\u001b[0m \u001b[0mrange\u001b[0m\u001b[1;33m(\u001b[0m\u001b[1;36m1\u001b[0m\u001b[1;33m,\u001b[0m\u001b[1;36m101\u001b[0m\u001b[1;33m)\u001b[0m\u001b[1;33m:\u001b[0m\u001b[1;33m\u001b[0m\u001b[1;33m\u001b[0m\u001b[0m\n\u001b[1;32m----> 2\u001b[1;33m     \u001b[0mx\u001b[0m\u001b[1;33m=\u001b[0m\u001b[0msum\u001b[0m\u001b[1;33m(\u001b[0m\u001b[0mi\u001b[0m\u001b[1;33m**\u001b[0m\u001b[1;36m2\u001b[0m\u001b[1;33m)\u001b[0m\u001b[1;33m\u001b[0m\u001b[1;33m\u001b[0m\u001b[0m\n\u001b[0m\u001b[0;32m      3\u001b[0m     \u001b[0my\u001b[0m\u001b[1;33m=\u001b[0m\u001b[0msum\u001b[0m\u001b[1;33m(\u001b[0m\u001b[0mi\u001b[0m\u001b[1;33m)\u001b[0m\u001b[1;33m\u001b[0m\u001b[1;33m\u001b[0m\u001b[0m\n\u001b[0;32m      4\u001b[0m     \u001b[0mprint\u001b[0m\u001b[1;33m(\u001b[0m\u001b[0mx\u001b[0m\u001b[1;33m,\u001b[0m\u001b[0my\u001b[0m\u001b[1;33m**\u001b[0m\u001b[1;36m2\u001b[0m\u001b[1;33m)\u001b[0m\u001b[1;33m\u001b[0m\u001b[1;33m\u001b[0m\u001b[0m\n",
      "\u001b[1;31mTypeError\u001b[0m: 'int' object is not iterable"
     ]
    }
   ],
   "source": [
    "for i in range(1,101):\n",
    "    x=sum(i**2)\n",
    "    y=sum(i)\n",
    "    print(x,y**2)"
   ]
  },
  {
   "cell_type": "markdown",
   "metadata": {},
   "source": [
    " Write a Python program to convert list to list of dictionaries. Sample lists: [”Name”, ”Age”, ”ID”, ”Phone”], [”Yazeed”, ”21”, 1536698”, ”0798529788”] Expected Output: {’color Name’: ’Black’, ’Age: ’21’ , ‘ID’: ’1536698’, ‘Phone’: ’0798529788’} "
   ]
  },
  {
   "cell_type": "code",
   "execution_count": 36,
   "metadata": {},
   "outputs": [
    {
     "name": "stdout",
     "output_type": "stream",
     "text": [
      "{'a': 1, 'b': 2, 'c': 3}\n"
     ]
    }
   ],
   "source": [
    "l=[\"a\",1,\"b\",2,\"c\",3]\n",
    "dic={l[i]:l[i+1] for i in range(0,len(l),2)}\n",
    "print(dic)"
   ]
  },
  {
   "cell_type": "markdown",
   "metadata": {},
   "source": [
    " Write a Python program to count the number of strings where the string length is 2 or more and the first and last character are same from a given list of strings.\n",
    "3\n",
    "Sample List : [’abc’, ’xyz’, ’aba’, ’1221’] Expected Result : 2 "
   ]
  },
  {
   "cell_type": "code",
   "execution_count": 37,
   "metadata": {},
   "outputs": [
    {
     "name": "stdout",
     "output_type": "stream",
     "text": [
      "2\n"
     ]
    }
   ],
   "source": [
    "def word(wrd):\n",
    "    c=0\n",
    "    for w in wrd:\n",
    "        if len(w)>1 and w[0]==w[-1]:\n",
    "            c+=1\n",
    "    return c\n",
    "print(word([\"abc\",\"xyz\",\"aba\",\"1221\"]))"
   ]
  },
  {
   "cell_type": "code",
   "execution_count": null,
   "metadata": {},
   "outputs": [],
   "source": []
  }
 ],
 "metadata": {
  "kernelspec": {
   "display_name": "Python 3",
   "language": "python",
   "name": "python3"
  },
  "language_info": {
   "codemirror_mode": {
    "name": "ipython",
    "version": 3
   },
   "file_extension": ".py",
   "mimetype": "text/x-python",
   "name": "python",
   "nbconvert_exporter": "python",
   "pygments_lexer": "ipython3",
   "version": "3.7.4"
  }
 },
 "nbformat": 4,
 "nbformat_minor": 2
}
