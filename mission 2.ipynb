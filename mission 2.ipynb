{
 "cells": [
  {
   "cell_type": "markdown",
   "metadata": {},
   "source": [
    " Reverse a given number, use loops and equations to reverse the number and return true if it is the same as the original number. "
   ]
  },
  {
   "cell_type": "code",
   "execution_count": 9,
   "metadata": {},
   "outputs": [
    {
     "name": "stdout",
     "output_type": "stream",
     "text": [
      "enter number: 1234\n",
      "4321\n"
     ]
    }
   ],
   "source": [
    "num=input(\"enter number: \")\n",
    "for i in num:\n",
    "    rvs= num[::-1]\n",
    "    print(rvs)\n",
    "    break\n",
    "if rvs==num:\n",
    "        print(\"True\")\n",
    "        "
   ]
  },
  {
   "cell_type": "markdown",
   "metadata": {},
   "source": [
    " Return the number of times that the string “Emma” appears anywhere in the given string. "
   ]
  },
  {
   "cell_type": "code",
   "execution_count": 12,
   "metadata": {},
   "outputs": [
    {
     "name": "stdout",
     "output_type": "stream",
     "text": [
      "enter string :uryt Emma emma Emma\n",
      "2\n"
     ]
    }
   ],
   "source": [
    "s=input(\"enter string :\").split()\n",
    "st=\"Emma\"\n",
    "for i in s :\n",
    "    c=s.count(st)\n",
    "print(c)"
   ]
  },
  {
   "cell_type": "markdown",
   "metadata": {},
   "source": [
    "Print the following pattern. 1 2 2 3 3 3 4 4 4 4 5 5 5 5 5\n"
   ]
  },
  {
   "cell_type": "code",
   "execution_count": 54,
   "metadata": {},
   "outputs": [
    {
     "name": "stdout",
     "output_type": "stream",
     "text": [
      "\n",
      "\n",
      "1 \n",
      "\n",
      "2 2 \n",
      "\n",
      "3 3 3 \n",
      "\n",
      "4 4 4 4 \n",
      "\n",
      "5 5 5 5 5 \n",
      "\n"
     ]
    }
   ],
   "source": [
    "for i in range (6):\n",
    "    for j in range(i):\n",
    "        print(i,end=\" \")\n",
    "    print(\"\\n\")"
   ]
  },
  {
   "cell_type": "markdown",
   "metadata": {},
   "source": [
    " Given a string of odd length greater than 7, return a string made of the middle three chars of a given String. "
   ]
  },
  {
   "cell_type": "code",
   "execution_count": 67,
   "metadata": {},
   "outputs": [
    {
     "name": "stdout",
     "output_type": "stream",
     "text": [
      "enter string : snhdghsgf\n",
      "ghs\n"
     ]
    }
   ],
   "source": [
    "s=input(\"enter string : \")\n",
    "mid=int(len(s)/2)\n",
    "thd=int(mid+3)\n",
    "_3chr=s[mid:thd]\n",
    "print(_3chr)"
   ]
  },
  {
   "cell_type": "markdown",
   "metadata": {},
   "source": [
    " Given 2 strings, s1 and s2, create a new string by appending s2 in the middle of s1."
   ]
  },
  {
   "cell_type": "code",
   "execution_count": 16,
   "metadata": {},
   "outputs": [
    {
     "name": "stdout",
     "output_type": "stream",
     "text": [
      "enter string : aaaaaaaaaaaa\n",
      "enter string : sssssssssssss\n",
      "['a', 'a', 'a', 'a', 'a', 'a', 'a', 'a', 'a', 'a', 'a', 'a']\n",
      "['a', 'a', 'a', 'a', 'a', 'a', ['s', 's', 's', 's', 's', 's', 's', 's', 's', 's', 's', 's', 's'], 'a', 'a', 'a', 'a', 'a']\n"
     ]
    }
   ],
   "source": [
    "s1=input(\"enter string : \")\n",
    "s2=input(\"enter string : \")\n",
    "s11=list(s1)\n",
    "print(s11)\n",
    "s22=list(s2)\n",
    "mid=int(len(s11)/2)\n",
    "s11[mid]=s22\n",
    "print(s11)"
   ]
  },
  {
   "cell_type": "markdown",
   "metadata": {},
   "source": [
    " Given 2 strings, s1, and s2 return a new string made of the first, middle and last char each input string. "
   ]
  },
  {
   "cell_type": "code",
   "execution_count": 19,
   "metadata": {},
   "outputs": [
    {
     "name": "stdout",
     "output_type": "stream",
     "text": [
      "enter string : asdfgghj\n",
      "enter string : nvvcxz\n",
      "a    g    j\n",
      "n    c    z\n"
     ]
    }
   ],
   "source": [
    "s1=input(\"enter string : \")\n",
    "s2=input(\"enter string : \")\n",
    "s11=list(s1)\n",
    "s22=list(s2)\n",
    "\n",
    "mid1=int(len(s11)/2)\n",
    "mid2=int(len(s22)/2)\n",
    "\n",
    "print(s11[0],\"  \", s11[mid1] ,\"  \",s11[-1])\n",
    "print(s22[0],\"  \", s22[mid2] ,\"  \",s22[-1])"
   ]
  },
  {
   "cell_type": "markdown",
   "metadata": {},
   "source": [
    " arrange String characters such that lowercase letters should come first"
   ]
  },
  {
   "cell_type": "code",
   "execution_count": 21,
   "metadata": {},
   "outputs": [
    {
     "ename": "SyntaxError",
     "evalue": "can't assign to function call (<ipython-input-21-a11c43b81f0c>, line 4)",
     "output_type": "error",
     "traceback": [
      "\u001b[1;36m  File \u001b[1;32m\"<ipython-input-21-a11c43b81f0c>\"\u001b[1;36m, line \u001b[1;32m4\u001b[0m\n\u001b[1;33m    for s[i].islower() in s:\u001b[0m\n\u001b[1;37m       ^\u001b[0m\n\u001b[1;31mSyntaxError\u001b[0m\u001b[1;31m:\u001b[0m can't assign to function call\n"
     ]
    }
   ],
   "source": [
    "s=input(\"enter string : \")\n",
    "s=list(s)\n",
    "i=0\n",
    "for s[i].islower() in s:\n",
    "    s=s.append[I]\n",
    "    i+=1\n",
    "print(s)"
   ]
  },
  {
   "cell_type": "markdown",
   "metadata": {},
   "source": [
    " Sort a given string alphabetically. "
   ]
  },
  {
   "cell_type": "code",
   "execution_count": 20,
   "metadata": {},
   "outputs": [
    {
     "name": "stdout",
     "output_type": "stream",
     "text": [
      "enter string : jhsgdjfsg\n",
      "['d', 'f', 'g', 'g', 'h', 'j', 'j', 's', 's']\n"
     ]
    }
   ],
   "source": [
    "s=input(\"enter string : \")\n",
    "print(sorted(s))"
   ]
  },
  {
   "cell_type": "markdown",
   "metadata": {},
   "source": [
    " Given a string input Count all lower case, upper case, digits, and special symbols Sample Input: ”My?Name!Is956Yazeed” Sample Output: Number of upper case: 4 Number of lower case: 10 Number of digits: 3 Number of special symbols: 2 "
   ]
  },
  {
   "cell_type": "code",
   "execution_count": 4,
   "metadata": {},
   "outputs": [
    {
     "name": "stdout",
     "output_type": "stream",
     "text": [
      "enter string : TRDRghdtd56565\n"
     ]
    },
    {
     "ename": "TypeError",
     "evalue": "list indices must be integers or slices, not str",
     "output_type": "error",
     "traceback": [
      "\u001b[1;31m---------------------------------------------------------------------------\u001b[0m",
      "\u001b[1;31mTypeError\u001b[0m                                 Traceback (most recent call last)",
      "\u001b[1;32m<ipython-input-4-1ba69d8db16a>\u001b[0m in \u001b[0;36m<module>\u001b[1;34m\u001b[0m\n\u001b[0;32m      2\u001b[0m \u001b[0ms\u001b[0m\u001b[1;33m=\u001b[0m\u001b[0mlist\u001b[0m\u001b[1;33m(\u001b[0m\u001b[0ms\u001b[0m\u001b[1;33m)\u001b[0m\u001b[1;33m\u001b[0m\u001b[1;33m\u001b[0m\u001b[0m\n\u001b[0;32m      3\u001b[0m \u001b[1;32mfor\u001b[0m \u001b[0mi\u001b[0m \u001b[1;32min\u001b[0m \u001b[0ms\u001b[0m\u001b[1;33m:\u001b[0m\u001b[1;33m\u001b[0m\u001b[1;33m\u001b[0m\u001b[0m\n\u001b[1;32m----> 4\u001b[1;33m     \u001b[1;32mif\u001b[0m \u001b[0ms\u001b[0m\u001b[1;33m[\u001b[0m\u001b[0mi\u001b[0m\u001b[1;33m]\u001b[0m\u001b[1;33m.\u001b[0m\u001b[0mislower\u001b[0m \u001b[1;33m==\u001b[0m \u001b[1;32mTrue\u001b[0m\u001b[1;33m:\u001b[0m\u001b[1;33m\u001b[0m\u001b[1;33m\u001b[0m\u001b[0m\n\u001b[0m\u001b[0;32m      5\u001b[0m         \u001b[0mc1\u001b[0m\u001b[1;33m=\u001b[0m\u001b[0ms\u001b[0m\u001b[1;33m.\u001b[0m\u001b[0mcount\u001b[0m\u001b[1;33m(\u001b[0m\u001b[1;33m)\u001b[0m\u001b[1;33m\u001b[0m\u001b[1;33m\u001b[0m\u001b[0m\n\u001b[0;32m      6\u001b[0m     \u001b[0mprint\u001b[0m\u001b[1;33m(\u001b[0m\u001b[1;34m\"Number of upper case: \"\u001b[0m \u001b[1;33m,\u001b[0m\u001b[0mc1\u001b[0m\u001b[1;33m)\u001b[0m\u001b[1;33m\u001b[0m\u001b[1;33m\u001b[0m\u001b[0m\n",
      "\u001b[1;31mTypeError\u001b[0m: list indices must be integers or slices, not str"
     ]
    }
   ],
   "source": [
    "s=input(\"enter string : \")\n",
    "s=list(s)\n",
    "for i in s:\n",
    "    if s[i].islower == True:\n",
    "        c1=s.count()    \n",
    "    print(\"Number of upper case: \" ,c1)\n",
    "    if s[i].isupper == True:\n",
    "        c2=s.count() \n",
    "    print(\"Number of lower case: \",c2)\n",
    "    if s[i].isdigit ==True:\n",
    "        c3=s.count() \n",
    "    print(\"Number of digits: \",c3)"
   ]
  },
  {
   "cell_type": "markdown",
   "metadata": {},
   "source": [
    " Write Python program that takes a positive integer n as an input from the user and calculates the sum up to n. "
   ]
  },
  {
   "cell_type": "code",
   "execution_count": 20,
   "metadata": {},
   "outputs": [
    {
     "name": "stdout",
     "output_type": "stream",
     "text": [
      "Enter Number to calculate sum5\n",
      "SUM of first  5 numbers is:  15\n"
     ]
    }
   ],
   "source": [
    "n = input(\"Enter Number to calculate sum\")\n",
    "n = int (n)\n",
    "average = 0\n",
    "sum = 0\n",
    "\n",
    "for num in range(0,n+1,1):\n",
    "    sum = sum+num\n",
    "\n",
    "print(\"SUM of first \", n, \"numbers is: \", sum )"
   ]
  },
  {
   "cell_type": "markdown",
   "metadata": {},
   "source": [
    " Use the While or for statement to write a program that computes and displays the factorial of a positive integer n entered by the user."
   ]
  },
  {
   "cell_type": "code",
   "execution_count": 5,
   "metadata": {},
   "outputs": [
    {
     "name": "stdout",
     "output_type": "stream",
     "text": [
      "enter number:3\n",
      "6\n"
     ]
    }
   ],
   "source": [
    "n=int(input(\"enter number:\"))\n",
    "f=1\n",
    "for i in range(1,n+1):\n",
    "    f=f*i\n",
    "print(f)\n",
    "    "
   ]
  },
  {
   "cell_type": "markdown",
   "metadata": {},
   "source": [
    "Write a program that uses a while loop to display valuesfrom -5 through 5, using an increment of 0.5. "
   ]
  },
  {
   "cell_type": "code",
   "execution_count": 3,
   "metadata": {},
   "outputs": [
    {
     "name": "stdout",
     "output_type": "stream",
     "text": [
      "-5  \n",
      "-4.5  \n",
      "-4.0  \n",
      "-3.5  \n",
      "-3.0  \n",
      "-2.5  \n",
      "-2.0  \n",
      "-1.5  \n",
      "-1.0  \n",
      "-0.5  \n",
      "0.0  \n",
      "0.5  \n",
      "1.0  \n",
      "1.5  \n",
      "2.0  \n",
      "2.5  \n",
      "3.0  \n",
      "3.5  \n",
      "4.0  \n",
      "4.5  \n",
      "5.0  \n"
     ]
    }
   ],
   "source": [
    "i=-5\n",
    "while i>=-5 and i<=5 :\n",
    "    print(i,\" \")\n",
    "    i+=0.5"
   ]
  },
  {
   "cell_type": "markdown",
   "metadata": {},
   "source": [
    "Write a Python program that prints the following star pattern: * * * * * * * * * *\n"
   ]
  },
  {
   "cell_type": "code",
   "execution_count": 1,
   "metadata": {},
   "outputs": [],
   "source": [
    "for i in range (5,0):\n",
    "    n=\"*\"\n",
    "    for j in range(i+1,0):\n",
    "        print(n*j,end=\" \")"
   ]
  },
  {
   "cell_type": "markdown",
   "metadata": {},
   "source": [
    " Write programs that implement the following equations:\n"
   ]
  },
  {
   "cell_type": "code",
   "execution_count": 2,
   "metadata": {},
   "outputs": [
    {
     "name": "stdout",
     "output_type": "stream",
     "text": [
      "1\n",
      "4\n",
      "9\n",
      "16\n",
      "25\n",
      "36\n",
      "49\n",
      "64\n",
      "81\n",
      "100\n",
      "121\n",
      "144\n",
      "169\n",
      "196\n",
      "225\n",
      "256\n",
      "289\n",
      "324\n",
      "361\n",
      "400\n",
      "441\n",
      "484\n",
      "529\n",
      "576\n",
      "625\n",
      "676\n",
      "729\n",
      "784\n",
      "841\n",
      "900\n",
      "961\n",
      "1024\n",
      "1089\n",
      "1156\n",
      "1225\n",
      "1296\n",
      "1369\n",
      "1444\n",
      "1521\n",
      "1600\n",
      "1681\n",
      "1764\n",
      "1849\n",
      "1936\n",
      "2025\n",
      "2116\n",
      "2209\n",
      "2304\n",
      "2401\n",
      "2500\n",
      "2601\n",
      "2704\n",
      "2809\n",
      "2916\n",
      "3025\n",
      "3136\n",
      "3249\n",
      "3364\n",
      "3481\n",
      "3600\n",
      "3721\n",
      "3844\n",
      "3969\n",
      "4096\n",
      "4225\n",
      "4356\n",
      "4489\n",
      "4624\n",
      "4761\n",
      "4900\n",
      "5041\n",
      "5184\n",
      "5329\n",
      "5476\n",
      "5625\n",
      "5776\n",
      "5929\n",
      "6084\n",
      "6241\n",
      "6400\n",
      "6561\n",
      "6724\n",
      "6889\n",
      "7056\n",
      "7225\n",
      "7396\n",
      "7569\n",
      "7744\n",
      "7921\n",
      "8100\n",
      "8281\n",
      "8464\n",
      "8649\n",
      "8836\n",
      "9025\n",
      "9216\n",
      "9409\n",
      "9604\n",
      "9801\n",
      "10000\n"
     ]
    }
   ],
   "source": [
    "for i in range(1,101):\n",
    "    print(i**2)"
   ]
  },
  {
   "cell_type": "markdown",
   "metadata": {},
   "source": [
    " Write a Python program to print Fibonacci series up to 10th term. "
   ]
  },
  {
   "cell_type": "code",
   "execution_count": 6,
   "metadata": {},
   "outputs": [
    {
     "name": "stdout",
     "output_type": "stream",
     "text": [
      "21\n"
     ]
    }
   ],
   "source": [
    "n=10\n",
    "a=0\n",
    "b=1\n",
    "if n==0:\n",
    "    print(a)\n",
    "elif n==1:\n",
    "    print(b)\n",
    "else:\n",
    "    for i in range(2,n):\n",
    "        c=a+b\n",
    "        a=b\n",
    "        b=c\n",
    "    print(b)\n",
    "        "
   ]
  },
  {
   "cell_type": "markdown",
   "metadata": {},
   "source": [
    " Write a Python program to print GCD between any two given numbers. "
   ]
  },
  {
   "cell_type": "code",
   "execution_count": 9,
   "metadata": {},
   "outputs": [
    {
     "name": "stdout",
     "output_type": "stream",
     "text": [
      "enter number: 54\n",
      "enter number: 24\n",
      "6\n"
     ]
    }
   ],
   "source": [
    "n1=int(input(\"enter number: \"))\n",
    "n2=int(input(\"enter number: \"))\n",
    "if n1>n2:\n",
    "    sml=n2\n",
    "else:\n",
    "    sml=n1\n",
    "for i in range(1,sml+1):\n",
    "    if ((n1%i==0)and (n2%i==0)):\n",
    "        gcd=i\n",
    "print(gcd)"
   ]
  },
  {
   "cell_type": "markdown",
   "metadata": {},
   "source": [
    " Write a Python program to print LCM between any two given numbers"
   ]
  },
  {
   "cell_type": "code",
   "execution_count": 3,
   "metadata": {},
   "outputs": [
    {
     "name": "stdout",
     "output_type": "stream",
     "text": [
      "enter number: 5\n",
      "enter number: 3\n",
      "15\n"
     ]
    }
   ],
   "source": [
    "n1=int(input(\"enter number: \"))\n",
    "n2=int(input(\"enter number: \"))\n",
    "if n1>n2:\n",
    "    sml=n1\n",
    "else:\n",
    "    sml=n2\n",
    "while (1):\n",
    "    if ((sml%n1==0)and (sml%n2==0)):\n",
    "        lcm=sml\n",
    "        print(lcm)\n",
    "        break\n",
    "    sml=sml+1    "
   ]
  },
  {
   "cell_type": "markdown",
   "metadata": {},
   "source": [
    " Write a Python program to find the sum of all natural odd numbers between 1 and 100. "
   ]
  },
  {
   "cell_type": "code",
   "execution_count": 15,
   "metadata": {},
   "outputs": [
    {
     "name": "stdout",
     "output_type": "stream",
     "text": [
      "2500\n"
     ]
    }
   ],
   "source": [
    "s=0\n",
    "for i in range(1,101,2):\n",
    "    s=s+i\n",
    "print(s)"
   ]
  },
  {
   "cell_type": "markdown",
   "metadata": {},
   "source": [
    "Write a Python program to find the sum of all natural prime numbers between 1 and 100. "
   ]
  },
  {
   "cell_type": "code",
   "execution_count": 17,
   "metadata": {},
   "outputs": [
    {
     "name": "stdout",
     "output_type": "stream",
     "text": [
      "5050\n"
     ]
    }
   ],
   "source": [
    "s=0\n",
    "for i in range(1,101):\n",
    "    if i%i==0 :\n",
    "        s=s+i\n",
    "print(s)"
   ]
  },
  {
   "cell_type": "markdown",
   "metadata": {},
   "source": [
    " Write a Python program to find the product of all natural even numbers between 1 and 100"
   ]
  },
  {
   "cell_type": "code",
   "execution_count": 19,
   "metadata": {},
   "outputs": [
    {
     "name": "stdout",
     "output_type": "stream",
     "text": [
      "34243224702511976248246432895208185975118675053719198827915654463488000000000000\n"
     ]
    }
   ],
   "source": [
    "s=1\n",
    "for i in range(1,101):\n",
    "    if i%2==0 :\n",
    "        s=s*i\n",
    "print(s)"
   ]
  },
  {
   "cell_type": "code",
   "execution_count": 20,
   "metadata": {},
   "outputs": [
    {
     "name": "stdout",
     "output_type": "stream",
     "text": [
      "0 * 0 = 0\n",
      "1 * 0 = 0\n",
      "2 * 0 = 0\n",
      "3 * 0 = 0\n",
      "4 * 0 = 0\n",
      "5 * 0 = 0\n",
      "6 * 0 = 0\n",
      "7 * 0 = 0\n",
      "8 * 0 = 0\n",
      "9 * 0 = 0\n",
      "0 * 1 = 0\n",
      "1 * 1 = 1\n",
      "2 * 1 = 2\n",
      "3 * 1 = 3\n",
      "4 * 1 = 4\n",
      "5 * 1 = 5\n",
      "6 * 1 = 6\n",
      "7 * 1 = 7\n",
      "8 * 1 = 8\n",
      "9 * 1 = 9\n",
      "0 * 2 = 0\n",
      "1 * 2 = 2\n",
      "2 * 2 = 4\n",
      "3 * 2 = 6\n",
      "4 * 2 = 8\n",
      "5 * 2 = 10\n",
      "6 * 2 = 12\n",
      "7 * 2 = 14\n",
      "8 * 2 = 16\n",
      "9 * 2 = 18\n",
      "0 * 3 = 0\n",
      "1 * 3 = 3\n",
      "2 * 3 = 6\n",
      "3 * 3 = 9\n",
      "4 * 3 = 12\n",
      "5 * 3 = 15\n",
      "6 * 3 = 18\n",
      "7 * 3 = 21\n",
      "8 * 3 = 24\n",
      "9 * 3 = 27\n",
      "0 * 4 = 0\n",
      "1 * 4 = 4\n",
      "2 * 4 = 8\n",
      "3 * 4 = 12\n",
      "4 * 4 = 16\n",
      "5 * 4 = 20\n",
      "6 * 4 = 24\n",
      "7 * 4 = 28\n",
      "8 * 4 = 32\n",
      "9 * 4 = 36\n",
      "0 * 5 = 0\n",
      "1 * 5 = 5\n",
      "2 * 5 = 10\n",
      "3 * 5 = 15\n",
      "4 * 5 = 20\n",
      "5 * 5 = 25\n",
      "6 * 5 = 30\n",
      "7 * 5 = 35\n",
      "8 * 5 = 40\n",
      "9 * 5 = 45\n",
      "0 * 6 = 0\n",
      "1 * 6 = 6\n",
      "2 * 6 = 12\n",
      "3 * 6 = 18\n",
      "4 * 6 = 24\n",
      "5 * 6 = 30\n",
      "6 * 6 = 36\n",
      "7 * 6 = 42\n",
      "8 * 6 = 48\n",
      "9 * 6 = 54\n",
      "0 * 7 = 0\n",
      "1 * 7 = 7\n",
      "2 * 7 = 14\n",
      "3 * 7 = 21\n",
      "4 * 7 = 28\n",
      "5 * 7 = 35\n",
      "6 * 7 = 42\n",
      "7 * 7 = 49\n",
      "8 * 7 = 56\n",
      "9 * 7 = 63\n",
      "0 * 8 = 0\n",
      "1 * 8 = 8\n",
      "2 * 8 = 16\n",
      "3 * 8 = 24\n",
      "4 * 8 = 32\n",
      "5 * 8 = 40\n",
      "6 * 8 = 48\n",
      "7 * 8 = 56\n",
      "8 * 8 = 64\n",
      "9 * 8 = 72\n",
      "0 * 9 = 0\n",
      "1 * 9 = 9\n",
      "2 * 9 = 18\n",
      "3 * 9 = 27\n",
      "4 * 9 = 36\n",
      "5 * 9 = 45\n",
      "6 * 9 = 54\n",
      "7 * 9 = 63\n",
      "8 * 9 = 72\n",
      "9 * 9 = 81\n"
     ]
    }
   ],
   "source": [
    "for i in range (10):\n",
    "    for j in range (10):\n",
    "        print(j,\"*\",i,\"=\", j*i)"
   ]
  },
  {
   "cell_type": "markdown",
   "metadata": {},
   "source": [
    " Write a Python program to input a number from user and count number of digits in the given integer. "
   ]
  },
  {
   "cell_type": "code",
   "execution_count": 24,
   "metadata": {},
   "outputs": [
    {
     "name": "stdout",
     "output_type": "stream",
     "text": [
      "enter number: 1234\n",
      "4\n"
     ]
    }
   ],
   "source": [
    "x=int(input(\"enter number: \"))\n",
    "c=0\n",
    "while x>0:\n",
    "    c=c+1\n",
    "    x=x//10\n",
    "print(c)\n",
    "    "
   ]
  },
  {
   "cell_type": "markdown",
   "metadata": {},
   "source": [
    "Write a Python program to input a number from user and find if the number is Palindrome. "
   ]
  },
  {
   "cell_type": "code",
   "execution_count": 27,
   "metadata": {},
   "outputs": [
    {
     "name": "stdout",
     "output_type": "stream",
     "text": [
      "enter number: 121\n",
      "plindrome\n"
     ]
    }
   ],
   "source": [
    "x=int(input(\"enter number: \"))\n",
    "y=x\n",
    "z=0\n",
    "while(x>0):\n",
    "    n=x%10\n",
    "    z=z*10+n\n",
    "    x=x//10\n",
    "if (y==z):\n",
    "    print(\"plindrome\")\n",
    "else:\n",
    "    print(\"not plindrome\")"
   ]
  },
  {
   "cell_type": "markdown",
   "metadata": {},
   "source": [
    " Write a Python program to input a number and calculate the sum of its digits"
   ]
  },
  {
   "cell_type": "code",
   "execution_count": 28,
   "metadata": {},
   "outputs": [
    {
     "name": "stdout",
     "output_type": "stream",
     "text": [
      "enter number: 6545\n",
      "20\n"
     ]
    }
   ],
   "source": [
    "x=int(input(\"enter number: \"))\n",
    "s=0\n",
    "while x>0:\n",
    "    y=x%10\n",
    "    x=x//10\n",
    "    s=s+y\n",
    "print(s)"
   ]
  },
  {
   "cell_type": "markdown",
   "metadata": {},
   "source": [
    " Writeapythonprogramtofindheightsofthetopthreebuildingindescendingorderfromeight given buildings. Input: 0 = height of building (integer) = 10,000 Input the heights of eight buildings: 25 35 15 16 30 45 37 39 Heights of the top three buildings: 45 39 37 "
   ]
  },
  {
   "cell_type": "code",
   "execution_count": 5,
   "metadata": {},
   "outputs": [
    {
     "name": "stdout",
     "output_type": "stream",
     "text": [
      "Input the heights of eight buildings:\n",
      "25\n",
      "35\n",
      "5\n",
      "16\n",
      "30\n",
      "45\n",
      "37\n",
      "39\n",
      "Heights of the top three buildings:\n",
      "45\n",
      "39\n",
      "37\n"
     ]
    }
   ],
   "source": [
    "print(\"Input the heights of eight buildings:\")\n",
    "l = [int(input()) for i in range(8)]\n",
    "print(\"Heights of the top three buildings:\")\n",
    "l = sorted(l)\n",
    "print(*l[:4:-1], sep='\\n')"
   ]
  },
  {
   "cell_type": "markdown",
   "metadata": {},
   "source": [
    "Write a Python program to check whether three given lengths (integers) of three sides form a right triangle. Print ”Yes” if the given sides form a right triangle otherwise print ”No”. Input: Integers separated by a single space. 1 = length of the side = 1,000 Input three integers(sides of a triangle) 8 6 7 No"
   ]
  },
  {
   "cell_type": "code",
   "execution_count": 7,
   "metadata": {},
   "outputs": [
    {
     "name": "stdout",
     "output_type": "stream",
     "text": [
      "Input three integers(sides of a triangle)\n",
      "8,6,7\n"
     ]
    },
    {
     "ename": "ValueError",
     "evalue": "invalid literal for int() with base 10: '8,6,7'",
     "output_type": "error",
     "traceback": [
      "\u001b[1;31m---------------------------------------------------------------------------\u001b[0m",
      "\u001b[1;31mValueError\u001b[0m                                Traceback (most recent call last)",
      "\u001b[1;32m<ipython-input-7-1fffce98848a>\u001b[0m in \u001b[0;36m<module>\u001b[1;34m\u001b[0m\n\u001b[0;32m      1\u001b[0m \u001b[0mprint\u001b[0m\u001b[1;33m(\u001b[0m\u001b[1;34m\"Input three integers(sides of a triangle)\"\u001b[0m\u001b[1;33m)\u001b[0m\u001b[1;33m\u001b[0m\u001b[1;33m\u001b[0m\u001b[0m\n\u001b[1;32m----> 2\u001b[1;33m \u001b[0mint_num\u001b[0m \u001b[1;33m=\u001b[0m \u001b[0mlist\u001b[0m\u001b[1;33m(\u001b[0m\u001b[0mmap\u001b[0m\u001b[1;33m(\u001b[0m\u001b[0mint\u001b[0m\u001b[1;33m,\u001b[0m\u001b[0minput\u001b[0m\u001b[1;33m(\u001b[0m\u001b[1;33m)\u001b[0m\u001b[1;33m.\u001b[0m\u001b[0msplit\u001b[0m\u001b[1;33m(\u001b[0m\u001b[1;33m)\u001b[0m\u001b[1;33m)\u001b[0m\u001b[1;33m)\u001b[0m\u001b[1;33m\u001b[0m\u001b[1;33m\u001b[0m\u001b[0m\n\u001b[0m\u001b[0;32m      3\u001b[0m \u001b[0mx\u001b[0m\u001b[1;33m,\u001b[0m\u001b[0my\u001b[0m\u001b[1;33m,\u001b[0m\u001b[0mz\u001b[0m \u001b[1;33m=\u001b[0m \u001b[0msorted\u001b[0m\u001b[1;33m(\u001b[0m\u001b[0mint_num\u001b[0m\u001b[1;33m)\u001b[0m\u001b[1;33m\u001b[0m\u001b[1;33m\u001b[0m\u001b[0m\n\u001b[0;32m      4\u001b[0m \u001b[1;32mif\u001b[0m \u001b[0mx\u001b[0m\u001b[1;33m**\u001b[0m\u001b[1;36m2\u001b[0m\u001b[1;33m+\u001b[0m\u001b[0my\u001b[0m\u001b[1;33m**\u001b[0m\u001b[1;36m2\u001b[0m\u001b[1;33m==\u001b[0m\u001b[0mz\u001b[0m\u001b[1;33m**\u001b[0m\u001b[1;36m2\u001b[0m\u001b[1;33m:\u001b[0m\u001b[1;33m\u001b[0m\u001b[1;33m\u001b[0m\u001b[0m\n\u001b[0;32m      5\u001b[0m     \u001b[0mprint\u001b[0m\u001b[1;33m(\u001b[0m\u001b[1;34m'Yes'\u001b[0m\u001b[1;33m)\u001b[0m\u001b[1;33m\u001b[0m\u001b[1;33m\u001b[0m\u001b[0m\n",
      "\u001b[1;31mValueError\u001b[0m: invalid literal for int() with base 10: '8,6,7'"
     ]
    }
   ],
   "source": [
    "print(\"Input three integers(sides of a triangle)\")\n",
    "int_num = list(map(int,input().split()))\n",
    "x,y,z = sorted(int_num)\n",
    "if x**2+y**2==z**2:\n",
    "    print('Yes')\n",
    "else:\n",
    "    print('No')"
   ]
  },
  {
   "cell_type": "markdown",
   "metadata": {},
   "source": [
    "Write a Python program to find the digits which are absent in a given mobile number. "
   ]
  },
  {
   "cell_type": "code",
   "execution_count": 8,
   "metadata": {},
   "outputs": [
    {
     "name": "stdout",
     "output_type": "stream",
     "text": [
      "[1, 4, 5]\n"
     ]
    }
   ],
   "source": [
    "def absent_digits(n):\n",
    "    all_nums = set([0,1,2,3,4,5,6,7,8,9])\n",
    "    n = set([int(i) for i in n])\n",
    "    n = n.symmetric_difference(all_nums)\n",
    "    n = sorted(n)\n",
    "    return n\n",
    "print(absent_digits([9,8,3,2,2,0,9,7,6,3]))"
   ]
  },
  {
   "cell_type": "markdown",
   "metadata": {},
   "source": [
    " WriteaPythonprogramthatacceptapositivenumberandsubtractfromthisnumberthesum of its digits and so on. Continues this operation until the number is positive "
   ]
  },
  {
   "cell_type": "code",
   "execution_count": 10,
   "metadata": {},
   "outputs": [
    {
     "name": "stdout",
     "output_type": "stream",
     "text": [
      "1\n",
      "3\n"
     ]
    }
   ],
   "source": [
    "def repeat_times(n):\n",
    "    s = 0\n",
    "    n_str = str(n)\n",
    "    while (n > 0):\n",
    "        n -= sum([int(i) for i in list(n_str)])\n",
    "        n_str = list(str(n))\n",
    "        s += 1\n",
    "    return s\n",
    "print(repeat_times(9))\n",
    "print(repeat_times(21))"
   ]
  },
  {
   "cell_type": "markdown",
   "metadata": {},
   "source": [
    "Write a Python program to find the number of divisors of a given integer is even or odd. "
   ]
  },
  {
   "cell_type": "code",
   "execution_count": 12,
   "metadata": {},
   "outputs": [
    {
     "name": "stdout",
     "output_type": "stream",
     "text": [
      "4\n",
      "6\n",
      "3\n",
      "4\n",
      "2\n"
     ]
    }
   ],
   "source": [
    "def divisor(n):\n",
    "    for i in range(n):\n",
    "        x = len([i for i in range(1,n+1) if not n % i])\n",
    "    return x\n",
    "print(divisor(15))\n",
    "print(divisor(12))\n",
    "print(divisor(9))\n",
    "print(divisor(6))\n",
    "print(divisor(3))"
   ]
  },
  {
   "cell_type": "markdown",
   "metadata": {},
   "source": [
    " Write a Python program to find all the divisors of a given number. "
   ]
  },
  {
   "cell_type": "code",
   "execution_count": 13,
   "metadata": {},
   "outputs": [
    {
     "name": "stdout",
     "output_type": "stream",
     "text": [
      "Enter an integer:55\n",
      "The divisors of the number are:\n",
      "1\n",
      "5\n",
      "11\n",
      "55\n"
     ]
    }
   ],
   "source": [
    "n=int(input(\"Enter an integer:\"))\n",
    "print(\"The divisors of the number are:\")\n",
    "for i in range(1,n+1):\n",
    "    if(n%i==0):\n",
    "        print(i)"
   ]
  },
  {
   "cell_type": "markdown",
   "metadata": {},
   "source": [
    "Write a Python program to find the median among n given number"
   ]
  },
  {
   "cell_type": "code",
   "execution_count": 16,
   "metadata": {},
   "outputs": [
    {
     "name": "stdout",
     "output_type": "stream",
     "text": [
      "Input the first numyer: 5\n",
      "Input the second numyer: 5\n",
      "Input the third numyer: 5\n",
      "Median of the above 3 numyers is: \n"
     ]
    }
   ],
   "source": [
    "a = input(\"Input the first numyer: \")\n",
    "y = input(\"Input the second numyer: \")\n",
    "z = input(\"Input the third numyer: \")\n",
    "print(\"Median of the above 3 numyers is: \")\n",
    "if y < a and a < z:\n",
    "    print(a)\n",
    "elif z < a and a < y:\n",
    "    print(a)\n",
    "elif z < y and y < a:\n",
    "    print(y)\n",
    "elif a < y and y < z:\n",
    "    print(y)\n",
    "elif y < z and z < a:\n",
    "    print(z)    \n",
    "elif a < z and z < y:\n",
    "    print(z)"
   ]
  },
  {
   "cell_type": "markdown",
   "metadata": {},
   "source": [
    "Write a Python program to get all strobogrammatic numbers that are of length n. A strobogrammatic number is a number whose numeral is rotationally symmetric, so that it appears the same when rotated 180 degrees. In other words, the numeral looks the same rightside up and upside down (e.g., 69, 96, 1001). For example, Given n = 2, return [”11”, ”69”, ”88”, ”96”]. Given n = 3, return [’818’, ’111’, ’916’, ’619’, ’808’, ’101’, ’906’, ’609’, ’888’, ’181’, ’986’, ’689’] "
   ]
  },
  {
   "cell_type": "code",
   "execution_count": null,
   "metadata": {},
   "outputs": [],
   "source": [
    "def gen_strobogrammatic(n):\n",
    "    \"\"\"\n",
    "    :type n: int\n",
    "    :rtype: List[str]\n",
    "    \"\"\"\n",
    "    result = helper(n, n)\n",
    "    return result\n",
    "\n",
    "\n",
    "def helper(n, length):\n",
    "    if n == 0:\n",
    "        return [\"\"]\n",
    "    if n == 1:\n",
    "        return [\"1\", \"0\", \"8\"]\n",
    "    middles = helper(n-2, length)\n",
    "    result = []\n",
    "    for middle in middles:\n",
    "        if n != length:\n",
    "            result.append(\"0\" + middle + \"0\")\n",
    "        result.append(\"8\" + middle + \"8\")\n",
    "        result.append(\"1\" + middle + \"1\")\n",
    "        result.append(\"9\" + middle + \"6\")\n",
    "        result.append(\"6\" + middle + \"9\")\n",
    "    return result\n",
    "\n",
    "print(\"n = 2: \\n\",gen_strobogrammatic(2))\n",
    "print(\"n = 3: \\n\",gen_strobogrammatic(3))\n",
    "print(\"n = 4: \\n\",gen_strobogrammatic(4))"
   ]
  },
  {
   "cell_type": "markdown",
   "metadata": {},
   "source": [
    " Write a Python program to add two positive integers without using the ’+’ operator. Note: Use bit wise operations to add two numbers "
   ]
  },
  {
   "cell_type": "code",
   "execution_count": 17,
   "metadata": {},
   "outputs": [
    {
     "name": "stdout",
     "output_type": "stream",
     "text": [
      "12\n",
      "-10\n",
      "-30\n"
     ]
    }
   ],
   "source": [
    "def add_without_plus_operator(a, b):\n",
    "    while b != 0:\n",
    "        data = a & b\n",
    "        a = a ^ b\n",
    "        b = data << 1\n",
    "    return a\n",
    "print(add_without_plus_operator(2, 10))\n",
    "print(add_without_plus_operator(-20, 10))\n",
    "print(add_without_plus_operator(-10, -20))"
   ]
  },
  {
   "cell_type": "markdown",
   "metadata": {},
   "source": [
    "Write a Python function that takes a positive integer and returns the sum of the cube of all the positive integers smaller than the specified number. "
   ]
  },
  {
   "cell_type": "code",
   "execution_count": 18,
   "metadata": {},
   "outputs": [
    {
     "name": "stdout",
     "output_type": "stream",
     "text": [
      "Sum of cubes:  9\n"
     ]
    }
   ],
   "source": [
    "def sum_of_cubes(n):\n",
    "    n -= 1\n",
    "    total = 0\n",
    "    while n > 0:\n",
    "        total += n * n * n\n",
    "        n -= 1\n",
    "    return total\n",
    "print(\"Sum of cubes: \",sum_of_cubes(3))"
   ]
  },
  {
   "cell_type": "markdown",
   "metadata": {},
   "source": [
    " Write a Python program to prove that two string variables of same value point same memory location. "
   ]
  },
  {
   "cell_type": "code",
   "execution_count": 19,
   "metadata": {},
   "outputs": [
    {
     "name": "stdout",
     "output_type": "stream",
     "text": [
      "\n",
      "Memory location of str1 = 0x197c0557470\n",
      "Memory location of str2 = 0x197c0557470\n",
      "\n"
     ]
    }
   ],
   "source": [
    "str1 = \"Python\"\n",
    "str2 = \"Python\"\n",
    " \n",
    "print(\"\\nMemory location of str1 =\", hex(id(str1)))\n",
    "print(\"Memory location of str2 =\", hex(id(str2)))\n",
    "print()"
   ]
  },
  {
   "cell_type": "markdown",
   "metadata": {},
   "source": [
    "Write a Python program to find the ASCII string of a given number. "
   ]
  },
  {
   "cell_type": "code",
   "execution_count": 20,
   "metadata": {},
   "outputs": [
    {
     "name": "stdout",
     "output_type": "stream",
     "text": [
      "The ASCII value of 'p' is 112\n"
     ]
    }
   ],
   "source": [
    "c = 'p'\n",
    "\n",
    "# Uncomment to take character from user\n",
    "#c = input(\"Enter a character: \")\n",
    "\n",
    "print(\"The ASCII value of '\" + c + \"' is\",ord(c))"
   ]
  },
  {
   "cell_type": "markdown",
   "metadata": {},
   "source": [
    "Write a Python program to get the system time. "
   ]
  },
  {
   "cell_type": "code",
   "execution_count": 22,
   "metadata": {},
   "outputs": [
    {
     "name": "stdout",
     "output_type": "stream",
     "text": [
      "\n",
      "Sun Oct 27 21:07:48 2019\n",
      "\n"
     ]
    }
   ],
   "source": [
    "import time\n",
    "print()\n",
    "print(time.ctime())\n",
    "print()"
   ]
  },
  {
   "cell_type": "markdown",
   "metadata": {},
   "source": [
    "Write a Python program to get the identity of an object"
   ]
  },
  {
   "cell_type": "code",
   "execution_count": 23,
   "metadata": {},
   "outputs": [
    {
     "name": "stdout",
     "output_type": "stream",
     "text": [
      "\n",
      "1751339418880\n",
      "\n"
     ]
    }
   ],
   "source": [
    "obj1 = object()\n",
    "obj1_address = id(obj1)\n",
    "print()\n",
    "print(obj1_address)\n",
    "print()"
   ]
  },
  {
   "cell_type": "markdown",
   "metadata": {},
   "source": [
    "Write a Python program to convert a byte string to a list of integers. "
   ]
  },
  {
   "cell_type": "code",
   "execution_count": 24,
   "metadata": {},
   "outputs": [
    {
     "name": "stdout",
     "output_type": "stream",
     "text": [
      "\n",
      "[65, 98, 99]\n",
      "\n"
     ]
    }
   ],
   "source": [
    "x = b'Abc'\n",
    "print()\n",
    "print(list(x))\n",
    "print()"
   ]
  },
  {
   "cell_type": "code",
   "execution_count": null,
   "metadata": {},
   "outputs": [],
   "source": [
    "Write a Python program to sort three integers without using conditional statements, loops or strings."
   ]
  },
  {
   "cell_type": "code",
   "execution_count": 25,
   "metadata": {},
   "outputs": [
    {
     "name": "stdout",
     "output_type": "stream",
     "text": [
      "Input first number: 5\n",
      "Input second number: 5\n",
      "Input third number: 5\n",
      "Numbers in sorted order:  5 5 5\n"
     ]
    }
   ],
   "source": [
    "x = int(input(\"Input first number: \"))\n",
    "y = int(input(\"Input second number: \"))\n",
    "z = int(input(\"Input third number: \"))\n",
    "\n",
    "a1 = min(x, y, z)\n",
    "a3 = max(x, y, z)\n",
    "a2 = (x + y + z) - a1 - a3\n",
    "print(\"Numbers in sorted order: \", a1, a2, a3)"
   ]
  },
  {
   "cell_type": "markdown",
   "metadata": {},
   "source": [
    "Write a Python program to display your given details like name, age, address in three different lines. "
   ]
  },
  {
   "cell_type": "code",
   "execution_count": 26,
   "metadata": {},
   "outputs": [
    {
     "name": "stdout",
     "output_type": "stream",
     "text": [
      "Name: Simon\n",
      "Age: 19\n",
      "Address: Bangalore, Karnataka, India\n"
     ]
    }
   ],
   "source": [
    "def personal_details():\n",
    "    name, age = \"Simon\", 19\n",
    "    address = \"Bangalore, Karnataka, India\"\n",
    "    print(\"Name: {}\\nAge: {}\\nAddress: {}\".format(name, age, address))\n",
    "\n",
    "personal_details()"
   ]
  },
  {
   "cell_type": "markdown",
   "metadata": {},
   "source": [
    "  Write a Python program to get the n (non-negative integer) copies of the first 2 characters of a given string. Return the n copies of the whole string if the length is less than 2. "
   ]
  },
  {
   "cell_type": "code",
   "execution_count": 27,
   "metadata": {},
   "outputs": [
    {
     "ename": "UnboundLocalError",
     "evalue": "local variable 'substr' referenced before assignment",
     "output_type": "error",
     "traceback": [
      "\u001b[1;31m---------------------------------------------------------------------------\u001b[0m",
      "\u001b[1;31mUnboundLocalError\u001b[0m                         Traceback (most recent call last)",
      "\u001b[1;32m<ipython-input-27-b214db74e994>\u001b[0m in \u001b[0;36m<module>\u001b[1;34m\u001b[0m\n\u001b[0;32m      9\u001b[0m         \u001b[0mresult\u001b[0m \u001b[1;33m=\u001b[0m \u001b[0mresult\u001b[0m \u001b[1;33m+\u001b[0m \u001b[0msubstr\u001b[0m\u001b[1;33m\u001b[0m\u001b[1;33m\u001b[0m\u001b[0m\n\u001b[0;32m     10\u001b[0m     \u001b[1;32mreturn\u001b[0m \u001b[0mresult\u001b[0m\u001b[1;33m\u001b[0m\u001b[1;33m\u001b[0m\u001b[0m\n\u001b[1;32m---> 11\u001b[1;33m \u001b[0mprint\u001b[0m\u001b[1;33m(\u001b[0m\u001b[0msubstring_copy\u001b[0m\u001b[1;33m(\u001b[0m\u001b[1;34m'abcdef'\u001b[0m\u001b[1;33m,\u001b[0m \u001b[1;36m2\u001b[0m\u001b[1;33m)\u001b[0m\u001b[1;33m)\u001b[0m\u001b[1;33m\u001b[0m\u001b[1;33m\u001b[0m\u001b[0m\n\u001b[0m\u001b[0;32m     12\u001b[0m \u001b[0mprint\u001b[0m\u001b[1;33m(\u001b[0m\u001b[0msubstring_copy\u001b[0m\u001b[1;33m(\u001b[0m\u001b[1;34m'p'\u001b[0m\u001b[1;33m,\u001b[0m \u001b[1;36m3\u001b[0m\u001b[1;33m)\u001b[0m\u001b[1;33m)\u001b[0m\u001b[1;33m;\u001b[0m\u001b[1;33m\u001b[0m\u001b[1;33m\u001b[0m\u001b[0m\n",
      "\u001b[1;32m<ipython-input-27-b214db74e994>\u001b[0m in \u001b[0;36msubstring_copy\u001b[1;34m(str, n)\u001b[0m\n\u001b[0;32m      7\u001b[0m     \u001b[0mresult\u001b[0m \u001b[1;33m=\u001b[0m \u001b[1;34m\"\"\u001b[0m\u001b[1;33m\u001b[0m\u001b[1;33m\u001b[0m\u001b[0m\n\u001b[0;32m      8\u001b[0m     \u001b[1;32mfor\u001b[0m \u001b[0mi\u001b[0m \u001b[1;32min\u001b[0m \u001b[0mrange\u001b[0m\u001b[1;33m(\u001b[0m\u001b[0mn\u001b[0m\u001b[1;33m)\u001b[0m\u001b[1;33m:\u001b[0m\u001b[1;33m\u001b[0m\u001b[1;33m\u001b[0m\u001b[0m\n\u001b[1;32m----> 9\u001b[1;33m         \u001b[0mresult\u001b[0m \u001b[1;33m=\u001b[0m \u001b[0mresult\u001b[0m \u001b[1;33m+\u001b[0m \u001b[0msubstr\u001b[0m\u001b[1;33m\u001b[0m\u001b[1;33m\u001b[0m\u001b[0m\n\u001b[0m\u001b[0;32m     10\u001b[0m     \u001b[1;32mreturn\u001b[0m \u001b[0mresult\u001b[0m\u001b[1;33m\u001b[0m\u001b[1;33m\u001b[0m\u001b[0m\n\u001b[0;32m     11\u001b[0m \u001b[0mprint\u001b[0m\u001b[1;33m(\u001b[0m\u001b[0msubstring_copy\u001b[0m\u001b[1;33m(\u001b[0m\u001b[1;34m'abcdef'\u001b[0m\u001b[1;33m,\u001b[0m \u001b[1;36m2\u001b[0m\u001b[1;33m)\u001b[0m\u001b[1;33m)\u001b[0m\u001b[1;33m\u001b[0m\u001b[1;33m\u001b[0m\u001b[0m\n",
      "\u001b[1;31mUnboundLocalError\u001b[0m: local variable 'substr' referenced before assignment"
     ]
    }
   ],
   "source": [
    "def substring_copy(str, n):\n",
    "    flen = 2\n",
    "    if flen > len(str):\n",
    "        flen = len(str)\n",
    "        substr = str[:flen]\n",
    "  \n",
    "    result = \"\"\n",
    "    for i in range(n):\n",
    "        result = result + substr\n",
    "    return result\n",
    "print(substring_copy('abcdef', 2))\n",
    "print(substring_copy('p', 3));\n"
   ]
  },
  {
   "cell_type": "markdown",
   "metadata": {},
   "source": [
    " Write a Python program to get a string which is n (non-negative integer) copies of a given string. "
   ]
  },
  {
   "cell_type": "code",
   "execution_count": 28,
   "metadata": {},
   "outputs": [
    {
     "name": "stdout",
     "output_type": "stream",
     "text": [
      "abcabc\n",
      ".py.py.py\n"
     ]
    }
   ],
   "source": [
    "def larger_string(str, n):\n",
    "    result = \"\"\n",
    "    for i in range(n):\n",
    "        result = result + str\n",
    "    return result\n",
    "\n",
    "print(larger_string('abc', 2))\n",
    "print(larger_string('.py', 3))"
   ]
  },
  {
   "cell_type": "markdown",
   "metadata": {},
   "source": [
    " Write a Python program to get a new string from a given string where ”Is” has been added to the front. If the given string already begins with ”Is” then return the string unchanged. "
   ]
  },
  {
   "cell_type": "code",
   "execution_count": 33,
   "metadata": {},
   "outputs": [
    {
     "name": "stdout",
     "output_type": "stream",
     "text": [
      "IsArray\n",
      "IsEmpty\n"
     ]
    }
   ],
   "source": [
    "def new_string(str):\n",
    "    if len(str) >= 2 and str[:2] == \"Is\":\n",
    "        return str\n",
    "    return \"Is\" + str\n",
    "\n",
    "print(new_string(\"Array\"))\n",
    "print(new_string(\"IsEmpty\"))"
   ]
  },
  {
   "cell_type": "markdown",
   "metadata": {},
   "source": [
    "Write a Python program to accept a filename from the user as a string and print the extension of that file. Sample filename : abc.java Output : java\n"
   ]
  },
  {
   "cell_type": "code",
   "execution_count": 34,
   "metadata": {},
   "outputs": [
    {
     "name": "stdout",
     "output_type": "stream",
     "text": [
      "Input the Filename: msdfh\n",
      "The extension of the file is : 'msdfh'\n"
     ]
    }
   ],
   "source": [
    "filename = input(\"Input the Filename: \")\n",
    "f_extns = filename.split(\".\")\n",
    "print (\"The extension of the file is : \" + repr(f_extns[-1]))"
   ]
  },
  {
   "cell_type": "markdown",
   "metadata": {},
   "source": [
    " Find all unique character, numbers, ...etc. in a string and print them. "
   ]
  },
  {
   "cell_type": "code",
   "execution_count": 35,
   "metadata": {},
   "outputs": [
    {
     "name": "stdout",
     "output_type": "stream",
     "text": [
      "for"
     ]
    }
   ],
   "source": [
    "NO_OF_CHARS = 256\n",
    "def printDistinct(str): \n",
    "    count = [0] * NO_OF_CHARS \n",
    "    for i in range (len(str)): \n",
    "        if(str[i] != ' '): \n",
    "            count[ord(str[i])] += 1\n",
    "            n = i \n",
    "    for i in range(n): \n",
    "        if (count[ord(str[i])] == 1): \n",
    "            print (str[i], end = \"\") \n",
    "if __name__ == \"__main__\": \n",
    "  \n",
    "    str = \"GeeksforGeeks\"\n",
    "    printDistinct(str) "
   ]
  },
  {
   "cell_type": "code",
   "execution_count": null,
   "metadata": {},
   "outputs": [],
   "source": []
  }
 ],
 "metadata": {
  "kernelspec": {
   "display_name": "Python 3",
   "language": "python",
   "name": "python3"
  },
  "language_info": {
   "codemirror_mode": {
    "name": "ipython",
    "version": 3
   },
   "file_extension": ".py",
   "mimetype": "text/x-python",
   "name": "python",
   "nbconvert_exporter": "python",
   "pygments_lexer": "ipython3",
   "version": "3.7.4"
  }
 },
 "nbformat": 4,
 "nbformat_minor": 2
}
