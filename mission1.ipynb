{
 "cells": [
  {
   "cell_type": "code",
   "execution_count": null,
   "metadata": {},
   "outputs": [],
   "source": [
    "#1. Write a Python program to parse a string to Float or Integer. and print the type of them\n",
    "\n",
    "s=\"100\"\n",
    "print(type(s))\n",
    "ss=float(s)\n",
    "print(type(ss))"
   ]
  },
  {
   "cell_type": "code",
   "execution_count": null,
   "metadata": {},
   "outputs": [],
   "source": [
    "# Write a Python program to print two values without newline or space.\n",
    "\n",
    "a=\"areen\"\n",
    "b=\"alwaked\"\n",
    "print(a,b)\n",
    "\n",
    "\n"
   ]
  },
  {
   "cell_type": "code",
   "execution_count": 3,
   "metadata": {},
   "outputs": [
    {
     "name": "stdout",
     "output_type": "stream",
     "text": [
      "enter number: 2\n",
      "not division by 3\n"
     ]
    }
   ],
   "source": [
    "# Write a program that takes an input from the user and checks if it’s divisible by 3 or not. \n",
    "x=int(input(\"enter number: \"))\n",
    "if x%3==0:\n",
    "    print(\"division by 3\")\n",
    "else :\n",
    "    print(\"not division by 3\")\n"
   ]
  },
  {
   "cell_type": "code",
   "execution_count": 16,
   "metadata": {},
   "outputs": [
    {
     "name": "stdout",
     "output_type": "stream",
     "text": [
      "enter number: 50\n",
      "enter number: 21\n",
      "enter number: 4\n",
      "-365 \n",
      " -34733\n"
     ]
    }
   ],
   "source": [
    "# Write a program that reads three integers (a, b, and c), computes the following formulas and stores the results in the variables x1, x2 and prints the results of the program.\n",
    "\n",
    "a=int(input(\"enter number: \"))\n",
    "b=int(input(\"enter number: \"))\n",
    "c=int(input(\"enter number: \"))\n",
    "\n",
    "x1 = ((-b+c**4)/(2*a))-((3*(a+b**2))/c)\n",
    "x2 = ((a+(b**3))**2)/(c-(a**2))\n",
    "print(int(x1),\"\\n\",int(x2))"
   ]
  },
  {
   "cell_type": "code",
   "execution_count": 17,
   "metadata": {},
   "outputs": [
    {
     "name": "stdout",
     "output_type": "stream",
     "text": [
      "enter number: 4\n",
      "enter number: 46\n",
      "46\n"
     ]
    }
   ],
   "source": [
    " # Writeaprogramthatreadstwonumbersaandb. Printthemaximumvalueofthetwonumbers.\n",
    "a=int(input(\"enter number: \"))\n",
    "b=int(input(\"enter number: \"))\n",
    "print(max(a,b))\n",
    "    \n",
    "    \n",
    "    "
   ]
  },
  {
   "cell_type": "code",
   "execution_count": 18,
   "metadata": {},
   "outputs": [
    {
     "name": "stdout",
     "output_type": "stream",
     "text": [
      "enter number: 34\n",
      "enter number: 456\n",
      "enter number: 7\n",
      "456\n"
     ]
    }
   ],
   "source": [
    "# Write a program that reads three input values. Output the maximum value of the three.\n",
    "\n",
    "a=int(input(\"enter number: \"))\n",
    "b=int(input(\"enter number: \"))\n",
    "c=int(input(\"enter number: \"))\n",
    "print(max(a,b,c))"
   ]
  },
  {
   "cell_type": "code",
   "execution_count": 20,
   "metadata": {},
   "outputs": [
    {
     "name": "stdout",
     "output_type": "stream",
     "text": [
      "enter a value : 7\n",
      "enter b value : 0\n",
      "b is 0\n"
     ]
    }
   ],
   "source": [
    "# Write a program that reads two values a and b. If b is 0, output ”b is 0”.\n",
    "#Otherwise output the result of the division of a by b (a/b).\n",
    "\n",
    "a=int(input(\"enter a value : \"))\n",
    "b=int(input(\"enter b value : \"))\n",
    "if b==0:\n",
    "    print(\"b is 0\")\n",
    "else :\n",
    "    print(a/b)\n",
    "\n"
   ]
  },
  {
   "cell_type": "code",
   "execution_count": 23,
   "metadata": {},
   "outputs": [
    {
     "name": "stdout",
     "output_type": "stream",
     "text": [
      "num of days:365\n",
      "days = 365 \n",
      " weeks = 52.142857142857146 \n",
      " years = 1.0\n"
     ]
    }
   ],
   "source": [
    "#  Write a program to convert days into years, weeks and days. \n",
    "days=int(input( \"num of days:\"))\n",
    "weeks = days/7\n",
    "years=days/365\n",
    "print(\"days =\",days ,\"\\n\", \"weeks =\", weeks ,\"\\n\", \"years =\",years)\n"
   ]
  },
  {
   "cell_type": "code",
   "execution_count": 24,
   "metadata": {},
   "outputs": [
    {
     "name": "stdout",
     "output_type": "stream",
     "text": [
      "enter degrees in  Celsius is 54\n",
      "tempreture in fahrenheit =  129.2\n"
     ]
    }
   ],
   "source": [
    "#  Write a program to read temperature in Celsius and convert it into Fahrenheit. \n",
    "cls=int(input(\"enter degrees in  Celsius is \"))\n",
    "fh = cls*1.8+32\n",
    "print(\"tempreture in fahrenheit = \", fh)"
   ]
  },
  {
   "cell_type": "code",
   "execution_count": 26,
   "metadata": {},
   "outputs": [
    {
     "name": "stdout",
     "output_type": "stream",
     "text": [
      "enter number: 24\n",
      "enter number: 24\n",
      "error : division by zero\n"
     ]
    }
   ],
   "source": [
    "#  Write a program that reads two oat number and stores their values in variable x and y.\n",
    "#the program then computes the value (x2−y2) / (x−y) , stores the result in stores the result in a float named z and print\n",
    "#the value of z. if the computation division by zero,\n",
    "#the program must avoid that by printing an error message and exiting before computing the formula. \n",
    "\n",
    "x=int(input(\"enter number: \"))\n",
    "y=int(input(\"enter number: \"))\n",
    "if x-y==0:  \n",
    "    print(\"error : division by zero\")\n",
    "else:\n",
    "    z=((x**2)-(y**2))/(x-y)\n",
    "    print(z)"
   ]
  },
  {
   "cell_type": "code",
   "execution_count": 32,
   "metadata": {},
   "outputs": [
    {
     "name": "stdout",
     "output_type": "stream",
     "text": [
      "enter an integer Q-Range :120\n",
      "superior\n"
     ]
    }
   ],
   "source": [
    "#As you know Python has no switch statements so, Write a complete Python application that asks the user\n",
    "#to enter an integer Q-Range (”deviation IQ”) and output the IQ Classification according to the following table:\n",
    "#  Q Range (”deviation IQ”) -> IQ Classification\n",
    "# 130 and above -> Very Superior\n",
    "# 120 - 129 -> Superior \n",
    "# 110 - 119 -> High Average \n",
    "#    90 - 109 -> Average\n",
    "# 80 - 89 -> Low Average \n",
    "#    70 - 79 -> Borderline\n",
    " #   69 and below -> Extremely Low \n",
    "    \n",
    "q=int(input(\"enter an integer Q-Range :\"))\n",
    "if q>=130 :\n",
    "    print(\"very superior\")\n",
    "elif q>=120 and q<=129:\n",
    "    print(\"superior\")\n",
    "elif q>=110 and q<=119:\n",
    "    print(\"high average\")\n",
    "elif q>=90 and q<=109:\n",
    "    print(\"average\")\n",
    "elif q>=80 and q<=89 :\n",
    "    print(\"low average\")\n",
    "elif q>=70 and q<=79:\n",
    "    print(\"Borderline\")\n",
    "elif q<=69 :\n",
    "    print(\"Extremely Low \")\n",
    "    \n",
    "    "
   ]
  },
  {
   "cell_type": "code",
   "execution_count": 36,
   "metadata": {},
   "outputs": [
    {
     "name": "stdout",
     "output_type": "stream",
     "text": [
      "enter your mark: 101\n"
     ]
    }
   ],
   "source": [
    "# Write a program that classifies a student marks as follows:\n",
    "# [90−100] : A [80−90] : B [70−80] : C [60−70] : D [50−60] : E [0−50] : F\n",
    "mark =int(input(\"enter your mark: \"))\n",
    "if mark>=90 and mark<=100:\n",
    "    print(\"A\")\n",
    "elif mark>=80 and mark<90:\n",
    "    print(\"B\")\n",
    "elif mark>=70 and mark<80:\n",
    "    print(\"C\")\n",
    "elif mark>=60 and mark<70:\n",
    "    print(\"D\")\n",
    "elif mark>=50 and mark<60:\n",
    "    print(\"E\")\n",
    "elif mark>=0 and mark<50:\n",
    "    print(\"F\")"
   ]
  },
  {
   "cell_type": "code",
   "execution_count": 38,
   "metadata": {},
   "outputs": [
    {
     "name": "stdout",
     "output_type": "stream",
     "text": [
      "enter number: 3\n",
      "enter number: 4\n",
      "enter number: 5\n",
      "true\n"
     ]
    }
   ],
   "source": [
    "# Write a program that tests whether the formula a2 + b2 = c2 is true for three integers entered as input.\n",
    "\n",
    "a=int(input(\"enter number a: \"))\n",
    "b=int(input(\"enter number b: \"))\n",
    "c=int(input(\"enter number c: \"))\n",
    "if c**2==(a**2+b**2):\n",
    "    print(\"true\")\n",
    "else:\n",
    "    print(\"error\")\n",
    "\n",
    "\n",
    "\n",
    "\n",
    "\n"
   ]
  },
  {
   "cell_type": "code",
   "execution_count": 42,
   "metadata": {},
   "outputs": [
    {
     "name": "stdout",
     "output_type": "stream",
     "text": [
      "enter alphabet :wer\n",
      "constant\n"
     ]
    }
   ],
   "source": [
    "#  Write a Python program to check whether an alphabet is vowel or consonant. \n",
    "v=\"a,e,i,o,u\"\n",
    "x=input(\"enter alphabet :\")\n",
    "if x in v:\n",
    "    print(\"vowel\")\n",
    "else:\n",
    "    print(\"constant\")"
   ]
  },
  {
   "cell_type": "code",
   "execution_count": 49,
   "metadata": {},
   "outputs": [
    {
     "name": "stdout",
     "output_type": "stream",
     "text": [
      "enter number :77\n",
      "odd number\n"
     ]
    }
   ],
   "source": [
    "#Write a Python program to check whether a number is even or odd. \n",
    "\n",
    "num=int(input(\"enter number :\"))\n",
    "if num%2==0:\n",
    "    print(\"even number\")\n",
    "else:\n",
    "    print(\"odd number\")"
   ]
  },
  {
   "cell_type": "code",
   "execution_count": 51,
   "metadata": {},
   "outputs": [
    {
     "name": "stdout",
     "output_type": "stream",
     "text": [
      "Current date and time : \n",
      "2019-10-17 10:03:56\n"
     ]
    }
   ],
   "source": [
    "# Write a Python program to display the current date and time. Sample Output : Current date and time : 2019-07-05 21:25:48 \n",
    "\n",
    "import datetime\n",
    "now = datetime.datetime.now()\n",
    "print (\"Current date and time : \")\n",
    "print (now.strftime(\"%Y-%m-%d %H:%M:%S\"))"
   ]
  },
  {
   "cell_type": "code",
   "execution_count": 55,
   "metadata": {},
   "outputs": [
    {
     "name": "stdout",
     "output_type": "stream",
     "text": [
      "radius = 34\n",
      "area =  3629.84\n"
     ]
    }
   ],
   "source": [
    "# Write a Python program which accepts the radius of a circle from the user and compute the area; Sample Output :\n",
    "#r = 1.1 Area = 3.8013271108436504\n",
    "import math \n",
    "r=int(input(\"radius = \"))\n",
    "#area= (r**2)*3.14\n",
    "area=pow(r,2)*math.pi\n",
    "print(\"area = \" , area)"
   ]
  },
  {
   "cell_type": "code",
   "execution_count": 58,
   "metadata": {},
   "outputs": [
    {
     "name": "stdout",
     "output_type": "stream",
     "text": [
      "enter first and last name :areen alwaked\n",
      "['d', 'e', 'k', 'a', 'w', 'l', 'a', ' ', 'n', 'e', 'e', 'r', 'a']\n"
     ]
    }
   ],
   "source": [
    "# Write a Python program which accepts the user’s first and last name and print them in reverse order. \n",
    "fn=input(\"enter first and last name :\")\n",
    "print(list(reversed(fn)))\n",
    "\n",
    "      "
   ]
  },
  {
   "cell_type": "code",
   "execution_count": 60,
   "metadata": {},
   "outputs": [
    {
     "name": "stdout",
     "output_type": "stream",
     "text": [
      "enter number a: 2\n",
      "enter number b: 12\n",
      "enter number c: 2019\n",
      "The examination will start from : 2 / 12 / 2019\n"
     ]
    }
   ],
   "source": [
    "#  Write a Python program to read a three numbers from the user and display them as follow.\n",
    "#Sample Input = (11, 12, 2019) Sample Output : The examination will start from : 11 / 12 / 2019 \n",
    "\n",
    "a=int(input(\"enter number a: \"))\n",
    "b=int(input(\"enter number b: \"))\n",
    "c=int(input(\"enter number c: \"))\n",
    "print(\"The examination will start from :\",a,\"/\",b,\"/\",c)"
   ]
  },
  {
   "cell_type": "code",
   "execution_count": 61,
   "metadata": {},
   "outputs": [
    {
     "name": "stdout",
     "output_type": "stream",
     "text": [
      "number = 5\n",
      "155\n"
     ]
    }
   ],
   "source": [
    "# Write a Python program that accepts an integer (n)\n",
    "# and computes the value of n + nn + nnn. Sample value of n is 5 Expected Result : 615 \n",
    "n=int(input(\"number = \"))\n",
    "e=n+(n*n)+(n*n*n)\n",
    "print(e)"
   ]
  },
  {
   "cell_type": "code",
   "execution_count": 63,
   "metadata": {},
   "outputs": [
    {
     "name": "stdout",
     "output_type": "stream",
     "text": [
      "Help on built-in function sum in module builtins:\n",
      "\n",
      "sum(iterable, start=0, /)\n",
      "    Return the sum of a 'start' value (default: 0) plus an iterable of numbers\n",
      "    \n",
      "    When the iterable is empty, return the start value.\n",
      "    This function is intended specifically for use with numeric values and may\n",
      "    reject non-numeric types.\n",
      "\n",
      "Help on built-in function abs in module builtins:\n",
      "\n",
      "abs(x, /)\n",
      "    Return the absolute value of the argument.\n",
      "\n"
     ]
    }
   ],
   "source": [
    "# Write a Python program to print the documentation of a Python built-in function(s). \n",
    "help(sum)\n",
    "help(abs)"
   ]
  },
  {
   "cell_type": "markdown",
   "metadata": {},
   "source": [
    " Write a Python program to print the following here document. Go to the editor; Sample string : ”a string that you ”don’t” have to escape This is a ....... multi-line heredoc string ——–> example” "
   ]
  },
  {
   "cell_type": "code",
   "execution_count": 66,
   "metadata": {},
   "outputs": [
    {
     "name": "stdout",
     "output_type": "stream",
     "text": [
      "\"a string that you \"don't\" have to escape \n",
      " This\n",
      " is a ....... multi-line \n",
      " heredoc string ------> example\" \n"
     ]
    }
   ],
   "source": [
    "print(\"\\\"a string that you \\\"don\\'t\\\" have to escape \\n This\\n is a ....... multi-line \\n heredoc string ------> example\\\" \" )\n"
   ]
  },
  {
   "cell_type": "markdown",
   "metadata": {},
   "source": [
    " Writea Python program to calculate number of daysbetweentwodates; Sample dates : (2014, 7, 2), (2014, 7, 11) Expected output : 9 days "
   ]
  },
  {
   "cell_type": "code",
   "execution_count": 69,
   "metadata": {},
   "outputs": [
    {
     "name": "stdout",
     "output_type": "stream",
     "text": [
      "fdate : 22-12-1993\n",
      "sdate : 13-2-2005\n"
     ]
    },
    {
     "ename": "TypeError",
     "evalue": "an integer is required (got type str)",
     "output_type": "error",
     "traceback": [
      "\u001b[1;31m---------------------------------------------------------------------------\u001b[0m",
      "\u001b[1;31mTypeError\u001b[0m                                 Traceback (most recent call last)",
      "\u001b[1;32m<ipython-input-69-78f2840b26d8>\u001b[0m in \u001b[0;36m<module>\u001b[1;34m\u001b[0m\n\u001b[0;32m      2\u001b[0m \u001b[0md1\u001b[0m\u001b[1;33m=\u001b[0m\u001b[1;33m(\u001b[0m\u001b[0minput\u001b[0m\u001b[1;33m(\u001b[0m\u001b[1;34m\"fdate : \"\u001b[0m\u001b[1;33m)\u001b[0m\u001b[1;33m)\u001b[0m\u001b[1;33m\u001b[0m\u001b[1;33m\u001b[0m\u001b[0m\n\u001b[0;32m      3\u001b[0m \u001b[0md2\u001b[0m\u001b[1;33m=\u001b[0m\u001b[1;33m(\u001b[0m\u001b[0minput\u001b[0m\u001b[1;33m(\u001b[0m\u001b[1;34m\"sdate : \"\u001b[0m\u001b[1;33m)\u001b[0m\u001b[1;33m)\u001b[0m\u001b[1;33m\u001b[0m\u001b[1;33m\u001b[0m\u001b[0m\n\u001b[1;32m----> 4\u001b[1;33m \u001b[0mdelta\u001b[0m\u001b[1;33m=\u001b[0m\u001b[0mdate\u001b[0m\u001b[1;33m(\u001b[0m\u001b[0md2\u001b[0m\u001b[1;33m)\u001b[0m\u001b[1;33m-\u001b[0m\u001b[0mdate\u001b[0m\u001b[1;33m(\u001b[0m\u001b[0md1\u001b[0m\u001b[1;33m)\u001b[0m\u001b[1;33m\u001b[0m\u001b[1;33m\u001b[0m\u001b[0m\n\u001b[0m\u001b[0;32m      5\u001b[0m \u001b[0mprint\u001b[0m\u001b[1;33m(\u001b[0m\u001b[0mdelta\u001b[0m\u001b[1;33m.\u001b[0m\u001b[0mdays\u001b[0m\u001b[1;33m)\u001b[0m\u001b[1;33m\u001b[0m\u001b[1;33m\u001b[0m\u001b[0m\n",
      "\u001b[1;31mTypeError\u001b[0m: an integer is required (got type str)"
     ]
    }
   ],
   "source": [
    "from datetime import date\n",
    "d1=(input(\"fdate : \"))\n",
    "d2=(input(\"sdate : \"))\n",
    "delta=d2-d1\n",
    "print(delta.days)"
   ]
  },
  {
   "cell_type": "code",
   "execution_count": null,
   "metadata": {},
   "outputs": [],
   "source": []
  }
 ],
 "metadata": {
  "kernelspec": {
   "display_name": "Python 3",
   "language": "python",
   "name": "python3"
  },
  "language_info": {
   "codemirror_mode": {
    "name": "ipython",
    "version": 3
   },
   "file_extension": ".py",
   "mimetype": "text/x-python",
   "name": "python",
   "nbconvert_exporter": "python",
   "pygments_lexer": "ipython3",
   "version": "3.7.4"
  }
 },
 "nbformat": 4,
 "nbformat_minor": 2
}
