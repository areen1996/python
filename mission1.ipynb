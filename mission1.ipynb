{
 "cells": [
  {
   "cell_type": "code",
   "execution_count": null,
   "metadata": {},
   "outputs": [],
   "source": [
    "#1. Write a Python program to parse a string to Float or Integer. and print the type of them\n",
    "\n",
    "s=\"100\"\n",
    "print(type(s))\n",
    "ss=float(s)\n",
    "print(type(ss))"
   ]
  },
  {
   "cell_type": "code",
   "execution_count": null,
   "metadata": {},
   "outputs": [],
   "source": [
    "# Write a Python program to print two values without newline or space.\n",
    "\n",
    "a=\"areen\"\n",
    "b=\"alwaked\"\n",
    "print(a,b)\n",
    "\n",
    "\n"
   ]
  },
  {
   "cell_type": "code",
   "execution_count": 3,
   "metadata": {},
   "outputs": [
    {
     "name": "stdout",
     "output_type": "stream",
     "text": [
      "enter number: 2\n",
      "not division by 3\n"
     ]
    }
   ],
   "source": [
    "# Write a program that takes an input from the user and checks if it’s divisible by 3 or not. \n",
    "x=int(input(\"enter number: \"))\n",
    "if x%3==0:\n",
    "    print(\"division by 3\")\n",
    "else :\n",
    "    print(\"not division by 3\")\n"
   ]
  },
  {
   "cell_type": "code",
   "execution_count": 16,
   "metadata": {},
   "outputs": [
    {
     "name": "stdout",
     "output_type": "stream",
     "text": [
      "enter number: 50\n",
      "enter number: 21\n",
      "enter number: 4\n",
      "-365 \n",
      " -34733\n"
     ]
    }
   ],
   "source": [
    "# Write a program that reads three integers (a, b, and c), computes the following formulas and stores the results in the variables x1, x2 and prints the results of the program.\n",
    "\n",
    "a=int(input(\"enter number: \"))\n",
    "b=int(input(\"enter number: \"))\n",
    "c=int(input(\"enter number: \"))\n",
    "\n",
    "x1 = ((-b+c**4)/(2*a))-((3*(a+b**2))/c)\n",
    "x2 = ((a+(b**3))**2)/(c-(a**2))\n",
    "print(int(x1),\"\\n\",int(x2))"
   ]
  },
  {
   "cell_type": "code",
   "execution_count": 17,
   "metadata": {},
   "outputs": [
    {
     "name": "stdout",
     "output_type": "stream",
     "text": [
      "enter number: 4\n",
      "enter number: 46\n",
      "46\n"
     ]
    }
   ],
   "source": [
    " # Writeaprogramthatreadstwonumbersaandb. Printthemaximumvalueofthetwonumbers.\n",
    "a=int(input(\"enter number: \"))\n",
    "b=int(input(\"enter number: \"))\n",
    "print(max(a,b))\n",
    "    \n",
    "    \n",
    "    "
   ]
  },
  {
   "cell_type": "code",
   "execution_count": 18,
   "metadata": {},
   "outputs": [
    {
     "name": "stdout",
     "output_type": "stream",
     "text": [
      "enter number: 34\n",
      "enter number: 456\n",
      "enter number: 7\n",
      "456\n"
     ]
    }
   ],
   "source": [
    "# Write a program that reads three input values. Output the maximum value of the three.\n",
    "\n",
    "a=int(input(\"enter number: \"))\n",
    "b=int(input(\"enter number: \"))\n",
    "c=int(input(\"enter number: \"))\n",
    "print(max(a,b,c))"
   ]
  },
  {
   "cell_type": "code",
   "execution_count": 20,
   "metadata": {},
   "outputs": [
    {
     "name": "stdout",
     "output_type": "stream",
     "text": [
      "enter a value : 7\n",
      "enter b value : 0\n",
      "b is 0\n"
     ]
    }
   ],
   "source": [
    "# Write a program that reads two values a and b. If b is 0, output ”b is 0”.\n",
    "#Otherwise output the result of the division of a by b (a/b).\n",
    "\n",
    "a=int(input(\"enter a value : \"))\n",
    "b=int(input(\"enter b value : \"))\n",
    "if b==0:\n",
    "    print(\"b is 0\")\n",
    "else :\n",
    "    print(a/b)\n",
    "\n"
   ]
  },
  {
   "cell_type": "code",
   "execution_count": 23,
   "metadata": {},
   "outputs": [
    {
     "name": "stdout",
     "output_type": "stream",
     "text": [
      "num of days:365\n",
      "days = 365 \n",
      " weeks = 52.142857142857146 \n",
      " years = 1.0\n"
     ]
    }
   ],
   "source": [
    "#  Write a program to convert days into years, weeks and days. \n",
    "days=int(input( \"num of days:\"))\n",
    "weeks = days/7\n",
    "years=days/365\n",
    "print(\"days =\",days ,\"\\n\", \"weeks =\", weeks ,\"\\n\", \"years =\",years)\n"
   ]
  },
  {
   "cell_type": "code",
   "execution_count": 24,
   "metadata": {},
   "outputs": [
    {
     "name": "stdout",
     "output_type": "stream",
     "text": [
      "enter degrees in  Celsius is 54\n",
      "tempreture in fahrenheit =  129.2\n"
     ]
    }
   ],
   "source": [
    "#  Write a program to read temperature in Celsius and convert it into Fahrenheit. \n",
    "cls=int(input(\"enter degrees in  Celsius is \"))\n",
    "fh = cls*1.8+32\n",
    "print(\"tempreture in fahrenheit = \", fh)"
   ]
  },
  {
   "cell_type": "code",
   "execution_count": 26,
   "metadata": {},
   "outputs": [
    {
     "name": "stdout",
     "output_type": "stream",
     "text": [
      "enter number: 24\n",
      "enter number: 24\n",
      "error : division by zero\n"
     ]
    }
   ],
   "source": [
    "#  Write a program that reads two oat number and stores their values in variable x and y.\n",
    "#the program then computes the value (x2−y2) / (x−y) , stores the result in stores the result in a float named z and print\n",
    "#the value of z. if the computation division by zero,\n",
    "#the program must avoid that by printing an error message and exiting before computing the formula. \n",
    "\n",
    "x=int(input(\"enter number: \"))\n",
    "y=int(input(\"enter number: \"))\n",
    "if x-y==0:  \n",
    "    print(\"error : division by zero\")\n",
    "else:\n",
    "    z=((x**2)-(y**2))/(x-y)\n",
    "    print(z)"
   ]
  },
  {
   "cell_type": "code",
   "execution_count": 32,
   "metadata": {},
   "outputs": [
    {
     "name": "stdout",
     "output_type": "stream",
     "text": [
      "enter an integer Q-Range :120\n",
      "superior\n"
     ]
    }
   ],
   "source": [
    "#As you know Python has no switch statements so, Write a complete Python application that asks the user\n",
    "#to enter an integer Q-Range (”deviation IQ”) and output the IQ Classification according to the following table:\n",
    "#  Q Range (”deviation IQ”) -> IQ Classification\n",
    "# 130 and above -> Very Superior\n",
    "# 120 - 129 -> Superior \n",
    "# 110 - 119 -> High Average \n",
    "#    90 - 109 -> Average\n",
    "# 80 - 89 -> Low Average \n",
    "#    70 - 79 -> Borderline\n",
    " #   69 and below -> Extremely Low \n",
    "    \n",
    "q=int(input(\"enter an integer Q-Range :\"))\n",
    "if q>=130 :\n",
    "    print(\"very superior\")\n",
    "elif q>=120 and q<=129:\n",
    "    print(\"superior\")\n",
    "elif q>=110 and q<=119:\n",
    "    print(\"high average\")\n",
    "elif q>=90 and q<=109:\n",
    "    print(\"average\")\n",
    "elif q>=80 and q<=89 :\n",
    "    print(\"low average\")\n",
    "elif q>=70 and q<=79:\n",
    "    print(\"Borderline\")\n",
    "elif q<=69 :\n",
    "    print(\"Extremely Low \")\n",
    "    \n",
    "    "
   ]
  },
  {
   "cell_type": "code",
   "execution_count": 36,
   "metadata": {},
   "outputs": [
    {
     "name": "stdout",
     "output_type": "stream",
     "text": [
      "enter your mark: 101\n"
     ]
    }
   ],
   "source": [
    "# Write a program that classifies a student marks as follows:\n",
    "# [90−100] : A [80−90] : B [70−80] : C [60−70] : D [50−60] : E [0−50] : F\n",
    "mark =int(input(\"enter your mark: \"))\n",
    "if mark>=90 and mark<=100:\n",
    "    print(\"A\")\n",
    "elif mark>=80 and mark<90:\n",
    "    print(\"B\")\n",
    "elif mark>=70 and mark<80:\n",
    "    print(\"C\")\n",
    "elif mark>=60 and mark<70:\n",
    "    print(\"D\")\n",
    "elif mark>=50 and mark<60:\n",
    "    print(\"E\")\n",
    "elif mark>=0 and mark<50:\n",
    "    print(\"F\")"
   ]
  },
  {
   "cell_type": "code",
   "execution_count": 38,
   "metadata": {},
   "outputs": [
    {
     "name": "stdout",
     "output_type": "stream",
     "text": [
      "enter number: 3\n",
      "enter number: 4\n",
      "enter number: 5\n",
      "true\n"
     ]
    }
   ],
   "source": [
    "# Write a program that tests whether the formula a2 + b2 = c2 is true for three integers entered as input.\n",
    "\n",
    "a=int(input(\"enter number a: \"))\n",
    "b=int(input(\"enter number b: \"))\n",
    "c=int(input(\"enter number c: \"))\n",
    "if c**2==(a**2+b**2):\n",
    "    print(\"true\")\n",
    "else:\n",
    "    print(\"error\")\n",
    "\n",
    "\n",
    "\n",
    "\n",
    "\n"
   ]
  },
  {
   "cell_type": "code",
   "execution_count": 42,
   "metadata": {},
   "outputs": [
    {
     "name": "stdout",
     "output_type": "stream",
     "text": [
      "enter alphabet :wer\n",
      "constant\n"
     ]
    }
   ],
   "source": [
    "#  Write a Python program to check whether an alphabet is vowel or consonant. \n",
    "v=\"a,e,i,o,u\"\n",
    "x=input(\"enter alphabet :\")\n",
    "if x in v:\n",
    "    print(\"vowel\")\n",
    "else:\n",
    "    print(\"constant\")"
   ]
  },
  {
   "cell_type": "code",
   "execution_count": 49,
   "metadata": {},
   "outputs": [
    {
     "name": "stdout",
     "output_type": "stream",
     "text": [
      "enter number :77\n",
      "odd number\n"
     ]
    }
   ],
   "source": [
    "#Write a Python program to check whether a number is even or odd. \n",
    "\n",
    "num=int(input(\"enter number :\"))\n",
    "if num%2==0:\n",
    "    print(\"even number\")\n",
    "else:\n",
    "    print(\"odd number\")"
   ]
  },
  {
   "cell_type": "code",
   "execution_count": 51,
   "metadata": {},
   "outputs": [
    {
     "name": "stdout",
     "output_type": "stream",
     "text": [
      "Current date and time : \n",
      "2019-10-17 10:03:56\n"
     ]
    }
   ],
   "source": [
    "# Write a Python program to display the current date and time. Sample Output : Current date and time : 2019-07-05 21:25:48 \n",
    "\n",
    "import datetime\n",
    "now = datetime.datetime.now()\n",
    "print (\"Current date and time : \")\n",
    "print (now.strftime(\"%Y-%m-%d %H:%M:%S\"))"
   ]
  },
  {
   "cell_type": "code",
   "execution_count": 55,
   "metadata": {},
   "outputs": [
    {
     "name": "stdout",
     "output_type": "stream",
     "text": [
      "radius = 34\n",
      "area =  3629.84\n"
     ]
    }
   ],
   "source": [
    "# Write a Python program which accepts the radius of a circle from the user and compute the area; Sample Output :\n",
    "#r = 1.1 Area = 3.8013271108436504\n",
    "import math \n",
    "r=int(input(\"radius = \"))\n",
    "#area= (r**2)*3.14\n",
    "area=pow(r,2)*math.pi\n",
    "print(\"area = \" , area)"
   ]
  },
  {
   "cell_type": "code",
   "execution_count": 58,
   "metadata": {},
   "outputs": [
    {
     "name": "stdout",
     "output_type": "stream",
     "text": [
      "enter first and last name :areen alwaked\n",
      "['d', 'e', 'k', 'a', 'w', 'l', 'a', ' ', 'n', 'e', 'e', 'r', 'a']\n"
     ]
    }
   ],
   "source": [
    "# Write a Python program which accepts the user’s first and last name and print them in reverse order. \n",
    "fn=input(\"enter first and last name :\")\n",
    "print(list(reversed(fn)))\n",
    "\n",
    "      "
   ]
  },
  {
   "cell_type": "code",
   "execution_count": 60,
   "metadata": {},
   "outputs": [
    {
     "name": "stdout",
     "output_type": "stream",
     "text": [
      "enter number a: 2\n",
      "enter number b: 12\n",
      "enter number c: 2019\n",
      "The examination will start from : 2 / 12 / 2019\n"
     ]
    }
   ],
   "source": [
    "#  Write a Python program to read a three numbers from the user and display them as follow.\n",
    "#Sample Input = (11, 12, 2019) Sample Output : The examination will start from : 11 / 12 / 2019 \n",
    "\n",
    "a=int(input(\"enter number a: \"))\n",
    "b=int(input(\"enter number b: \"))\n",
    "c=int(input(\"enter number c: \"))\n",
    "print(\"The examination will start from :\",a,\"/\",b,\"/\",c)"
   ]
  },
  {
   "cell_type": "code",
   "execution_count": 61,
   "metadata": {},
   "outputs": [
    {
     "name": "stdout",
     "output_type": "stream",
     "text": [
      "number = 5\n",
      "155\n"
     ]
    }
   ],
   "source": [
    "# Write a Python program that accepts an integer (n)\n",
    "# and computes the value of n + nn + nnn. Sample value of n is 5 Expected Result : 615 \n",
    "n=int(input(\"number = \"))\n",
    "e=n+(n*n)+(n*n*n)\n",
    "print(e)"
   ]
  },
  {
   "cell_type": "code",
   "execution_count": 63,
   "metadata": {},
   "outputs": [
    {
     "name": "stdout",
     "output_type": "stream",
     "text": [
      "Help on built-in function sum in module builtins:\n",
      "\n",
      "sum(iterable, start=0, /)\n",
      "    Return the sum of a 'start' value (default: 0) plus an iterable of numbers\n",
      "    \n",
      "    When the iterable is empty, return the start value.\n",
      "    This function is intended specifically for use with numeric values and may\n",
      "    reject non-numeric types.\n",
      "\n",
      "Help on built-in function abs in module builtins:\n",
      "\n",
      "abs(x, /)\n",
      "    Return the absolute value of the argument.\n",
      "\n"
     ]
    }
   ],
   "source": [
    "# Write a Python program to print the documentation of a Python built-in function(s). \n",
    "help(sum)\n",
    "help(abs)"
   ]
  },
  {
   "cell_type": "markdown",
   "metadata": {},
   "source": [
    " Write a Python program to print the following here document. Go to the editor; Sample string : ”a string that you ”don’t” have to escape This is a ....... multi-line heredoc string ——–> example” "
   ]
  },
  {
   "cell_type": "code",
   "execution_count": 66,
   "metadata": {},
   "outputs": [
    {
     "name": "stdout",
     "output_type": "stream",
     "text": [
      "\"a string that you \"don't\" have to escape \n",
      " This\n",
      " is a ....... multi-line \n",
      " heredoc string ------> example\" \n"
     ]
    }
   ],
   "source": [
    "print(\"\\\"a string that you \\\"don\\'t\\\" have to escape \\n This\\n is a ....... multi-line \\n heredoc string ------> example\\\" \" )\n"
   ]
  },
  {
   "cell_type": "markdown",
   "metadata": {},
   "source": [
    " Writea Python program to calculate number of daysbetweentwodates; Sample dates : (2014, 7, 2), (2014, 7, 11) Expected output : 9 days "
   ]
  },
  {
   "cell_type": "code",
   "execution_count": 72,
   "metadata": {},
   "outputs": [
    {
     "name": "stdout",
     "output_type": "stream",
     "text": [
      "fdate : 23\n",
      "sdate : 23\n"
     ]
    },
    {
     "ename": "TypeError",
     "evalue": "an integer is required (got type str)",
     "output_type": "error",
     "traceback": [
      "\u001b[1;31m---------------------------------------------------------------------------\u001b[0m",
      "\u001b[1;31mTypeError\u001b[0m                                 Traceback (most recent call last)",
      "\u001b[1;32m<ipython-input-72-af0242ff81af>\u001b[0m in \u001b[0;36m<module>\u001b[1;34m\u001b[0m\n\u001b[0;32m      2\u001b[0m \u001b[0md1\u001b[0m\u001b[1;33m=\u001b[0m\u001b[0minput\u001b[0m\u001b[1;33m(\u001b[0m\u001b[1;34m\"fdate : \"\u001b[0m\u001b[1;33m)\u001b[0m\u001b[1;33m\u001b[0m\u001b[1;33m\u001b[0m\u001b[0m\n\u001b[0;32m      3\u001b[0m \u001b[0md2\u001b[0m\u001b[1;33m=\u001b[0m\u001b[0minput\u001b[0m\u001b[1;33m(\u001b[0m\u001b[1;34m\"sdate : \"\u001b[0m\u001b[1;33m)\u001b[0m\u001b[1;33m\u001b[0m\u001b[1;33m\u001b[0m\u001b[0m\n\u001b[1;32m----> 4\u001b[1;33m \u001b[0mdelta\u001b[0m \u001b[1;33m=\u001b[0m \u001b[0mdate\u001b[0m\u001b[1;33m(\u001b[0m\u001b[0md2\u001b[0m\u001b[1;33m)\u001b[0m \u001b[1;33m-\u001b[0m \u001b[0mdate\u001b[0m\u001b[1;33m(\u001b[0m\u001b[0md1\u001b[0m\u001b[1;33m)\u001b[0m\u001b[1;33m\u001b[0m\u001b[1;33m\u001b[0m\u001b[0m\n\u001b[0m\u001b[0;32m      5\u001b[0m \u001b[0mprint\u001b[0m\u001b[1;33m(\u001b[0m\u001b[0mdelta\u001b[0m\u001b[1;33m.\u001b[0m\u001b[0mdays\u001b[0m\u001b[1;33m)\u001b[0m\u001b[1;33m\u001b[0m\u001b[1;33m\u001b[0m\u001b[0m\n",
      "\u001b[1;31mTypeError\u001b[0m: an integer is required (got type str)"
     ]
    }
   ],
   "source": [
    "from datetime import date\n",
    "d1=input(\"fdate : \")\n",
    "d2=input(\"sdate : \")\n",
    "delta = date(d2) - date(d1)\n",
    "print(delta.days)"
   ]
  },
  {
   "cell_type": "markdown",
   "metadata": {},
   "source": [
    "Write a Python program to get the volume of a sphere with a given radius"
   ]
  },
  {
   "cell_type": "code",
   "execution_count": 1,
   "metadata": {},
   "outputs": [
    {
     "name": "stdout",
     "output_type": "stream",
     "text": [
      "enter radius : 33\n",
      "150532.55358940852\n"
     ]
    }
   ],
   "source": [
    "import math \n",
    "r=int(input(\"enter radius : \"))\n",
    "v=(4/3)*math.pi*(r**3)\n",
    "print(v)"
   ]
  },
  {
   "cell_type": "markdown",
   "metadata": {},
   "source": [
    " Write a Python program to get the difference between a given number and 17, if the number is greater than 17 return double the absolute difference. "
   ]
  },
  {
   "cell_type": "code",
   "execution_count": 4,
   "metadata": {},
   "outputs": [
    {
     "name": "stdout",
     "output_type": "stream",
     "text": [
      "enter number : 55\n",
      "76\n"
     ]
    }
   ],
   "source": [
    "num=int(input(\"enter number : \"))\n",
    "dif=num-17\n",
    "if dif>17:\n",
    "    print (abs(dif)*2)\n"
   ]
  },
  {
   "cell_type": "markdown",
   "metadata": {},
   "source": [
    " Write a Python program to test whether a number is within (less than) 100 or 1000 or 2000 and print the value divided by 5 and multiplied by 25. "
   ]
  },
  {
   "cell_type": "code",
   "execution_count": 8,
   "metadata": {},
   "outputs": [
    {
     "name": "stdout",
     "output_type": "stream",
     "text": [
      "enter number : 7777\n"
     ]
    }
   ],
   "source": [
    "num=int(input(\"enter number : \"))\n",
    "if num<100 or num<1000 or num<2000 :\n",
    "    if num%5==0:\n",
    "        print(num , \"   \" , num*25 )        "
   ]
  },
  {
   "cell_type": "markdown",
   "metadata": {},
   "source": [
    " Write a Python program to calculate the sum of three given numbers, if the values are equal then return three times of their sum. "
   ]
  },
  {
   "cell_type": "code",
   "execution_count": 13,
   "metadata": {},
   "outputs": [
    {
     "name": "stdout",
     "output_type": "stream",
     "text": [
      "enter number a: 2\n",
      "enter number b: 2\n",
      "enter number c: 2\n",
      "6 6 6\n"
     ]
    }
   ],
   "source": [
    "a=int(input(\"enter number a: \"))\n",
    "b=int(input(\"enter number b: \"))\n",
    "c=int(input(\"enter number c: \"))\n",
    "s=a+b+c\n",
    "if a==b and a==c and b==c:\n",
    "    print(s,s,s)"
   ]
  },
  {
   "cell_type": "markdown",
   "metadata": {},
   "source": [
    " Write a Python program to swap the values of two given numbers"
   ]
  },
  {
   "cell_type": "code",
   "execution_count": 14,
   "metadata": {},
   "outputs": [
    {
     "name": "stdout",
     "output_type": "stream",
     "text": [
      "enter number a =2\n",
      "enter number b =3\n",
      "a=  3 b=  2\n"
     ]
    }
   ],
   "source": [
    "a=int(input(\"enter number a =\"))\n",
    "b=int(input(\"enter number b =\"))\n",
    "a,b=b,a\n",
    "print(\"a= \",a ,\"b= \",b)"
   ]
  },
  {
   "cell_type": "markdown",
   "metadata": {},
   "source": [
    " Write a Python program to check whether a specified value is contained in a group of values or if a character is given in a string; Test Data : 3 -> [1, 5, 8, 3] : True -1 -> [1, 5, 8, 3] : False\n"
   ]
  },
  {
   "cell_type": "code",
   "execution_count": 20,
   "metadata": {},
   "outputs": [
    {
     "name": "stdout",
     "output_type": "stream",
     "text": [
      "enter value A\n",
      "Fals\n"
     ]
    }
   ],
   "source": [
    "v=input(\"enter value \")\n",
    "lst=[1,3,4,6,7,8,9,4,3,45,500]\n",
    "s=\"jhgdihgidgdfihgkhgkdjfgkhgurehg\"\n",
    "if v in lst or v in s:\n",
    "    print(\"True\")\n",
    "else:\n",
    "    print(\"Fals\")"
   ]
  },
  {
   "cell_type": "markdown",
   "metadata": {},
   "source": [
    " Write a Python program that will accept the base and height of a triangle and compute the area. "
   ]
  },
  {
   "cell_type": "code",
   "execution_count": 1,
   "metadata": {},
   "outputs": [
    {
     "name": "stdout",
     "output_type": "stream",
     "text": [
      "enter base of triangle3\n",
      "enter height of triangle3\n",
      "4.5\n"
     ]
    }
   ],
   "source": [
    "b=int(input(\"enter base of triangle\"))\n",
    "h=int(input(\"enter height of triangle\"))\n",
    "a = 0.5*b*h\n",
    "print(a)"
   ]
  },
  {
   "cell_type": "markdown",
   "metadata": {},
   "source": [
    " Write a Python program to sum of three given integers. However, if two values are equal sum will be zero. "
   ]
  },
  {
   "cell_type": "code",
   "execution_count": 12,
   "metadata": {},
   "outputs": [
    {
     "name": "stdout",
     "output_type": "stream",
     "text": [
      "enter number a: 3\n",
      "enter number b: 2\n",
      "enter number c: 3\n",
      "0\n"
     ]
    }
   ],
   "source": [
    "import math\n",
    "a=int(input(\"enter number a: \"))\n",
    "b=int(input(\"enter number b: \"))\n",
    "c=int(input(\"enter number c: \"))\n",
    "if a==b or a==c or b==c :\n",
    "    s=0\n",
    "    print(s)\n",
    "else:\n",
    "    s=a+b+c\n",
    "    print(s)\n",
    "    "
   ]
  },
  {
   "cell_type": "markdown",
   "metadata": {},
   "source": [
    " Write a Python program to sum of two given integers. However, if the sum is between 15 to 20 it will return 20. 30 to 40 it will return 50. 150 to 167 it will return 210. "
   ]
  },
  {
   "cell_type": "code",
   "execution_count": 18,
   "metadata": {},
   "outputs": [
    {
     "name": "stdout",
     "output_type": "stream",
     "text": [
      "enter number a: 33\n",
      "enter number b: 2\n",
      "50\n"
     ]
    }
   ],
   "source": [
    "a=int(input(\"enter number a: \"))\n",
    "b=int(input(\"enter number b: \"))\n",
    "s=a+b\n",
    "if s>=15 and s<=20:\n",
    "     print(20) \n",
    "elif s>=30 and s<=40:\n",
    "    print(50) \n",
    "elif s>=150 and s<=167:\n",
    "    print(210)"
   ]
  },
  {
   "cell_type": "markdown",
   "metadata": {},
   "source": [
    " Write a Python program that will return true if the two given integer values are equal or their sum or difference is 5."
   ]
  },
  {
   "cell_type": "code",
   "execution_count": 24,
   "metadata": {},
   "outputs": [
    {
     "name": "stdout",
     "output_type": "stream",
     "text": [
      "enter number a: 3\n",
      "enter number b: 3\n",
      "True\n"
     ]
    }
   ],
   "source": [
    "a=int(input(\"enter number a: \"))\n",
    "b=int(input(\"enter number b: \"))\n",
    "s=a+b\n",
    "d=abs(a-b)\n",
    "if a==b or s==5 or d==5:\n",
    "    print(\"True\")"
   ]
  },
  {
   "cell_type": "markdown",
   "metadata": {},
   "source": [
    " Write a Python program to solve (x + y)∗(x + y), x and y are an inputs; Expected Output : ((4 + 3)2) = 49 "
   ]
  },
  {
   "cell_type": "code",
   "execution_count": 26,
   "metadata": {},
   "outputs": [
    {
     "name": "stdout",
     "output_type": "stream",
     "text": [
      "enter number x: 4\n",
      "enter number y: 4\n",
      "64\n"
     ]
    }
   ],
   "source": [
    "x=int(input(\"enter number x: \"))\n",
    "y=int(input(\"enter number y: \"))\n",
    "print((x+y)**2)"
   ]
  },
  {
   "cell_type": "markdown",
   "metadata": {},
   "source": [
    " Write a Python program to compute the future value of a specified principal amount, rate of interest, and a number of years. Test Data : amt = 10000, int = 3.5, years = 7 Expected Output : 12722.79 "
   ]
  },
  {
   "cell_type": "code",
   "execution_count": 33,
   "metadata": {},
   "outputs": [
    {
     "name": "stdout",
     "output_type": "stream",
     "text": [
      "enter specified principal amount : 10000\n",
      "enter rate of interest : 3.5\n",
      "number of years : 7\n",
      "Expected Output : 373669453.125\n"
     ]
    }
   ],
   "source": [
    "amt=int(input(\"enter specified principal amount : \"))\n",
    "rate=float(input(\"enter rate of interest : \"))\n",
    "years=int(input(\"number of years : \"))\n",
    "expected=((1+rate)**years)*amt\n",
    "print(\"Expected Output :\" ,expected )"
   ]
  },
  {
   "cell_type": "markdown",
   "metadata": {},
   "source": [
    "Write a Python program to compute the distance between the points (x1, y1) and (x2, y2). (the distance between two points calculated using Phythagoros theorem) "
   ]
  },
  {
   "cell_type": "code",
   "execution_count": 37,
   "metadata": {},
   "outputs": [
    {
     "name": "stdout",
     "output_type": "stream",
     "text": [
      "Wall time: 0 ns\n",
      "enter number x1: 1\n",
      "enter number y1: 4\n",
      "enter number x2: 7\n",
      "enter number y2: 8\n",
      "2.220446049250313e-16\n"
     ]
    }
   ],
   "source": [
    "import math\n",
    "x1=int(input(\"enter number x1: \"))\n",
    "y1=int(input(\"enter number y1: \"))\n",
    "x2=int(input(\"enter number x2: \"))\n",
    "y2=int(input(\"enter number y2: \"))\n",
    "dst=0.5**((((x1-x2)**2))+ (((y1-y2)**2)))\n",
    "print(dst)"
   ]
  },
  {
   "cell_type": "markdown",
   "metadata": {},
   "source": [
    " Write a program to get execution time for a Python command. (Use the Jupyter’s magic commands)"
   ]
  },
  {
   "cell_type": "code",
   "execution_count": 35,
   "metadata": {},
   "outputs": [
    {
     "name": "stdout",
     "output_type": "stream",
     "text": [
      "Wall time: 0 ns\n"
     ]
    }
   ],
   "source": [
    "%time"
   ]
  },
  {
   "cell_type": "markdown",
   "metadata": {},
   "source": [
    " Write a Python program to convert height (in feet and inches) to centimeters. "
   ]
  },
  {
   "cell_type": "code",
   "execution_count": 39,
   "metadata": {},
   "outputs": [
    {
     "name": "stdout",
     "output_type": "stream",
     "text": [
      "enter hieght in foot : 5\n",
      "enter hieght in inch : 8\n",
      "172.72\n"
     ]
    }
   ],
   "source": [
    "f=int (input(\"enter hieght in foot : \"))\n",
    "i=int (input(\"enter hieght in inch : \"))\n",
    "c=((f*12)+i)*2.54\n",
    "print(c)"
   ]
  },
  {
   "cell_type": "markdown",
   "metadata": {},
   "source": [
    " Write a Python program to calculate the hypotenuse of a right-angled triangle. "
   ]
  },
  {
   "cell_type": "code",
   "execution_count": 1,
   "metadata": {},
   "outputs": [
    {
     "name": "stdout",
     "output_type": "stream",
     "text": [
      "enter number x2: 3\n",
      "enter number y2: 4\n",
      "5.0\n"
     ]
    }
   ],
   "source": [
    "x2=int(input(\"enter number x2: \"))\n",
    "y2=int(input(\"enter number y2: \"))\n",
    "hyp=((x2**2)+ (y2**2))**0.5\n",
    "print(hyp)\n"
   ]
  },
  {
   "cell_type": "markdown",
   "metadata": {},
   "source": [
    " Write a Python program to convert the distance (in feet) to inches, yards, and miles. "
   ]
  },
  {
   "cell_type": "code",
   "execution_count": 3,
   "metadata": {},
   "outputs": [
    {
     "name": "stdout",
     "output_type": "stream",
     "text": [
      "enter dst in feet : 10\n",
      "120 \n",
      " 3.3333333333333335 \n",
      " 52800.0\n"
     ]
    }
   ],
   "source": [
    "feet=int(input(\"enter dst in feet : \"))\n",
    "inch=feet*12\n",
    "yards=feet/3\n",
    "miles=5280.0*feet\n",
    "print(inch , \"\\n\", yards,\"\\n\",miles)\n"
   ]
  },
  {
   "cell_type": "markdown",
   "metadata": {},
   "source": [
    "# 41. Write a Python program to convert the distance (in Minuets) to days, months, and years. "
   ]
  },
  {
   "cell_type": "code",
   "execution_count": 5,
   "metadata": {},
   "outputs": [
    {
     "name": "stdout",
     "output_type": "stream",
     "text": [
      "enter number of minuets :60\n",
      "86400 \n",
      " 2592000 \n",
      " 31104000\n"
     ]
    }
   ],
   "source": [
    "mint=int(input(\"enter number of minuets :\"))\n",
    "day=24*60*mint\n",
    "month=30*day\n",
    "year=12*month\n",
    "print(day ,\"\\n\",month,\"\\n\", year)"
   ]
  },
  {
   "cell_type": "markdown",
   "metadata": {},
   "source": [
    "42. Write a Python program to convert the distance (in Years) months, and days."
   ]
  },
  {
   "cell_type": "code",
   "execution_count": 7,
   "metadata": {},
   "outputs": [
    {
     "name": "stdout",
     "output_type": "stream",
     "text": [
      "enter number of years :1\n",
      "12 \n",
      " 360\n"
     ]
    }
   ],
   "source": [
    "year=int(input(\"enter number of years :\"))\n",
    "month=year*12\n",
    "days=month*30\n",
    "print(month,\"\\n\",days)"
   ]
  },
  {
   "cell_type": "markdown",
   "metadata": {},
   "source": [
    "43. Write a Python program to calculate body mass index for a give height and Weight. "
   ]
  },
  {
   "cell_type": "code",
   "execution_count": 9,
   "metadata": {},
   "outputs": [
    {
     "name": "stdout",
     "output_type": "stream",
     "text": [
      "enter your wight in kg:65\n",
      "enter your hieght in m:1.62\n",
      "24.76756591982929\n"
     ]
    }
   ],
   "source": [
    "w=float(input(\"enter your wight in kg:\"))\n",
    "h=float(input(\"enter your hieght in m:\"))\n",
    "bmi=w/(h**2)\n",
    "print(bmi)"
   ]
  },
  {
   "cell_type": "markdown",
   "metadata": {},
   "source": [
    "44. Write a Python program to sort five given integers and print them"
   ]
  },
  {
   "cell_type": "code",
   "execution_count": 19,
   "metadata": {},
   "outputs": [
    {
     "name": "stdout",
     "output_type": "stream",
     "text": [
      "enter 5 int num: 75964\n",
      "['4', '5', '6', '7', '9']\n"
     ]
    }
   ],
   "source": [
    "x=input(\"enter 5 int num: \")\n",
    "l=list(x)\n",
    "print(sorted(l))"
   ]
  },
  {
   "cell_type": "markdown",
   "metadata": {},
   "source": [
    "45. Write a Python program to get the details (documentation) of the math module. "
   ]
  },
  {
   "cell_type": "code",
   "execution_count": 23,
   "metadata": {},
   "outputs": [
    {
     "name": "stdout",
     "output_type": "stream",
     "text": [
      "['__doc__', '__loader__', '__name__', '__package__', '__spec__', 'acos', 'acosh', 'asin', 'asinh', 'atan', 'atan2', 'atanh', 'ceil', 'copysign', 'cos', 'cosh', 'degrees', 'e', 'erf', 'erfc', 'exp', 'expm1', 'fabs', 'factorial', 'floor', 'fmod', 'frexp', 'fsum', 'gamma', 'gcd', 'hypot', 'inf', 'isclose', 'isfinite', 'isinf', 'isnan', 'ldexp', 'lgamma', 'log', 'log10', 'log1p', 'log2', 'modf', 'nan', 'pi', 'pow', 'radians', 'remainder', 'sin', 'sinh', 'sqrt', 'tan', 'tanh', 'tau', 'trunc']\n"
     ]
    }
   ],
   "source": [
    "import math \n",
    "modul=dir(math)\n",
    "print(modul)"
   ]
  },
  {
   "cell_type": "markdown",
   "metadata": {},
   "source": [
    "46. Write a Python program to get the ASCII code of a given character"
   ]
  },
  {
   "cell_type": "code",
   "execution_count": 25,
   "metadata": {},
   "outputs": [
    {
     "name": "stdout",
     "output_type": "stream",
     "text": [
      "enter character: ;\n",
      "59\n"
     ]
    }
   ],
   "source": [
    "character=input(\"enter character: \")\n",
    "asci=ord(character)\n",
    "print(asci)"
   ]
  },
  {
   "cell_type": "markdown",
   "metadata": {},
   "source": [
    " Write a Python program to find the available built-in modules. (built-in modules doesn’t require to be PIP’ed install) "
   ]
  },
  {
   "cell_type": "code",
   "execution_count": 26,
   "metadata": {},
   "outputs": [
    {
     "name": "stdout",
     "output_type": "stream",
     "text": [
      "_abc, _ast, _bisect, _blake2, _codecs, _codecs_cn, _codecs_hk,\n",
      "_codecs_iso2022, _codecs_jp, _codecs_kr, _codecs_tw, _collections,\n",
      "_contextvars, _csv, _datetime, _functools, _heapq, _imp, _io, _json,\n",
      "_locale, _lsprof, _md5, _multibytecodec, _opcode, _operator, _pickle,\n",
      "_random, _sha1, _sha256, _sha3, _sha512, _signal, _sre, _stat,\n",
      "_string, _struct, _symtable, _thread, _tracemalloc, _warnings,\n",
      "_weakref, _winapi, array, atexit, audioop, binascii, builtins, cmath,\n",
      "errno, faulthandler, gc, itertools, marshal, math, mmap, msvcrt, nt,\n",
      "parser, sys, time, winreg, xxsubtype, zipimport, zlib\n"
     ]
    }
   ],
   "source": [
    "import sys\n",
    "import textwrap\n",
    "module_name = ', '.join(sorted(sys.builtin_module_names))\n",
    "print(textwrap.fill(module_name, width=70))"
   ]
  },
  {
   "cell_type": "markdown",
   "metadata": {},
   "source": [
    "48. Write a Python program to get the size of an object in bytes. "
   ]
  },
  {
   "cell_type": "code",
   "execution_count": 30,
   "metadata": {},
   "outputs": [
    {
     "name": "stdout",
     "output_type": "stream",
     "text": [
      "enter obj :54tr\n",
      "Memory size of '54tr' = 53 bytes\n"
     ]
    }
   ],
   "source": [
    "import sys\n",
    "x=input(\"enter obj :\")\n",
    "print(\"Memory size of '\"+x+\"' = \"+str(sys.getsizeof(x))+ \" bytes\")"
   ]
  },
  {
   "cell_type": "markdown",
   "metadata": {},
   "source": [
    "49. Write a Python program to concatenate 4 given strings. "
   ]
  },
  {
   "cell_type": "code",
   "execution_count": 31,
   "metadata": {},
   "outputs": [
    {
     "name": "stdout",
     "output_type": "stream",
     "text": [
      "enter string :areen\n",
      "enter string :radi\n",
      "enter string :ahmad\n",
      "enter string :alwaked\n",
      "areenradiahmadalwaked\n"
     ]
    }
   ],
   "source": [
    "str1=input(\"enter string :\")\n",
    "str2=input(\"enter string :\")\n",
    "str3=input(\"enter string :\")\n",
    "str4=input(\"enter string :\")\n",
    "print(str1+str2+str3+str4)"
   ]
  },
  {
   "cell_type": "markdown",
   "metadata": {},
   "source": [
    " Write a Python program to check if a string is numeric (all it’s values are numeric). "
   ]
  },
  {
   "cell_type": "code",
   "execution_count": 35,
   "metadata": {},
   "outputs": [
    {
     "name": "stdout",
     "output_type": "stream",
     "text": [
      "enter any string :544g\n",
      "not numeric\n"
     ]
    }
   ],
   "source": [
    "string = input(\"enter any string :\")\n",
    "if string.isnumeric():\n",
    "    print(\"True\")\n",
    "else:\n",
    "    print(\"not numeric\")\n"
   ]
  },
  {
   "cell_type": "markdown",
   "metadata": {},
   "source": [
    " Write a Python program to clear the screen or terminal."
   ]
  },
  {
   "cell_type": "code",
   "execution_count": null,
   "metadata": {},
   "outputs": [],
   "source": [
    "import os\n",
    "import time\n",
    "# for windows\n",
    "# os.system('cls')\n",
    "os.system(\"ls\")\n",
    "time.sleep(2)\n",
    "# Ubuntu version 10.10\n",
    "os.system('clear')"
   ]
  },
  {
   "cell_type": "markdown",
   "metadata": {},
   "source": [
    " Write a Python program to check if a number is positive, negative or zero. "
   ]
  },
  {
   "cell_type": "code",
   "execution_count": 39,
   "metadata": {},
   "outputs": [
    {
     "name": "stdout",
     "output_type": "stream",
     "text": [
      "enter number : 000000\n",
      "zero\n"
     ]
    }
   ],
   "source": [
    "num=int(input(\"enter number : \"))\n",
    "if num==0:\n",
    "    print(\"zero\")\n",
    "elif num>0:\n",
    "    print('positive')\n",
    "elif num<0:\n",
    "    print(\"nigative\")"
   ]
  },
  {
   "cell_type": "markdown",
   "metadata": {},
   "source": [
    "Write a Python program to input a number, if it is not a number generate an error message. "
   ]
  },
  {
   "cell_type": "code",
   "execution_count": 113,
   "metadata": {},
   "outputs": [
    {
     "name": "stdout",
     "output_type": "stream",
     "text": [
      "Input a number: d\n",
      " error message : not number \n"
     ]
    }
   ],
   "source": [
    "a = input(\"Input a number: \")\n",
    "if a.isdigit() is True:\n",
    "    print(\"yes number \")\n",
    "else :\n",
    "    print(\" error message : not number \")"
   ]
  },
  {
   "cell_type": "markdown",
   "metadata": {},
   "source": [
    " Write a Python program to prove that two string variables of same value point same memory location. "
   ]
  },
  {
   "cell_type": "code",
   "execution_count": 107,
   "metadata": {},
   "outputs": [
    {
     "name": "stdout",
     "output_type": "stream",
     "text": [
      "enter string: ww\n",
      "enter string: ww\n",
      "not same memory location.\n"
     ]
    }
   ],
   "source": [
    "str1=input(\"enter string: \")\n",
    "str2=input(\"enter string: \")\n",
    "if id(str1)==id(str2):\n",
    "    print(\"same memory location\")\n",
    "else:\n",
    "    print(\"not same memory location.\")"
   ]
  },
  {
   "cell_type": "markdown",
   "metadata": {},
   "source": [
    " Write a Python program to check if lowercase letters exist in a string. "
   ]
  },
  {
   "cell_type": "code",
   "execution_count": 97,
   "metadata": {},
   "outputs": [
    {
     "name": "stdout",
     "output_type": "stream",
     "text": [
      "enter string: kdhISHRUER76UGS76kgsf\n",
      "k\n",
      "d\n",
      "h\n",
      "k\n",
      "g\n",
      "s\n",
      "f\n"
     ]
    }
   ],
   "source": [
    "s=input(\"enter string: \")\n",
    "for i in s:\n",
    "    if i.islower()==True:\n",
    "        print(i)\n",
    "        "
   ]
  },
  {
   "cell_type": "markdown",
   "metadata": {},
   "source": [
    " Write a Python program to input two integers in a single line. "
   ]
  },
  {
   "cell_type": "code",
   "execution_count": 135,
   "metadata": {},
   "outputs": [
    {
     "name": "stdout",
     "output_type": "stream",
     "text": [
      "enter number :22\n",
      "enter number :33\n",
      "x=  22 \n",
      " y=  33\n"
     ]
    }
   ],
   "source": [
    "x,y=(input(\"enter number :\"),input(\"enter number :\"))\n",
    "print(\"x= \",x ,\"\\n\",\"y= \", y)\n"
   ]
  },
  {
   "cell_type": "markdown",
   "metadata": {},
   "source": [
    "Write a Python function to find the maximum and minimum numbers from a sequence of numbers. Note: Do not use built-in functions. "
   ]
  },
  {
   "cell_type": "code",
   "execution_count": 151,
   "metadata": {},
   "outputs": [
    {
     "name": "stdout",
     "output_type": "stream",
     "text": [
      "enter sequence of number :38746\n",
      "max : 8 \n",
      " min : 3\n"
     ]
    }
   ],
   "source": [
    "n=list(input(\"enter sequence of number :\"))\n",
    "mx=n[0]\n",
    "mn=n[0]\n",
    "for num in n:\n",
    "    if num> mx:\n",
    "        mx = num\n",
    "    elif num< mn:\n",
    "        mn = num\n",
    "print(\"max :\" , mx , \"\\n\",\"min :\" , mn)"
   ]
  },
  {
   "cell_type": "markdown",
   "metadata": {},
   "source": [
    " Write a Python program to convert an integer to binary keep leading zeros. Sample data : 50 Expected output : 00001100, 0000001100 "
   ]
  },
  {
   "cell_type": "code",
   "execution_count": 114,
   "metadata": {},
   "outputs": [
    {
     "name": "stdout",
     "output_type": "stream",
     "text": [
      "enter number 333\n",
      "0b101001101\n"
     ]
    }
   ],
   "source": [
    "n=int(input(\"enter number \"))\n",
    "print(bin(n))"
   ]
  },
  {
   "cell_type": "markdown",
   "metadata": {},
   "source": [
    " Write a python program to convert decimal to hexadecimal. Sample decimal number: 30, 4 Expected output: 1e, 04 "
   ]
  },
  {
   "cell_type": "code",
   "execution_count": 117,
   "metadata": {},
   "outputs": [
    {
     "name": "stdout",
     "output_type": "stream",
     "text": [
      "enter number 34\n",
      "0x22\n"
     ]
    }
   ],
   "source": [
    "n=int(input(\"enter number \"))\n",
    "print(hex(n))"
   ]
  },
  {
   "cell_type": "markdown",
   "metadata": {},
   "source": [
    " Write a Python program to empty a variable without destroying it. Sample data: n=20 Expected Output : None "
   ]
  },
  {
   "cell_type": "code",
   "execution_count": 7,
   "metadata": {},
   "outputs": [
    {
     "name": "stdout",
     "output_type": "stream",
     "text": [
      "enter data :uytjhbkj\n",
      "None\n"
     ]
    }
   ],
   "source": [
    "n=input(\"enter data :\")\n",
    "n=None\n",
    "print(n)"
   ]
  },
  {
   "cell_type": "markdown",
   "metadata": {},
   "source": [
    " Write a Python program to add leading zeroes to a string. "
   ]
  },
  {
   "cell_type": "code",
   "execution_count": 9,
   "metadata": {},
   "outputs": [
    {
     "name": "stdout",
     "output_type": "stream",
     "text": [
      "enter string : areenlllllll\n",
      "0areenlllllll\n"
     ]
    }
   ],
   "source": [
    "string=input(\"enter string : \")\n",
    "print(\"0\"+string)"
   ]
  },
  {
   "cell_type": "markdown",
   "metadata": {},
   "source": [
    " Write a Python program to calculate the time runs (difference between start and current time) of a program. "
   ]
  },
  {
   "cell_type": "code",
   "execution_count": 11,
   "metadata": {},
   "outputs": [
    {
     "name": "stdout",
     "output_type": "stream",
     "text": [
      "0\n",
      "1\n",
      "2\n",
      "3\n",
      "4\n",
      "0.000297517000035441\n",
      "0\n",
      "1\n",
      "2\n",
      "3\n",
      "4\n",
      "5\n",
      "6\n",
      "7\n",
      "8\n",
      "9\n",
      "10\n",
      "11\n",
      "12\n",
      "13\n",
      "14\n",
      "0.0004536349999852973\n"
     ]
    }
   ],
   "source": [
    "from timeit import default_timer\n",
    "def timer(n):\n",
    "    start = default_timer()\n",
    "    # some code here\n",
    "    for row in range(0,n):\n",
    "        print(row)\n",
    "    print(default_timer() - start)\n",
    "\n",
    "timer(5)\n",
    "timer(15)"
   ]
  },
  {
   "cell_type": "markdown",
   "metadata": {},
   "source": [
    " Write a Python program to find the available built-in modules. (built-in modules doesn’t require to be PIP’ed install) "
   ]
  },
  {
   "cell_type": "code",
   "execution_count": null,
   "metadata": {},
   "outputs": [
    {
     "name": "stdout",
     "output_type": "stream",
     "text": [
      "\n",
      "Welcome to Python 3.7's help utility!\n",
      "\n",
      "If this is your first time using Python, you should definitely check out\n",
      "the tutorial on the Internet at https://docs.python.org/3.7/tutorial/.\n",
      "\n",
      "Enter the name of any module, keyword, or topic to get help on writing\n",
      "Python programs and using Python modules.  To quit this help utility and\n",
      "return to the interpreter, just type \"quit\".\n",
      "\n",
      "To get a list of available modules, keywords, symbols, or topics, type\n",
      "\"modules\", \"keywords\", \"symbols\", or \"topics\".  Each module also comes\n",
      "with a one-line summary of what it does; to list the modules whose name\n",
      "or summary contain a given string such as \"spam\", type \"modules spam\".\n",
      "\n",
      "help> build in modules\n",
      "No Python documentation found for 'build in modules'.\n",
      "Use help() to get the interactive help utility.\n",
      "Use help(str) for help on the str class.\n",
      "\n",
      "help> sum\n",
      "Help on built-in function sum in module builtins:\n",
      "\n",
      "sum(iterable, start=0, /)\n",
      "    Return the sum of a 'start' value (default: 0) plus an iterable of numbers\n",
      "    \n",
      "    When the iterable is empty, return the start value.\n",
      "    This function is intended specifically for use with numeric values and may\n",
      "    reject non-numeric types.\n",
      "\n"
     ]
    }
   ],
   "source": [
    "help()"
   ]
  },
  {
   "cell_type": "markdown",
   "metadata": {},
   "source": [
    " Write a Python program to get the details (documentation) of the math module."
   ]
  },
  {
   "cell_type": "code",
   "execution_count": 3,
   "metadata": {},
   "outputs": [
    {
     "data": {
      "text/plain": [
       "2659257230024"
      ]
     },
     "execution_count": 3,
     "metadata": {},
     "output_type": "execute_result"
    }
   ],
   "source": [
    "id(sum)"
   ]
  },
  {
   "cell_type": "code",
   "execution_count": null,
   "metadata": {},
   "outputs": [],
   "source": [
    " Write a Python program to prove that two string variables are equals. "
   ]
  },
  {
   "cell_type": "code",
   "execution_count": 5,
   "metadata": {},
   "outputs": [
    {
     "name": "stdout",
     "output_type": "stream",
     "text": [
      "enter string: dkhf\n",
      "enter string: kfdh\n",
      "False\n"
     ]
    }
   ],
   "source": [
    "str1=input(\"enter string: \")\n",
    "str2=input(\"enter string: \")\n",
    "if str1==str2:\n",
    "    print(\"True\")\n",
    "else:\n",
    "    print(\"False\")"
   ]
  },
  {
   "cell_type": "code",
   "execution_count": null,
   "metadata": {},
   "outputs": [],
   "source": []
  },
  {
   "cell_type": "code",
   "execution_count": null,
   "metadata": {},
   "outputs": [],
   "source": []
  }
 ],
 "metadata": {
  "kernelspec": {
   "display_name": "Python 3",
   "language": "python",
   "name": "python3"
  },
  "language_info": {
   "codemirror_mode": {
    "name": "ipython",
    "version": 3
   },
   "file_extension": ".py",
   "mimetype": "text/x-python",
   "name": "python",
   "nbconvert_exporter": "python",
   "pygments_lexer": "ipython3",
   "version": "3.7.4"
  }
 },
 "nbformat": 4,
 "nbformat_minor": 2
}
